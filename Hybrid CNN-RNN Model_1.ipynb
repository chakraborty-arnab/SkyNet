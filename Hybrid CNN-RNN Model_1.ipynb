{
 "cells": [
  {
   "cell_type": "markdown",
   "id": "ec019684",
   "metadata": {},
   "source": [
    "<div style=\"text-align: right\">Group 4: <br> </div>\n",
    "<div style=\"text-align: right\">Viswanath Raju Indukuri <br> </div>\n",
    "<div style=\"text-align: right\">Arnab Chakraborty <br> </div>\n",
    "\n",
    "--------------------------------------------------------------------------------------------\n",
    "\n",
    "# Final Project: INFO6106 Neural Modeling Methods & Tools\n",
    "\n"
   ]
  },
  {
   "cell_type": "markdown",
   "id": "833f1428",
   "metadata": {},
   "source": [
    "# Lake Effect Precipitation Prediction using CNN and RNN\n",
    "\n",
    "(1 day in Advance)"
   ]
  },
  {
   "cell_type": "markdown",
   "id": "4bb94b32",
   "metadata": {},
   "source": [
    "**Import necessary libraries**"
   ]
  },
  {
   "cell_type": "code",
   "execution_count": 1,
   "id": "caaafb93",
   "metadata": {},
   "outputs": [],
   "source": [
    "import os\n",
    "import pandas as pd\n",
    "import numpy as np\n",
    "from tqdm import tqdm\n",
    "from datetime import date\n",
    "\n",
    "import pickle\n",
    "import cv2\n",
    "\n",
    "import matplotlib.pyplot as plt\n",
    "import matplotlib.cm as cm\n",
    "import seaborn as sns\n",
    "import warnings\n",
    "warnings.filterwarnings('ignore')\n",
    "\n",
    "%matplotlib inline"
   ]
  },
  {
   "cell_type": "code",
   "execution_count": 2,
   "id": "386fb28e",
   "metadata": {},
   "outputs": [],
   "source": [
    "from sklearn.preprocessing import OneHotEncoder\n",
    "from sklearn.preprocessing import MinMaxScaler\n",
    "from sklearn.metrics import classification_report, confusion_matrix, ConfusionMatrixDisplay"
   ]
  },
  {
   "cell_type": "code",
   "execution_count": 3,
   "id": "53dcb1c2",
   "metadata": {},
   "outputs": [],
   "source": [
    "import tensorflow as tf"
   ]
  },
  {
   "cell_type": "code",
   "execution_count": 4,
   "id": "2dba7c60",
   "metadata": {},
   "outputs": [
    {
     "name": "stdout",
     "output_type": "stream",
     "text": [
      "2.16.1\n"
     ]
    }
   ],
   "source": [
    "print(tf.__version__)"
   ]
  },
  {
   "cell_type": "code",
   "execution_count": 5,
   "id": "2729ecb9",
   "metadata": {},
   "outputs": [],
   "source": [
    "from keras.models import Model\n",
    "from keras.layers import Input, Conv3D, BatchNormalization, MaxPooling3D, Flatten, Dense, LSTM, Concatenate, Dropout\n",
    "from tensorflow.keras.optimizers import Adam\n",
    "from tensorflow.keras.callbacks import EarlyStopping\n",
    "from tensorflow.keras.callbacks import ModelCheckpoint"
   ]
  },
  {
   "cell_type": "markdown",
   "id": "50c65864",
   "metadata": {},
   "source": [
    "## Read `meteorological_data` data"
   ]
  },
  {
   "cell_type": "code",
   "execution_count": 6,
   "id": "8171f4bc",
   "metadata": {},
   "outputs": [
    {
     "data": {
      "text/html": [
       "<div>\n",
       "<style scoped>\n",
       "    .dataframe tbody tr th:only-of-type {\n",
       "        vertical-align: middle;\n",
       "    }\n",
       "\n",
       "    .dataframe tbody tr th {\n",
       "        vertical-align: top;\n",
       "    }\n",
       "\n",
       "    .dataframe thead th {\n",
       "        text-align: right;\n",
       "    }\n",
       "</style>\n",
       "<table border=\"1\" class=\"dataframe\">\n",
       "  <thead>\n",
       "    <tr style=\"text-align: right;\">\n",
       "      <th></th>\n",
       "      <th>DateTime_UTC</th>\n",
       "      <th>Temp_F</th>\n",
       "      <th>RH_pct</th>\n",
       "      <th>Wind_Spd_mph</th>\n",
       "      <th>Wind_Direction_deg</th>\n",
       "      <th>Low_Cloud_Ht_ft</th>\n",
       "      <th>Visibility_mi</th>\n",
       "      <th>Atm_Press_hPa</th>\n",
       "      <th>Precip_in</th>\n",
       "    </tr>\n",
       "  </thead>\n",
       "  <tbody>\n",
       "    <tr>\n",
       "      <th>0</th>\n",
       "      <td>2006-10-01 00:00:00</td>\n",
       "      <td>48.0</td>\n",
       "      <td>86.0</td>\n",
       "      <td>7</td>\n",
       "      <td>150</td>\n",
       "      <td>4100</td>\n",
       "      <td>10</td>\n",
       "      <td>984.0</td>\n",
       "      <td>0.00</td>\n",
       "    </tr>\n",
       "    <tr>\n",
       "      <th>1</th>\n",
       "      <td>2006-10-01 01:00:00</td>\n",
       "      <td>48.0</td>\n",
       "      <td>86.0</td>\n",
       "      <td>8</td>\n",
       "      <td>150</td>\n",
       "      <td>6000</td>\n",
       "      <td>10</td>\n",
       "      <td>983.7</td>\n",
       "      <td>0.00</td>\n",
       "    </tr>\n",
       "    <tr>\n",
       "      <th>2</th>\n",
       "      <td>2006-10-01 02:00:00</td>\n",
       "      <td>48.0</td>\n",
       "      <td>86.0</td>\n",
       "      <td>6</td>\n",
       "      <td>150</td>\n",
       "      <td>5500</td>\n",
       "      <td>10</td>\n",
       "      <td>982.7</td>\n",
       "      <td>0.00</td>\n",
       "    </tr>\n",
       "    <tr>\n",
       "      <th>3</th>\n",
       "      <td>2006-10-01 03:00:00</td>\n",
       "      <td>48.0</td>\n",
       "      <td>86.0</td>\n",
       "      <td>8</td>\n",
       "      <td>150</td>\n",
       "      <td>6000</td>\n",
       "      <td>10</td>\n",
       "      <td>982.0</td>\n",
       "      <td>0.00</td>\n",
       "    </tr>\n",
       "    <tr>\n",
       "      <th>4</th>\n",
       "      <td>2006-10-01 04:00:00</td>\n",
       "      <td>48.0</td>\n",
       "      <td>89.0</td>\n",
       "      <td>5</td>\n",
       "      <td>150</td>\n",
       "      <td>2200</td>\n",
       "      <td>8</td>\n",
       "      <td>982.0</td>\n",
       "      <td>0.02</td>\n",
       "    </tr>\n",
       "    <tr>\n",
       "      <th>...</th>\n",
       "      <td>...</td>\n",
       "      <td>...</td>\n",
       "      <td>...</td>\n",
       "      <td>...</td>\n",
       "      <td>...</td>\n",
       "      <td>...</td>\n",
       "      <td>...</td>\n",
       "      <td>...</td>\n",
       "      <td>...</td>\n",
       "    </tr>\n",
       "    <tr>\n",
       "      <th>48116</th>\n",
       "      <td>2017-03-31 19:00:00</td>\n",
       "      <td>40.0</td>\n",
       "      <td>76.0</td>\n",
       "      <td>0</td>\n",
       "      <td>0</td>\n",
       "      <td>5000</td>\n",
       "      <td>10</td>\n",
       "      <td>991.7</td>\n",
       "      <td>0.00</td>\n",
       "    </tr>\n",
       "    <tr>\n",
       "      <th>48117</th>\n",
       "      <td>2017-03-31 20:00:00</td>\n",
       "      <td>39.0</td>\n",
       "      <td>72.0</td>\n",
       "      <td>3</td>\n",
       "      <td>20</td>\n",
       "      <td>5000</td>\n",
       "      <td>10</td>\n",
       "      <td>992.3</td>\n",
       "      <td>0.00</td>\n",
       "    </tr>\n",
       "    <tr>\n",
       "      <th>48118</th>\n",
       "      <td>2017-03-31 21:00:00</td>\n",
       "      <td>35.0</td>\n",
       "      <td>84.0</td>\n",
       "      <td>5</td>\n",
       "      <td>300</td>\n",
       "      <td>5000</td>\n",
       "      <td>10</td>\n",
       "      <td>993.3</td>\n",
       "      <td>0.00</td>\n",
       "    </tr>\n",
       "    <tr>\n",
       "      <th>48119</th>\n",
       "      <td>2017-03-31 22:00:00</td>\n",
       "      <td>34.0</td>\n",
       "      <td>85.0</td>\n",
       "      <td>0</td>\n",
       "      <td>0</td>\n",
       "      <td>5000</td>\n",
       "      <td>10</td>\n",
       "      <td>993.3</td>\n",
       "      <td>0.00</td>\n",
       "    </tr>\n",
       "    <tr>\n",
       "      <th>48120</th>\n",
       "      <td>2017-03-31 23:00:00</td>\n",
       "      <td>30.0</td>\n",
       "      <td>88.0</td>\n",
       "      <td>0</td>\n",
       "      <td>0</td>\n",
       "      <td>5000</td>\n",
       "      <td>10</td>\n",
       "      <td>993.7</td>\n",
       "      <td>0.00</td>\n",
       "    </tr>\n",
       "  </tbody>\n",
       "</table>\n",
       "<p>48121 rows × 9 columns</p>\n",
       "</div>"
      ],
      "text/plain": [
       "              DateTime_UTC  Temp_F  RH_pct  Wind_Spd_mph  Wind_Direction_deg  \\\n",
       "0      2006-10-01 00:00:00    48.0    86.0             7                 150   \n",
       "1      2006-10-01 01:00:00    48.0    86.0             8                 150   \n",
       "2      2006-10-01 02:00:00    48.0    86.0             6                 150   \n",
       "3      2006-10-01 03:00:00    48.0    86.0             8                 150   \n",
       "4      2006-10-01 04:00:00    48.0    89.0             5                 150   \n",
       "...                    ...     ...     ...           ...                 ...   \n",
       "48116  2017-03-31 19:00:00    40.0    76.0             0                   0   \n",
       "48117  2017-03-31 20:00:00    39.0    72.0             3                  20   \n",
       "48118  2017-03-31 21:00:00    35.0    84.0             5                 300   \n",
       "48119  2017-03-31 22:00:00    34.0    85.0             0                   0   \n",
       "48120  2017-03-31 23:00:00    30.0    88.0             0                   0   \n",
       "\n",
       "       Low_Cloud_Ht_ft  Visibility_mi  Atm_Press_hPa  Precip_in  \n",
       "0                 4100             10          984.0       0.00  \n",
       "1                 6000             10          983.7       0.00  \n",
       "2                 5500             10          982.7       0.00  \n",
       "3                 6000             10          982.0       0.00  \n",
       "4                 2200              8          982.0       0.02  \n",
       "...                ...            ...            ...        ...  \n",
       "48116             5000             10          991.7       0.00  \n",
       "48117             5000             10          992.3       0.00  \n",
       "48118             5000             10          993.3       0.00  \n",
       "48119             5000             10          993.3       0.00  \n",
       "48120             5000             10          993.7       0.00  \n",
       "\n",
       "[48121 rows x 9 columns]"
      ]
     },
     "execution_count": 6,
     "metadata": {},
     "output_type": "execute_result"
    }
   ],
   "source": [
    "meteorological_data_original = pd.read_csv('meteorological_data.csv')\n",
    "\n",
    "meteorological_data_full = meteorological_data_original.copy()\n",
    "meteorological_data_full"
   ]
  },
  {
   "cell_type": "markdown",
   "id": "8327fb3d",
   "metadata": {},
   "source": [
    "**Convert `DateTime_UTC` to Datetime format**"
   ]
  },
  {
   "cell_type": "code",
   "execution_count": 7,
   "id": "121d5453",
   "metadata": {},
   "outputs": [],
   "source": [
    "meteorological_data_full['DateTime_UTC'] = pd.to_datetime(meteorological_data_full['DateTime_UTC'], format='%Y-%m-%d %H:%M:%S')"
   ]
  },
  {
   "cell_type": "markdown",
   "id": "cc850f2a",
   "metadata": {},
   "source": [
    "**Resample Hourly Meteorological Data to Daily Averages and Sums**"
   ]
  },
  {
   "cell_type": "code",
   "execution_count": 8,
   "id": "3bb74c70",
   "metadata": {},
   "outputs": [],
   "source": [
    "# Resample hourly data into daily data\n",
    "daily_data = meteorological_data_full.groupby(meteorological_data_full['DateTime_UTC'].dt.date).agg({\n",
    "   'Temp_F': 'mean',    \n",
    "    'RH_pct': 'mean',    \n",
    "    'Wind_Spd_mph': 'mean',     \n",
    "    'Atm_Press_hPa': 'mean',\n",
    "    'Low_Cloud_Ht_ft': 'mean',\n",
    "    'Visibility_mi': 'mean',    \n",
    "    'Precip_in': 'sum',     \n",
    "}).reset_index()"
   ]
  },
  {
   "cell_type": "code",
   "execution_count": 9,
   "id": "82b078fe",
   "metadata": {},
   "outputs": [
    {
     "data": {
      "text/plain": [
       "DateTime_UTC        object\n",
       "Temp_F             float64\n",
       "RH_pct             float64\n",
       "Wind_Spd_mph       float64\n",
       "Atm_Press_hPa      float64\n",
       "Low_Cloud_Ht_ft    float64\n",
       "Visibility_mi      float64\n",
       "Precip_in          float64\n",
       "dtype: object"
      ]
     },
     "execution_count": 9,
     "metadata": {},
     "output_type": "execute_result"
    }
   ],
   "source": [
    "daily_data.dtypes"
   ]
  },
  {
   "cell_type": "code",
   "execution_count": 10,
   "id": "e05bc570",
   "metadata": {},
   "outputs": [
    {
     "data": {
      "text/html": [
       "<div>\n",
       "<style scoped>\n",
       "    .dataframe tbody tr th:only-of-type {\n",
       "        vertical-align: middle;\n",
       "    }\n",
       "\n",
       "    .dataframe tbody tr th {\n",
       "        vertical-align: top;\n",
       "    }\n",
       "\n",
       "    .dataframe thead th {\n",
       "        text-align: right;\n",
       "    }\n",
       "</style>\n",
       "<table border=\"1\" class=\"dataframe\">\n",
       "  <thead>\n",
       "    <tr style=\"text-align: right;\">\n",
       "      <th></th>\n",
       "      <th>DateTime_UTC</th>\n",
       "      <th>Temp_F</th>\n",
       "      <th>RH_pct</th>\n",
       "      <th>Wind_Spd_mph</th>\n",
       "      <th>Atm_Press_hPa</th>\n",
       "      <th>Low_Cloud_Ht_ft</th>\n",
       "      <th>Visibility_mi</th>\n",
       "      <th>Precip_in</th>\n",
       "    </tr>\n",
       "  </thead>\n",
       "  <tbody>\n",
       "    <tr>\n",
       "      <th>0</th>\n",
       "      <td>2006-10-01</td>\n",
       "      <td>51.500000</td>\n",
       "      <td>74.958333</td>\n",
       "      <td>5.166667</td>\n",
       "      <td>991.275000</td>\n",
       "      <td>4683.333333</td>\n",
       "      <td>9.833333</td>\n",
       "      <td>0.03</td>\n",
       "    </tr>\n",
       "    <tr>\n",
       "      <th>1</th>\n",
       "      <td>2006-10-02</td>\n",
       "      <td>62.750000</td>\n",
       "      <td>73.166667</td>\n",
       "      <td>5.250000</td>\n",
       "      <td>990.054167</td>\n",
       "      <td>3450.000000</td>\n",
       "      <td>9.166667</td>\n",
       "      <td>0.01</td>\n",
       "    </tr>\n",
       "    <tr>\n",
       "      <th>2</th>\n",
       "      <td>2006-10-03</td>\n",
       "      <td>59.875000</td>\n",
       "      <td>81.458333</td>\n",
       "      <td>4.875000</td>\n",
       "      <td>993.491667</td>\n",
       "      <td>3595.833333</td>\n",
       "      <td>7.250000</td>\n",
       "      <td>2.02</td>\n",
       "    </tr>\n",
       "    <tr>\n",
       "      <th>3</th>\n",
       "      <td>2006-10-04</td>\n",
       "      <td>55.625000</td>\n",
       "      <td>72.041667</td>\n",
       "      <td>9.833333</td>\n",
       "      <td>997.937500</td>\n",
       "      <td>1908.333333</td>\n",
       "      <td>9.875000</td>\n",
       "      <td>0.01</td>\n",
       "    </tr>\n",
       "    <tr>\n",
       "      <th>4</th>\n",
       "      <td>2006-10-05</td>\n",
       "      <td>49.208333</td>\n",
       "      <td>75.791667</td>\n",
       "      <td>5.083333</td>\n",
       "      <td>1002.075000</td>\n",
       "      <td>1783.333333</td>\n",
       "      <td>7.833333</td>\n",
       "      <td>0.56</td>\n",
       "    </tr>\n",
       "    <tr>\n",
       "      <th>...</th>\n",
       "      <td>...</td>\n",
       "      <td>...</td>\n",
       "      <td>...</td>\n",
       "      <td>...</td>\n",
       "      <td>...</td>\n",
       "      <td>...</td>\n",
       "      <td>...</td>\n",
       "      <td>...</td>\n",
       "    </tr>\n",
       "    <tr>\n",
       "      <th>2000</th>\n",
       "      <td>2017-03-27</td>\n",
       "      <td>38.250000</td>\n",
       "      <td>88.250000</td>\n",
       "      <td>4.750000</td>\n",
       "      <td>991.920833</td>\n",
       "      <td>808.333333</td>\n",
       "      <td>8.166667</td>\n",
       "      <td>0.03</td>\n",
       "    </tr>\n",
       "    <tr>\n",
       "      <th>2001</th>\n",
       "      <td>2017-03-28</td>\n",
       "      <td>38.833333</td>\n",
       "      <td>86.041667</td>\n",
       "      <td>4.666667</td>\n",
       "      <td>995.729167</td>\n",
       "      <td>7187.500000</td>\n",
       "      <td>6.750000</td>\n",
       "      <td>0.00</td>\n",
       "    </tr>\n",
       "    <tr>\n",
       "      <th>2002</th>\n",
       "      <td>2017-03-29</td>\n",
       "      <td>37.458333</td>\n",
       "      <td>77.708333</td>\n",
       "      <td>4.750000</td>\n",
       "      <td>1000.233333</td>\n",
       "      <td>6237.500000</td>\n",
       "      <td>8.208333</td>\n",
       "      <td>0.00</td>\n",
       "    </tr>\n",
       "    <tr>\n",
       "      <th>2003</th>\n",
       "      <td>2017-03-30</td>\n",
       "      <td>36.291667</td>\n",
       "      <td>78.041667</td>\n",
       "      <td>7.458333</td>\n",
       "      <td>993.387500</td>\n",
       "      <td>2866.666667</td>\n",
       "      <td>8.375000</td>\n",
       "      <td>0.10</td>\n",
       "    </tr>\n",
       "    <tr>\n",
       "      <th>2004</th>\n",
       "      <td>2017-03-31</td>\n",
       "      <td>37.916667</td>\n",
       "      <td>71.875000</td>\n",
       "      <td>7.500000</td>\n",
       "      <td>991.812500</td>\n",
       "      <td>3950.000000</td>\n",
       "      <td>9.750000</td>\n",
       "      <td>0.00</td>\n",
       "    </tr>\n",
       "  </tbody>\n",
       "</table>\n",
       "<p>2005 rows × 8 columns</p>\n",
       "</div>"
      ],
      "text/plain": [
       "     DateTime_UTC     Temp_F     RH_pct  Wind_Spd_mph  Atm_Press_hPa  \\\n",
       "0      2006-10-01  51.500000  74.958333      5.166667     991.275000   \n",
       "1      2006-10-02  62.750000  73.166667      5.250000     990.054167   \n",
       "2      2006-10-03  59.875000  81.458333      4.875000     993.491667   \n",
       "3      2006-10-04  55.625000  72.041667      9.833333     997.937500   \n",
       "4      2006-10-05  49.208333  75.791667      5.083333    1002.075000   \n",
       "...           ...        ...        ...           ...            ...   \n",
       "2000   2017-03-27  38.250000  88.250000      4.750000     991.920833   \n",
       "2001   2017-03-28  38.833333  86.041667      4.666667     995.729167   \n",
       "2002   2017-03-29  37.458333  77.708333      4.750000    1000.233333   \n",
       "2003   2017-03-30  36.291667  78.041667      7.458333     993.387500   \n",
       "2004   2017-03-31  37.916667  71.875000      7.500000     991.812500   \n",
       "\n",
       "      Low_Cloud_Ht_ft  Visibility_mi  Precip_in  \n",
       "0         4683.333333       9.833333       0.03  \n",
       "1         3450.000000       9.166667       0.01  \n",
       "2         3595.833333       7.250000       2.02  \n",
       "3         1908.333333       9.875000       0.01  \n",
       "4         1783.333333       7.833333       0.56  \n",
       "...               ...            ...        ...  \n",
       "2000       808.333333       8.166667       0.03  \n",
       "2001      7187.500000       6.750000       0.00  \n",
       "2002      6237.500000       8.208333       0.00  \n",
       "2003      2866.666667       8.375000       0.10  \n",
       "2004      3950.000000       9.750000       0.00  \n",
       "\n",
       "[2005 rows x 8 columns]"
      ]
     },
     "execution_count": 10,
     "metadata": {},
     "output_type": "execute_result"
    }
   ],
   "source": [
    "daily_data"
   ]
  },
  {
   "cell_type": "markdown",
   "id": "686b32bb",
   "metadata": {},
   "source": [
    "### **Assign 3rd next Day's Precipitation to current days features to predict Two Days in advance**\n",
    "\n",
    "adds a new column `Precip_next`. This column represents the precipitation value of the next day by shifting the `Precip_in` column upwards by one row."
   ]
  },
  {
   "cell_type": "code",
   "execution_count": 11,
   "id": "0bd7d4c6",
   "metadata": {},
   "outputs": [],
   "source": [
    "daily_data['Precip_next']=daily_data['Precip_in'].shift(-1)\n",
    "\n",
    "daily_data.dropna(subset=['Precip_next'],inplace=True)"
   ]
  },
  {
   "cell_type": "code",
   "execution_count": 12,
   "id": "4cff3997",
   "metadata": {},
   "outputs": [
    {
     "data": {
      "text/html": [
       "<div>\n",
       "<style scoped>\n",
       "    .dataframe tbody tr th:only-of-type {\n",
       "        vertical-align: middle;\n",
       "    }\n",
       "\n",
       "    .dataframe tbody tr th {\n",
       "        vertical-align: top;\n",
       "    }\n",
       "\n",
       "    .dataframe thead th {\n",
       "        text-align: right;\n",
       "    }\n",
       "</style>\n",
       "<table border=\"1\" class=\"dataframe\">\n",
       "  <thead>\n",
       "    <tr style=\"text-align: right;\">\n",
       "      <th></th>\n",
       "      <th>DateTime_UTC</th>\n",
       "      <th>Temp_F</th>\n",
       "      <th>RH_pct</th>\n",
       "      <th>Wind_Spd_mph</th>\n",
       "      <th>Atm_Press_hPa</th>\n",
       "      <th>Low_Cloud_Ht_ft</th>\n",
       "      <th>Visibility_mi</th>\n",
       "      <th>Precip_in</th>\n",
       "      <th>Precip_next</th>\n",
       "    </tr>\n",
       "  </thead>\n",
       "  <tbody>\n",
       "    <tr>\n",
       "      <th>0</th>\n",
       "      <td>2006-10-01</td>\n",
       "      <td>51.500000</td>\n",
       "      <td>74.958333</td>\n",
       "      <td>5.166667</td>\n",
       "      <td>991.275000</td>\n",
       "      <td>4683.333333</td>\n",
       "      <td>9.833333</td>\n",
       "      <td>0.03</td>\n",
       "      <td>0.01</td>\n",
       "    </tr>\n",
       "    <tr>\n",
       "      <th>1</th>\n",
       "      <td>2006-10-02</td>\n",
       "      <td>62.750000</td>\n",
       "      <td>73.166667</td>\n",
       "      <td>5.250000</td>\n",
       "      <td>990.054167</td>\n",
       "      <td>3450.000000</td>\n",
       "      <td>9.166667</td>\n",
       "      <td>0.01</td>\n",
       "      <td>2.02</td>\n",
       "    </tr>\n",
       "    <tr>\n",
       "      <th>2</th>\n",
       "      <td>2006-10-03</td>\n",
       "      <td>59.875000</td>\n",
       "      <td>81.458333</td>\n",
       "      <td>4.875000</td>\n",
       "      <td>993.491667</td>\n",
       "      <td>3595.833333</td>\n",
       "      <td>7.250000</td>\n",
       "      <td>2.02</td>\n",
       "      <td>0.01</td>\n",
       "    </tr>\n",
       "    <tr>\n",
       "      <th>3</th>\n",
       "      <td>2006-10-04</td>\n",
       "      <td>55.625000</td>\n",
       "      <td>72.041667</td>\n",
       "      <td>9.833333</td>\n",
       "      <td>997.937500</td>\n",
       "      <td>1908.333333</td>\n",
       "      <td>9.875000</td>\n",
       "      <td>0.01</td>\n",
       "      <td>0.56</td>\n",
       "    </tr>\n",
       "    <tr>\n",
       "      <th>4</th>\n",
       "      <td>2006-10-05</td>\n",
       "      <td>49.208333</td>\n",
       "      <td>75.791667</td>\n",
       "      <td>5.083333</td>\n",
       "      <td>1002.075000</td>\n",
       "      <td>1783.333333</td>\n",
       "      <td>7.833333</td>\n",
       "      <td>0.56</td>\n",
       "      <td>0.00</td>\n",
       "    </tr>\n",
       "    <tr>\n",
       "      <th>...</th>\n",
       "      <td>...</td>\n",
       "      <td>...</td>\n",
       "      <td>...</td>\n",
       "      <td>...</td>\n",
       "      <td>...</td>\n",
       "      <td>...</td>\n",
       "      <td>...</td>\n",
       "      <td>...</td>\n",
       "      <td>...</td>\n",
       "    </tr>\n",
       "    <tr>\n",
       "      <th>1999</th>\n",
       "      <td>2017-03-26</td>\n",
       "      <td>41.666667</td>\n",
       "      <td>89.625000</td>\n",
       "      <td>4.250000</td>\n",
       "      <td>991.770833</td>\n",
       "      <td>950.000000</td>\n",
       "      <td>6.875000</td>\n",
       "      <td>0.09</td>\n",
       "      <td>0.03</td>\n",
       "    </tr>\n",
       "    <tr>\n",
       "      <th>2000</th>\n",
       "      <td>2017-03-27</td>\n",
       "      <td>38.250000</td>\n",
       "      <td>88.250000</td>\n",
       "      <td>4.750000</td>\n",
       "      <td>991.920833</td>\n",
       "      <td>808.333333</td>\n",
       "      <td>8.166667</td>\n",
       "      <td>0.03</td>\n",
       "      <td>0.00</td>\n",
       "    </tr>\n",
       "    <tr>\n",
       "      <th>2001</th>\n",
       "      <td>2017-03-28</td>\n",
       "      <td>38.833333</td>\n",
       "      <td>86.041667</td>\n",
       "      <td>4.666667</td>\n",
       "      <td>995.729167</td>\n",
       "      <td>7187.500000</td>\n",
       "      <td>6.750000</td>\n",
       "      <td>0.00</td>\n",
       "      <td>0.00</td>\n",
       "    </tr>\n",
       "    <tr>\n",
       "      <th>2002</th>\n",
       "      <td>2017-03-29</td>\n",
       "      <td>37.458333</td>\n",
       "      <td>77.708333</td>\n",
       "      <td>4.750000</td>\n",
       "      <td>1000.233333</td>\n",
       "      <td>6237.500000</td>\n",
       "      <td>8.208333</td>\n",
       "      <td>0.00</td>\n",
       "      <td>0.10</td>\n",
       "    </tr>\n",
       "    <tr>\n",
       "      <th>2003</th>\n",
       "      <td>2017-03-30</td>\n",
       "      <td>36.291667</td>\n",
       "      <td>78.041667</td>\n",
       "      <td>7.458333</td>\n",
       "      <td>993.387500</td>\n",
       "      <td>2866.666667</td>\n",
       "      <td>8.375000</td>\n",
       "      <td>0.10</td>\n",
       "      <td>0.00</td>\n",
       "    </tr>\n",
       "  </tbody>\n",
       "</table>\n",
       "<p>2004 rows × 9 columns</p>\n",
       "</div>"
      ],
      "text/plain": [
       "     DateTime_UTC     Temp_F     RH_pct  Wind_Spd_mph  Atm_Press_hPa  \\\n",
       "0      2006-10-01  51.500000  74.958333      5.166667     991.275000   \n",
       "1      2006-10-02  62.750000  73.166667      5.250000     990.054167   \n",
       "2      2006-10-03  59.875000  81.458333      4.875000     993.491667   \n",
       "3      2006-10-04  55.625000  72.041667      9.833333     997.937500   \n",
       "4      2006-10-05  49.208333  75.791667      5.083333    1002.075000   \n",
       "...           ...        ...        ...           ...            ...   \n",
       "1999   2017-03-26  41.666667  89.625000      4.250000     991.770833   \n",
       "2000   2017-03-27  38.250000  88.250000      4.750000     991.920833   \n",
       "2001   2017-03-28  38.833333  86.041667      4.666667     995.729167   \n",
       "2002   2017-03-29  37.458333  77.708333      4.750000    1000.233333   \n",
       "2003   2017-03-30  36.291667  78.041667      7.458333     993.387500   \n",
       "\n",
       "      Low_Cloud_Ht_ft  Visibility_mi  Precip_in  Precip_next  \n",
       "0         4683.333333       9.833333       0.03         0.01  \n",
       "1         3450.000000       9.166667       0.01         2.02  \n",
       "2         3595.833333       7.250000       2.02         0.01  \n",
       "3         1908.333333       9.875000       0.01         0.56  \n",
       "4         1783.333333       7.833333       0.56         0.00  \n",
       "...               ...            ...        ...          ...  \n",
       "1999       950.000000       6.875000       0.09         0.03  \n",
       "2000       808.333333       8.166667       0.03         0.00  \n",
       "2001      7187.500000       6.750000       0.00         0.00  \n",
       "2002      6237.500000       8.208333       0.00         0.10  \n",
       "2003      2866.666667       8.375000       0.10         0.00  \n",
       "\n",
       "[2004 rows x 9 columns]"
      ]
     },
     "execution_count": 12,
     "metadata": {},
     "output_type": "execute_result"
    }
   ],
   "source": [
    "daily_data"
   ]
  },
  {
   "cell_type": "markdown",
   "id": "f3e397ef",
   "metadata": {},
   "source": [
    "**We need to remove March 30th & 31st for every year because when we shifted the precipitation values, it took on the value of October 1st and 2nd, which is not desired.**"
   ]
  },
  {
   "cell_type": "code",
   "execution_count": 13,
   "id": "27d7db33",
   "metadata": {},
   "outputs": [
    {
     "data": {
      "text/plain": [
       "[datetime.date(2006, 3, 31),\n",
       " datetime.date(2007, 3, 31),\n",
       " datetime.date(2008, 3, 31),\n",
       " datetime.date(2009, 3, 31),\n",
       " datetime.date(2010, 3, 31),\n",
       " datetime.date(2011, 3, 31),\n",
       " datetime.date(2012, 3, 31),\n",
       " datetime.date(2013, 3, 31),\n",
       " datetime.date(2014, 3, 31),\n",
       " datetime.date(2015, 3, 31),\n",
       " datetime.date(2016, 3, 31),\n",
       " datetime.date(2017, 3, 31)]"
      ]
     },
     "execution_count": 13,
     "metadata": {},
     "output_type": "execute_result"
    }
   ],
   "source": [
    "year_list = [2006,2007,2008,2009,2010,2011,2012,2013,2014,2015,2016,2017]\n",
    "remove_dates = []\n",
    "for y in year_list:\n",
    "    # Create date objects for March 31st and March 30th\n",
    "    mar_31 = date(y, 3, 31)\n",
    "    \n",
    "    # Append dates to the list\n",
    "    remove_dates.append(mar_31)\n",
    "\n",
    "# Print the list of dates to be removed\n",
    "remove_dates"
   ]
  },
  {
   "cell_type": "code",
   "execution_count": 14,
   "id": "8adb0a94",
   "metadata": {},
   "outputs": [
    {
     "data": {
      "text/html": [
       "<div>\n",
       "<style scoped>\n",
       "    .dataframe tbody tr th:only-of-type {\n",
       "        vertical-align: middle;\n",
       "    }\n",
       "\n",
       "    .dataframe tbody tr th {\n",
       "        vertical-align: top;\n",
       "    }\n",
       "\n",
       "    .dataframe thead th {\n",
       "        text-align: right;\n",
       "    }\n",
       "</style>\n",
       "<table border=\"1\" class=\"dataframe\">\n",
       "  <thead>\n",
       "    <tr style=\"text-align: right;\">\n",
       "      <th></th>\n",
       "      <th>DateTime_UTC</th>\n",
       "      <th>Temp_F</th>\n",
       "      <th>RH_pct</th>\n",
       "      <th>Wind_Spd_mph</th>\n",
       "      <th>Atm_Press_hPa</th>\n",
       "      <th>Low_Cloud_Ht_ft</th>\n",
       "      <th>Visibility_mi</th>\n",
       "      <th>Precip_in</th>\n",
       "      <th>Precip_next</th>\n",
       "    </tr>\n",
       "  </thead>\n",
       "  <tbody>\n",
       "    <tr>\n",
       "      <th>0</th>\n",
       "      <td>2006-10-01</td>\n",
       "      <td>51.500000</td>\n",
       "      <td>74.958333</td>\n",
       "      <td>5.166667</td>\n",
       "      <td>991.275000</td>\n",
       "      <td>4683.333333</td>\n",
       "      <td>9.833333</td>\n",
       "      <td>0.03</td>\n",
       "      <td>0.01</td>\n",
       "    </tr>\n",
       "    <tr>\n",
       "      <th>1</th>\n",
       "      <td>2006-10-02</td>\n",
       "      <td>62.750000</td>\n",
       "      <td>73.166667</td>\n",
       "      <td>5.250000</td>\n",
       "      <td>990.054167</td>\n",
       "      <td>3450.000000</td>\n",
       "      <td>9.166667</td>\n",
       "      <td>0.01</td>\n",
       "      <td>2.02</td>\n",
       "    </tr>\n",
       "    <tr>\n",
       "      <th>2</th>\n",
       "      <td>2006-10-03</td>\n",
       "      <td>59.875000</td>\n",
       "      <td>81.458333</td>\n",
       "      <td>4.875000</td>\n",
       "      <td>993.491667</td>\n",
       "      <td>3595.833333</td>\n",
       "      <td>7.250000</td>\n",
       "      <td>2.02</td>\n",
       "      <td>0.01</td>\n",
       "    </tr>\n",
       "    <tr>\n",
       "      <th>3</th>\n",
       "      <td>2006-10-04</td>\n",
       "      <td>55.625000</td>\n",
       "      <td>72.041667</td>\n",
       "      <td>9.833333</td>\n",
       "      <td>997.937500</td>\n",
       "      <td>1908.333333</td>\n",
       "      <td>9.875000</td>\n",
       "      <td>0.01</td>\n",
       "      <td>0.56</td>\n",
       "    </tr>\n",
       "    <tr>\n",
       "      <th>4</th>\n",
       "      <td>2006-10-05</td>\n",
       "      <td>49.208333</td>\n",
       "      <td>75.791667</td>\n",
       "      <td>5.083333</td>\n",
       "      <td>1002.075000</td>\n",
       "      <td>1783.333333</td>\n",
       "      <td>7.833333</td>\n",
       "      <td>0.56</td>\n",
       "      <td>0.00</td>\n",
       "    </tr>\n",
       "    <tr>\n",
       "      <th>...</th>\n",
       "      <td>...</td>\n",
       "      <td>...</td>\n",
       "      <td>...</td>\n",
       "      <td>...</td>\n",
       "      <td>...</td>\n",
       "      <td>...</td>\n",
       "      <td>...</td>\n",
       "      <td>...</td>\n",
       "      <td>...</td>\n",
       "    </tr>\n",
       "    <tr>\n",
       "      <th>1989</th>\n",
       "      <td>2017-03-26</td>\n",
       "      <td>41.666667</td>\n",
       "      <td>89.625000</td>\n",
       "      <td>4.250000</td>\n",
       "      <td>991.770833</td>\n",
       "      <td>950.000000</td>\n",
       "      <td>6.875000</td>\n",
       "      <td>0.09</td>\n",
       "      <td>0.03</td>\n",
       "    </tr>\n",
       "    <tr>\n",
       "      <th>1990</th>\n",
       "      <td>2017-03-27</td>\n",
       "      <td>38.250000</td>\n",
       "      <td>88.250000</td>\n",
       "      <td>4.750000</td>\n",
       "      <td>991.920833</td>\n",
       "      <td>808.333333</td>\n",
       "      <td>8.166667</td>\n",
       "      <td>0.03</td>\n",
       "      <td>0.00</td>\n",
       "    </tr>\n",
       "    <tr>\n",
       "      <th>1991</th>\n",
       "      <td>2017-03-28</td>\n",
       "      <td>38.833333</td>\n",
       "      <td>86.041667</td>\n",
       "      <td>4.666667</td>\n",
       "      <td>995.729167</td>\n",
       "      <td>7187.500000</td>\n",
       "      <td>6.750000</td>\n",
       "      <td>0.00</td>\n",
       "      <td>0.00</td>\n",
       "    </tr>\n",
       "    <tr>\n",
       "      <th>1992</th>\n",
       "      <td>2017-03-29</td>\n",
       "      <td>37.458333</td>\n",
       "      <td>77.708333</td>\n",
       "      <td>4.750000</td>\n",
       "      <td>1000.233333</td>\n",
       "      <td>6237.500000</td>\n",
       "      <td>8.208333</td>\n",
       "      <td>0.00</td>\n",
       "      <td>0.10</td>\n",
       "    </tr>\n",
       "    <tr>\n",
       "      <th>1993</th>\n",
       "      <td>2017-03-30</td>\n",
       "      <td>36.291667</td>\n",
       "      <td>78.041667</td>\n",
       "      <td>7.458333</td>\n",
       "      <td>993.387500</td>\n",
       "      <td>2866.666667</td>\n",
       "      <td>8.375000</td>\n",
       "      <td>0.10</td>\n",
       "      <td>0.00</td>\n",
       "    </tr>\n",
       "  </tbody>\n",
       "</table>\n",
       "<p>1994 rows × 9 columns</p>\n",
       "</div>"
      ],
      "text/plain": [
       "     DateTime_UTC     Temp_F     RH_pct  Wind_Spd_mph  Atm_Press_hPa  \\\n",
       "0      2006-10-01  51.500000  74.958333      5.166667     991.275000   \n",
       "1      2006-10-02  62.750000  73.166667      5.250000     990.054167   \n",
       "2      2006-10-03  59.875000  81.458333      4.875000     993.491667   \n",
       "3      2006-10-04  55.625000  72.041667      9.833333     997.937500   \n",
       "4      2006-10-05  49.208333  75.791667      5.083333    1002.075000   \n",
       "...           ...        ...        ...           ...            ...   \n",
       "1989   2017-03-26  41.666667  89.625000      4.250000     991.770833   \n",
       "1990   2017-03-27  38.250000  88.250000      4.750000     991.920833   \n",
       "1991   2017-03-28  38.833333  86.041667      4.666667     995.729167   \n",
       "1992   2017-03-29  37.458333  77.708333      4.750000    1000.233333   \n",
       "1993   2017-03-30  36.291667  78.041667      7.458333     993.387500   \n",
       "\n",
       "      Low_Cloud_Ht_ft  Visibility_mi  Precip_in  Precip_next  \n",
       "0         4683.333333       9.833333       0.03         0.01  \n",
       "1         3450.000000       9.166667       0.01         2.02  \n",
       "2         3595.833333       7.250000       2.02         0.01  \n",
       "3         1908.333333       9.875000       0.01         0.56  \n",
       "4         1783.333333       7.833333       0.56         0.00  \n",
       "...               ...            ...        ...          ...  \n",
       "1989       950.000000       6.875000       0.09         0.03  \n",
       "1990       808.333333       8.166667       0.03         0.00  \n",
       "1991      7187.500000       6.750000       0.00         0.00  \n",
       "1992      6237.500000       8.208333       0.00         0.10  \n",
       "1993      2866.666667       8.375000       0.10         0.00  \n",
       "\n",
       "[1994 rows x 9 columns]"
      ]
     },
     "execution_count": 14,
     "metadata": {},
     "output_type": "execute_result"
    }
   ],
   "source": [
    "daily_data = daily_data[~daily_data['DateTime_UTC'].isin(remove_dates)].reset_index(drop=True)\n",
    "daily_data"
   ]
  },
  {
   "cell_type": "markdown",
   "id": "d424c65e",
   "metadata": {},
   "source": [
    "**Min, Max and Mean Precipitation values**"
   ]
  },
  {
   "cell_type": "code",
   "execution_count": 15,
   "id": "01d6dc6a",
   "metadata": {},
   "outputs": [
    {
     "name": "stdout",
     "output_type": "stream",
     "text": [
      "Mean precipitation: 0.060431293881644935\n",
      "Minimum precipitation: 0.0\n",
      "Maximum precipitation: 2.02\n"
     ]
    }
   ],
   "source": [
    "mean_precip = daily_data['Precip_in'].mean()\n",
    "min_precip = daily_data['Precip_in'].min()\n",
    "max_precip = daily_data['Precip_in'].max()\n",
    "\n",
    "print(\"Mean precipitation:\", mean_precip)\n",
    "print(\"Minimum precipitation:\", min_precip)\n",
    "print(\"Maximum precipitation:\", max_precip)"
   ]
  },
  {
   "cell_type": "markdown",
   "id": "2ad65e11",
   "metadata": {},
   "source": [
    "**Categorizing Precipitation Data**\n",
    "\n",
    "Categorize precipitation data into different levels ('No Rain', 'Light Rain', 'Moderate Rain', 'Heavy Rain')"
   ]
  },
  {
   "cell_type": "code",
   "execution_count": 16,
   "id": "6708628c",
   "metadata": {},
   "outputs": [
    {
     "data": {
      "text/html": [
       "<div>\n",
       "<style scoped>\n",
       "    .dataframe tbody tr th:only-of-type {\n",
       "        vertical-align: middle;\n",
       "    }\n",
       "\n",
       "    .dataframe tbody tr th {\n",
       "        vertical-align: top;\n",
       "    }\n",
       "\n",
       "    .dataframe thead th {\n",
       "        text-align: right;\n",
       "    }\n",
       "</style>\n",
       "<table border=\"1\" class=\"dataframe\">\n",
       "  <thead>\n",
       "    <tr style=\"text-align: right;\">\n",
       "      <th></th>\n",
       "      <th>DateTime_UTC</th>\n",
       "      <th>Temp_F</th>\n",
       "      <th>RH_pct</th>\n",
       "      <th>Wind_Spd_mph</th>\n",
       "      <th>Atm_Press_hPa</th>\n",
       "      <th>Low_Cloud_Ht_ft</th>\n",
       "      <th>Visibility_mi</th>\n",
       "      <th>Precip_in</th>\n",
       "      <th>Precip_next</th>\n",
       "      <th>target</th>\n",
       "    </tr>\n",
       "  </thead>\n",
       "  <tbody>\n",
       "    <tr>\n",
       "      <th>0</th>\n",
       "      <td>2006-10-01</td>\n",
       "      <td>51.500000</td>\n",
       "      <td>74.958333</td>\n",
       "      <td>5.166667</td>\n",
       "      <td>991.275000</td>\n",
       "      <td>4683.333333</td>\n",
       "      <td>9.833333</td>\n",
       "      <td>0.03</td>\n",
       "      <td>0.01</td>\n",
       "      <td>Light Rain</td>\n",
       "    </tr>\n",
       "    <tr>\n",
       "      <th>1</th>\n",
       "      <td>2006-10-02</td>\n",
       "      <td>62.750000</td>\n",
       "      <td>73.166667</td>\n",
       "      <td>5.250000</td>\n",
       "      <td>990.054167</td>\n",
       "      <td>3450.000000</td>\n",
       "      <td>9.166667</td>\n",
       "      <td>0.01</td>\n",
       "      <td>2.02</td>\n",
       "      <td>Heavy Rain</td>\n",
       "    </tr>\n",
       "    <tr>\n",
       "      <th>2</th>\n",
       "      <td>2006-10-03</td>\n",
       "      <td>59.875000</td>\n",
       "      <td>81.458333</td>\n",
       "      <td>4.875000</td>\n",
       "      <td>993.491667</td>\n",
       "      <td>3595.833333</td>\n",
       "      <td>7.250000</td>\n",
       "      <td>2.02</td>\n",
       "      <td>0.01</td>\n",
       "      <td>Light Rain</td>\n",
       "    </tr>\n",
       "    <tr>\n",
       "      <th>3</th>\n",
       "      <td>2006-10-04</td>\n",
       "      <td>55.625000</td>\n",
       "      <td>72.041667</td>\n",
       "      <td>9.833333</td>\n",
       "      <td>997.937500</td>\n",
       "      <td>1908.333333</td>\n",
       "      <td>9.875000</td>\n",
       "      <td>0.01</td>\n",
       "      <td>0.56</td>\n",
       "      <td>Heavy Rain</td>\n",
       "    </tr>\n",
       "    <tr>\n",
       "      <th>4</th>\n",
       "      <td>2006-10-05</td>\n",
       "      <td>49.208333</td>\n",
       "      <td>75.791667</td>\n",
       "      <td>5.083333</td>\n",
       "      <td>1002.075000</td>\n",
       "      <td>1783.333333</td>\n",
       "      <td>7.833333</td>\n",
       "      <td>0.56</td>\n",
       "      <td>0.00</td>\n",
       "      <td>No Rain</td>\n",
       "    </tr>\n",
       "  </tbody>\n",
       "</table>\n",
       "</div>"
      ],
      "text/plain": [
       "  DateTime_UTC     Temp_F     RH_pct  Wind_Spd_mph  Atm_Press_hPa  \\\n",
       "0   2006-10-01  51.500000  74.958333      5.166667     991.275000   \n",
       "1   2006-10-02  62.750000  73.166667      5.250000     990.054167   \n",
       "2   2006-10-03  59.875000  81.458333      4.875000     993.491667   \n",
       "3   2006-10-04  55.625000  72.041667      9.833333     997.937500   \n",
       "4   2006-10-05  49.208333  75.791667      5.083333    1002.075000   \n",
       "\n",
       "   Low_Cloud_Ht_ft  Visibility_mi  Precip_in  Precip_next      target  \n",
       "0      4683.333333       9.833333       0.03         0.01  Light Rain  \n",
       "1      3450.000000       9.166667       0.01         2.02  Heavy Rain  \n",
       "2      3595.833333       7.250000       2.02         0.01  Light Rain  \n",
       "3      1908.333333       9.875000       0.01         0.56  Heavy Rain  \n",
       "4      1783.333333       7.833333       0.56         0.00     No Rain  "
      ]
     },
     "execution_count": 16,
     "metadata": {},
     "output_type": "execute_result"
    }
   ],
   "source": [
    "# Define conditions based on real scenarios\n",
    "conditions = [\n",
    "    (daily_data['Precip_next'] == 0),\n",
    "    (daily_data['Precip_next'] > 0) & (daily_data['Precip_next'] <= 0.1),\n",
    "    (daily_data['Precip_next'] > 0.1) & (daily_data['Precip_next'] <= 0.3),\n",
    "    (daily_data['Precip_next'] > 0.3)\n",
    "]\n",
    "\n",
    "# Define corresponding labels for each condition\n",
    "names = ['No Rain', 'Light Rain', 'Moderate Rain', 'Heavy Rain']\n",
    "\n",
    "# Replace values in 'target' column with corresponding labels based on conditions \n",
    "daily_data['target'] = np.select(conditions, names, default='')\n",
    "daily_data.head()"
   ]
  },
  {
   "cell_type": "markdown",
   "id": "a05b06b1",
   "metadata": {},
   "source": [
    "**Class distribution in the `target` column after categorization**"
   ]
  },
  {
   "cell_type": "code",
   "execution_count": 17,
   "id": "7768bbf6",
   "metadata": {},
   "outputs": [
    {
     "name": "stdout",
     "output_type": "stream",
     "text": [
      "target\n",
      "No Rain          1052\n",
      "Light Rain        636\n",
      "Moderate Rain     198\n",
      "Heavy Rain        108\n",
      "Name: count, dtype: int64\n"
     ]
    }
   ],
   "source": [
    "print(daily_data['target'].value_counts())"
   ]
  },
  {
   "cell_type": "markdown",
   "id": "d546eaea",
   "metadata": {},
   "source": [
    "**One-Hot Encoding the Target Column**"
   ]
  },
  {
   "cell_type": "code",
   "execution_count": 18,
   "id": "fbaddce5",
   "metadata": {},
   "outputs": [
    {
     "data": {
      "text/html": [
       "<div>\n",
       "<style scoped>\n",
       "    .dataframe tbody tr th:only-of-type {\n",
       "        vertical-align: middle;\n",
       "    }\n",
       "\n",
       "    .dataframe tbody tr th {\n",
       "        vertical-align: top;\n",
       "    }\n",
       "\n",
       "    .dataframe thead th {\n",
       "        text-align: right;\n",
       "    }\n",
       "</style>\n",
       "<table border=\"1\" class=\"dataframe\">\n",
       "  <thead>\n",
       "    <tr style=\"text-align: right;\">\n",
       "      <th></th>\n",
       "      <th>DateTime_UTC</th>\n",
       "      <th>Temp_F</th>\n",
       "      <th>RH_pct</th>\n",
       "      <th>Wind_Spd_mph</th>\n",
       "      <th>Atm_Press_hPa</th>\n",
       "      <th>Low_Cloud_Ht_ft</th>\n",
       "      <th>Visibility_mi</th>\n",
       "      <th>Precip_in</th>\n",
       "      <th>Precip_next</th>\n",
       "      <th>target</th>\n",
       "      <th>No Rain</th>\n",
       "      <th>Light Rain</th>\n",
       "      <th>Moderate Rain</th>\n",
       "      <th>Heavy Rain</th>\n",
       "    </tr>\n",
       "  </thead>\n",
       "  <tbody>\n",
       "    <tr>\n",
       "      <th>0</th>\n",
       "      <td>2006-10-01</td>\n",
       "      <td>51.500000</td>\n",
       "      <td>74.958333</td>\n",
       "      <td>5.166667</td>\n",
       "      <td>991.275000</td>\n",
       "      <td>4683.333333</td>\n",
       "      <td>9.833333</td>\n",
       "      <td>0.03</td>\n",
       "      <td>0.01</td>\n",
       "      <td>Light Rain</td>\n",
       "      <td>0</td>\n",
       "      <td>1</td>\n",
       "      <td>0</td>\n",
       "      <td>0</td>\n",
       "    </tr>\n",
       "    <tr>\n",
       "      <th>1</th>\n",
       "      <td>2006-10-02</td>\n",
       "      <td>62.750000</td>\n",
       "      <td>73.166667</td>\n",
       "      <td>5.250000</td>\n",
       "      <td>990.054167</td>\n",
       "      <td>3450.000000</td>\n",
       "      <td>9.166667</td>\n",
       "      <td>0.01</td>\n",
       "      <td>2.02</td>\n",
       "      <td>Heavy Rain</td>\n",
       "      <td>0</td>\n",
       "      <td>0</td>\n",
       "      <td>0</td>\n",
       "      <td>1</td>\n",
       "    </tr>\n",
       "    <tr>\n",
       "      <th>2</th>\n",
       "      <td>2006-10-03</td>\n",
       "      <td>59.875000</td>\n",
       "      <td>81.458333</td>\n",
       "      <td>4.875000</td>\n",
       "      <td>993.491667</td>\n",
       "      <td>3595.833333</td>\n",
       "      <td>7.250000</td>\n",
       "      <td>2.02</td>\n",
       "      <td>0.01</td>\n",
       "      <td>Light Rain</td>\n",
       "      <td>0</td>\n",
       "      <td>1</td>\n",
       "      <td>0</td>\n",
       "      <td>0</td>\n",
       "    </tr>\n",
       "    <tr>\n",
       "      <th>3</th>\n",
       "      <td>2006-10-04</td>\n",
       "      <td>55.625000</td>\n",
       "      <td>72.041667</td>\n",
       "      <td>9.833333</td>\n",
       "      <td>997.937500</td>\n",
       "      <td>1908.333333</td>\n",
       "      <td>9.875000</td>\n",
       "      <td>0.01</td>\n",
       "      <td>0.56</td>\n",
       "      <td>Heavy Rain</td>\n",
       "      <td>0</td>\n",
       "      <td>0</td>\n",
       "      <td>0</td>\n",
       "      <td>1</td>\n",
       "    </tr>\n",
       "    <tr>\n",
       "      <th>4</th>\n",
       "      <td>2006-10-05</td>\n",
       "      <td>49.208333</td>\n",
       "      <td>75.791667</td>\n",
       "      <td>5.083333</td>\n",
       "      <td>1002.075000</td>\n",
       "      <td>1783.333333</td>\n",
       "      <td>7.833333</td>\n",
       "      <td>0.56</td>\n",
       "      <td>0.00</td>\n",
       "      <td>No Rain</td>\n",
       "      <td>1</td>\n",
       "      <td>0</td>\n",
       "      <td>0</td>\n",
       "      <td>0</td>\n",
       "    </tr>\n",
       "  </tbody>\n",
       "</table>\n",
       "</div>"
      ],
      "text/plain": [
       "  DateTime_UTC     Temp_F     RH_pct  Wind_Spd_mph  Atm_Press_hPa  \\\n",
       "0   2006-10-01  51.500000  74.958333      5.166667     991.275000   \n",
       "1   2006-10-02  62.750000  73.166667      5.250000     990.054167   \n",
       "2   2006-10-03  59.875000  81.458333      4.875000     993.491667   \n",
       "3   2006-10-04  55.625000  72.041667      9.833333     997.937500   \n",
       "4   2006-10-05  49.208333  75.791667      5.083333    1002.075000   \n",
       "\n",
       "   Low_Cloud_Ht_ft  Visibility_mi  Precip_in  Precip_next      target  \\\n",
       "0      4683.333333       9.833333       0.03         0.01  Light Rain   \n",
       "1      3450.000000       9.166667       0.01         2.02  Heavy Rain   \n",
       "2      3595.833333       7.250000       2.02         0.01  Light Rain   \n",
       "3      1908.333333       9.875000       0.01         0.56  Heavy Rain   \n",
       "4      1783.333333       7.833333       0.56         0.00     No Rain   \n",
       "\n",
       "   No Rain  Light Rain  Moderate Rain  Heavy Rain  \n",
       "0        0           1              0           0  \n",
       "1        0           0              0           1  \n",
       "2        0           1              0           0  \n",
       "3        0           0              0           1  \n",
       "4        1           0              0           0  "
      ]
     },
     "execution_count": 18,
     "metadata": {},
     "output_type": "execute_result"
    }
   ],
   "source": [
    "# Perform one-hot encoding directly on the DataFrame with specified categories order\n",
    "one_hot_encoded = pd.get_dummies(daily_data['target'], prefix='', prefix_sep='').reindex(columns=['No Rain', 'Light Rain', 'Moderate Rain', 'Heavy Rain'], fill_value=0)\n",
    "\n",
    "# Convert the data type to integer\n",
    "one_hot_encoded = one_hot_encoded.astype(int)\n",
    "\n",
    "# Concatenate the one-hot encoded columns to the DataFrame\n",
    "daily_data = pd.concat([daily_data, one_hot_encoded], axis=1)\n",
    "\n",
    "# Display the updated DataFrame\n",
    "daily_data.head()"
   ]
  },
  {
   "cell_type": "markdown",
   "id": "b08ae086",
   "metadata": {},
   "source": [
    "**Dividing the meteorological data to `features` and `lables`**"
   ]
  },
  {
   "cell_type": "code",
   "execution_count": 19,
   "id": "8eb4d524",
   "metadata": {},
   "outputs": [
    {
     "data": {
      "text/plain": [
       "Index(['Temp_F', 'RH_pct', 'Wind_Spd_mph', 'Atm_Press_hPa', 'Low_Cloud_Ht_ft',\n",
       "       'Visibility_mi', 'Precip_in'],\n",
       "      dtype='object')"
      ]
     },
     "execution_count": 19,
     "metadata": {},
     "output_type": "execute_result"
    }
   ],
   "source": [
    "features = daily_data.columns[1:8]\n",
    "features"
   ]
  },
  {
   "cell_type": "code",
   "execution_count": 20,
   "id": "a552ddc3",
   "metadata": {},
   "outputs": [
    {
     "data": {
      "text/plain": [
       "Index(['No Rain', 'Light Rain', 'Moderate Rain', 'Heavy Rain'], dtype='object')"
      ]
     },
     "execution_count": 20,
     "metadata": {},
     "output_type": "execute_result"
    }
   ],
   "source": [
    "labels = daily_data.columns[-4:]\n",
    "labels"
   ]
  },
  {
   "cell_type": "markdown",
   "id": "b0726569",
   "metadata": {},
   "source": [
    "------"
   ]
  },
  {
   "cell_type": "markdown",
   "id": "b10f597e",
   "metadata": {},
   "source": [
    "## Scale the features"
   ]
  },
  {
   "cell_type": "code",
   "execution_count": 21,
   "id": "6bdd6af9",
   "metadata": {},
   "outputs": [
    {
     "data": {
      "text/html": [
       "<div>\n",
       "<style scoped>\n",
       "    .dataframe tbody tr th:only-of-type {\n",
       "        vertical-align: middle;\n",
       "    }\n",
       "\n",
       "    .dataframe tbody tr th {\n",
       "        vertical-align: top;\n",
       "    }\n",
       "\n",
       "    .dataframe thead th {\n",
       "        text-align: right;\n",
       "    }\n",
       "</style>\n",
       "<table border=\"1\" class=\"dataframe\">\n",
       "  <thead>\n",
       "    <tr style=\"text-align: right;\">\n",
       "      <th></th>\n",
       "      <th>DateTime_UTC</th>\n",
       "      <th>Temp_F</th>\n",
       "      <th>RH_pct</th>\n",
       "      <th>Wind_Spd_mph</th>\n",
       "      <th>Atm_Press_hPa</th>\n",
       "      <th>Low_Cloud_Ht_ft</th>\n",
       "      <th>Visibility_mi</th>\n",
       "      <th>Precip_in</th>\n",
       "      <th>Precip_next</th>\n",
       "      <th>target</th>\n",
       "      <th>No Rain</th>\n",
       "      <th>Light Rain</th>\n",
       "      <th>Moderate Rain</th>\n",
       "      <th>Heavy Rain</th>\n",
       "      <th>Date</th>\n",
       "    </tr>\n",
       "  </thead>\n",
       "  <tbody>\n",
       "    <tr>\n",
       "      <th>0</th>\n",
       "      <td>2006-10-01</td>\n",
       "      <td>0.671649</td>\n",
       "      <td>0.695153</td>\n",
       "      <td>0.256351</td>\n",
       "      <td>0.556518</td>\n",
       "      <td>0.187333</td>\n",
       "      <td>0.981043</td>\n",
       "      <td>0.014851</td>\n",
       "      <td>0.01</td>\n",
       "      <td>Light Rain</td>\n",
       "      <td>0</td>\n",
       "      <td>1</td>\n",
       "      <td>0</td>\n",
       "      <td>0</td>\n",
       "      <td>2006-10-01</td>\n",
       "    </tr>\n",
       "    <tr>\n",
       "      <th>1</th>\n",
       "      <td>2006-10-02</td>\n",
       "      <td>0.810825</td>\n",
       "      <td>0.667730</td>\n",
       "      <td>0.260970</td>\n",
       "      <td>0.528941</td>\n",
       "      <td>0.138000</td>\n",
       "      <td>0.905213</td>\n",
       "      <td>0.004950</td>\n",
       "      <td>2.02</td>\n",
       "      <td>Heavy Rain</td>\n",
       "      <td>0</td>\n",
       "      <td>0</td>\n",
       "      <td>0</td>\n",
       "      <td>1</td>\n",
       "      <td>2006-10-02</td>\n",
       "    </tr>\n",
       "    <tr>\n",
       "      <th>2</th>\n",
       "      <td>2006-10-03</td>\n",
       "      <td>0.775258</td>\n",
       "      <td>0.794643</td>\n",
       "      <td>0.240185</td>\n",
       "      <td>0.606588</td>\n",
       "      <td>0.143833</td>\n",
       "      <td>0.687204</td>\n",
       "      <td>1.000000</td>\n",
       "      <td>0.01</td>\n",
       "      <td>Light Rain</td>\n",
       "      <td>0</td>\n",
       "      <td>1</td>\n",
       "      <td>0</td>\n",
       "      <td>0</td>\n",
       "      <td>2006-10-03</td>\n",
       "    </tr>\n",
       "    <tr>\n",
       "      <th>3</th>\n",
       "      <td>2006-10-04</td>\n",
       "      <td>0.722680</td>\n",
       "      <td>0.650510</td>\n",
       "      <td>0.515012</td>\n",
       "      <td>0.707012</td>\n",
       "      <td>0.076333</td>\n",
       "      <td>0.985782</td>\n",
       "      <td>0.004950</td>\n",
       "      <td>0.56</td>\n",
       "      <td>Heavy Rain</td>\n",
       "      <td>0</td>\n",
       "      <td>0</td>\n",
       "      <td>0</td>\n",
       "      <td>1</td>\n",
       "      <td>2006-10-04</td>\n",
       "    </tr>\n",
       "    <tr>\n",
       "      <th>4</th>\n",
       "      <td>2006-10-05</td>\n",
       "      <td>0.643299</td>\n",
       "      <td>0.707908</td>\n",
       "      <td>0.251732</td>\n",
       "      <td>0.800471</td>\n",
       "      <td>0.071333</td>\n",
       "      <td>0.753555</td>\n",
       "      <td>0.277228</td>\n",
       "      <td>0.00</td>\n",
       "      <td>No Rain</td>\n",
       "      <td>1</td>\n",
       "      <td>0</td>\n",
       "      <td>0</td>\n",
       "      <td>0</td>\n",
       "      <td>2006-10-05</td>\n",
       "    </tr>\n",
       "    <tr>\n",
       "      <th>...</th>\n",
       "      <td>...</td>\n",
       "      <td>...</td>\n",
       "      <td>...</td>\n",
       "      <td>...</td>\n",
       "      <td>...</td>\n",
       "      <td>...</td>\n",
       "      <td>...</td>\n",
       "      <td>...</td>\n",
       "      <td>...</td>\n",
       "      <td>...</td>\n",
       "      <td>...</td>\n",
       "      <td>...</td>\n",
       "      <td>...</td>\n",
       "      <td>...</td>\n",
       "      <td>...</td>\n",
       "    </tr>\n",
       "    <tr>\n",
       "      <th>1989</th>\n",
       "      <td>2017-03-26</td>\n",
       "      <td>0.529412</td>\n",
       "      <td>0.893727</td>\n",
       "      <td>0.179167</td>\n",
       "      <td>0.495098</td>\n",
       "      <td>0.023814</td>\n",
       "      <td>0.634146</td>\n",
       "      <td>0.116883</td>\n",
       "      <td>0.03</td>\n",
       "      <td>Light Rain</td>\n",
       "      <td>0</td>\n",
       "      <td>1</td>\n",
       "      <td>0</td>\n",
       "      <td>0</td>\n",
       "      <td>2017-03-26</td>\n",
       "    </tr>\n",
       "    <tr>\n",
       "      <th>1990</th>\n",
       "      <td>2017-03-27</td>\n",
       "      <td>0.470588</td>\n",
       "      <td>0.869373</td>\n",
       "      <td>0.204167</td>\n",
       "      <td>0.499202</td>\n",
       "      <td>0.017633</td>\n",
       "      <td>0.785366</td>\n",
       "      <td>0.038961</td>\n",
       "      <td>0.00</td>\n",
       "      <td>No Rain</td>\n",
       "      <td>1</td>\n",
       "      <td>0</td>\n",
       "      <td>0</td>\n",
       "      <td>0</td>\n",
       "      <td>2017-03-27</td>\n",
       "    </tr>\n",
       "    <tr>\n",
       "      <th>1991</th>\n",
       "      <td>2017-03-28</td>\n",
       "      <td>0.480631</td>\n",
       "      <td>0.830258</td>\n",
       "      <td>0.200000</td>\n",
       "      <td>0.603397</td>\n",
       "      <td>0.295946</td>\n",
       "      <td>0.619512</td>\n",
       "      <td>0.000000</td>\n",
       "      <td>0.00</td>\n",
       "      <td>No Rain</td>\n",
       "      <td>1</td>\n",
       "      <td>0</td>\n",
       "      <td>0</td>\n",
       "      <td>0</td>\n",
       "      <td>2017-03-28</td>\n",
       "    </tr>\n",
       "    <tr>\n",
       "      <th>1992</th>\n",
       "      <td>2017-03-29</td>\n",
       "      <td>0.456958</td>\n",
       "      <td>0.682657</td>\n",
       "      <td>0.204167</td>\n",
       "      <td>0.726630</td>\n",
       "      <td>0.254499</td>\n",
       "      <td>0.790244</td>\n",
       "      <td>0.000000</td>\n",
       "      <td>0.10</td>\n",
       "      <td>Light Rain</td>\n",
       "      <td>0</td>\n",
       "      <td>1</td>\n",
       "      <td>0</td>\n",
       "      <td>0</td>\n",
       "      <td>2017-03-29</td>\n",
       "    </tr>\n",
       "    <tr>\n",
       "      <th>1993</th>\n",
       "      <td>2017-03-30</td>\n",
       "      <td>0.436872</td>\n",
       "      <td>0.688561</td>\n",
       "      <td>0.339583</td>\n",
       "      <td>0.539330</td>\n",
       "      <td>0.107435</td>\n",
       "      <td>0.809756</td>\n",
       "      <td>0.129870</td>\n",
       "      <td>0.00</td>\n",
       "      <td>No Rain</td>\n",
       "      <td>1</td>\n",
       "      <td>0</td>\n",
       "      <td>0</td>\n",
       "      <td>0</td>\n",
       "      <td>2017-03-30</td>\n",
       "    </tr>\n",
       "  </tbody>\n",
       "</table>\n",
       "<p>1994 rows × 15 columns</p>\n",
       "</div>"
      ],
      "text/plain": [
       "     DateTime_UTC    Temp_F    RH_pct  Wind_Spd_mph  Atm_Press_hPa  \\\n",
       "0      2006-10-01  0.671649  0.695153      0.256351       0.556518   \n",
       "1      2006-10-02  0.810825  0.667730      0.260970       0.528941   \n",
       "2      2006-10-03  0.775258  0.794643      0.240185       0.606588   \n",
       "3      2006-10-04  0.722680  0.650510      0.515012       0.707012   \n",
       "4      2006-10-05  0.643299  0.707908      0.251732       0.800471   \n",
       "...           ...       ...       ...           ...            ...   \n",
       "1989   2017-03-26  0.529412  0.893727      0.179167       0.495098   \n",
       "1990   2017-03-27  0.470588  0.869373      0.204167       0.499202   \n",
       "1991   2017-03-28  0.480631  0.830258      0.200000       0.603397   \n",
       "1992   2017-03-29  0.456958  0.682657      0.204167       0.726630   \n",
       "1993   2017-03-30  0.436872  0.688561      0.339583       0.539330   \n",
       "\n",
       "      Low_Cloud_Ht_ft  Visibility_mi  Precip_in  Precip_next      target  \\\n",
       "0            0.187333       0.981043   0.014851         0.01  Light Rain   \n",
       "1            0.138000       0.905213   0.004950         2.02  Heavy Rain   \n",
       "2            0.143833       0.687204   1.000000         0.01  Light Rain   \n",
       "3            0.076333       0.985782   0.004950         0.56  Heavy Rain   \n",
       "4            0.071333       0.753555   0.277228         0.00     No Rain   \n",
       "...               ...            ...        ...          ...         ...   \n",
       "1989         0.023814       0.634146   0.116883         0.03  Light Rain   \n",
       "1990         0.017633       0.785366   0.038961         0.00     No Rain   \n",
       "1991         0.295946       0.619512   0.000000         0.00     No Rain   \n",
       "1992         0.254499       0.790244   0.000000         0.10  Light Rain   \n",
       "1993         0.107435       0.809756   0.129870         0.00     No Rain   \n",
       "\n",
       "      No Rain  Light Rain  Moderate Rain  Heavy Rain        Date  \n",
       "0           0           1              0           0  2006-10-01  \n",
       "1           0           0              0           1  2006-10-02  \n",
       "2           0           1              0           0  2006-10-03  \n",
       "3           0           0              0           1  2006-10-04  \n",
       "4           1           0              0           0  2006-10-05  \n",
       "...       ...         ...            ...         ...         ...  \n",
       "1989        0           1              0           0  2017-03-26  \n",
       "1990        1           0              0           0  2017-03-27  \n",
       "1991        1           0              0           0  2017-03-28  \n",
       "1992        0           1              0           0  2017-03-29  \n",
       "1993        1           0              0           0  2017-03-30  \n",
       "\n",
       "[1994 rows x 15 columns]"
      ]
     },
     "execution_count": 21,
     "metadata": {},
     "output_type": "execute_result"
    }
   ],
   "source": [
    "# Convert 'DateTime_UTC' column to datetime type\n",
    "daily_data['DateTime_UTC'] = pd.to_datetime(daily_data['DateTime_UTC'])\n",
    "\n",
    "# Define scaler\n",
    "scaler = MinMaxScaler()\n",
    "\n",
    "# Scale data for October 2006 to March 2016\n",
    "mask_2006_to_2016 = (daily_data['DateTime_UTC'] >= '2006-10-01') & (daily_data['DateTime_UTC'] < '2016-04-01')\n",
    "daily_data.loc[mask_2006_to_2016, ['Temp_F', 'RH_pct', 'Wind_Spd_mph', 'Atm_Press_hPa', 'Low_Cloud_Ht_ft', 'Visibility_mi', 'Precip_in']] = scaler.fit_transform(daily_data.loc[mask_2006_to_2016, ['Temp_F', 'RH_pct', 'Wind_Spd_mph', 'Atm_Press_hPa', 'Low_Cloud_Ht_ft', 'Visibility_mi', 'Precip_in']])\n",
    "\n",
    "# Scale data for October 2016 to March 2017\n",
    "mask_2016_to_2017 = (daily_data['DateTime_UTC'] >= '2016-10-01') & (daily_data['DateTime_UTC'] < '2017-04-01')\n",
    "daily_data.loc[mask_2016_to_2017, ['Temp_F', 'RH_pct', 'Wind_Spd_mph', 'Atm_Press_hPa', 'Low_Cloud_Ht_ft', 'Visibility_mi', 'Precip_in']] = scaler.fit_transform(daily_data.loc[mask_2016_to_2017, ['Temp_F', 'RH_pct', 'Wind_Spd_mph', 'Atm_Press_hPa', 'Low_Cloud_Ht_ft', 'Visibility_mi', 'Precip_in']])\n",
    "\n",
    "daily_data['Date'] = daily_data['DateTime_UTC'].dt.date\n",
    "\n",
    "# Print the scaled DataFrame\n",
    "daily_data"
   ]
  },
  {
   "cell_type": "markdown",
   "id": "752d3098",
   "metadata": {},
   "source": [
    "---------"
   ]
  },
  {
   "cell_type": "markdown",
   "id": "63c65c3b",
   "metadata": {},
   "source": [
    "## Read `filtered_les_cld_imgs` data"
   ]
  },
  {
   "cell_type": "code",
   "execution_count": 22,
   "id": "45db9617",
   "metadata": {},
   "outputs": [
    {
     "data": {
      "text/html": [
       "<div>\n",
       "<style scoped>\n",
       "    .dataframe tbody tr th:only-of-type {\n",
       "        vertical-align: middle;\n",
       "    }\n",
       "\n",
       "    .dataframe tbody tr th {\n",
       "        vertical-align: top;\n",
       "    }\n",
       "\n",
       "    .dataframe thead th {\n",
       "        text-align: right;\n",
       "    }\n",
       "</style>\n",
       "<table border=\"1\" class=\"dataframe\">\n",
       "  <thead>\n",
       "    <tr style=\"text-align: right;\">\n",
       "      <th></th>\n",
       "      <th>DateTime_UTC</th>\n",
       "      <th>Lake_data_2D</th>\n",
       "    </tr>\n",
       "  </thead>\n",
       "  <tbody>\n",
       "    <tr>\n",
       "      <th>0</th>\n",
       "      <td>2006-10-01 14:00:00</td>\n",
       "      <td>[array([       nan,        nan,        nan,   ...</td>\n",
       "    </tr>\n",
       "    <tr>\n",
       "      <th>1</th>\n",
       "      <td>2006-10-01 15:00:00</td>\n",
       "      <td>[array([       nan,        nan,        nan,   ...</td>\n",
       "    </tr>\n",
       "    <tr>\n",
       "      <th>2</th>\n",
       "      <td>2006-10-01 16:00:00</td>\n",
       "      <td>[array([   nan,    nan,    nan,    nan,    nan...</td>\n",
       "    </tr>\n",
       "    <tr>\n",
       "      <th>3</th>\n",
       "      <td>2006-10-01 17:00:00</td>\n",
       "      <td>[array([ nan,  nan,  nan,  nan,  nan,  nan,  n...</td>\n",
       "    </tr>\n",
       "    <tr>\n",
       "      <th>4</th>\n",
       "      <td>2006-10-01 18:00:00</td>\n",
       "      <td>[array([   nan,    nan,    nan,    nan,    nan...</td>\n",
       "    </tr>\n",
       "  </tbody>\n",
       "</table>\n",
       "</div>"
      ],
      "text/plain": [
       "          DateTime_UTC                                       Lake_data_2D\n",
       "0  2006-10-01 14:00:00  [array([       nan,        nan,        nan,   ...\n",
       "1  2006-10-01 15:00:00  [array([       nan,        nan,        nan,   ...\n",
       "2  2006-10-01 16:00:00  [array([   nan,    nan,    nan,    nan,    nan...\n",
       "3  2006-10-01 17:00:00  [array([ nan,  nan,  nan,  nan,  nan,  nan,  n...\n",
       "4  2006-10-01 18:00:00  [array([   nan,    nan,    nan,    nan,    nan..."
      ]
     },
     "execution_count": 22,
     "metadata": {},
     "output_type": "execute_result"
    }
   ],
   "source": [
    "img_data_original = pd.read_csv('filtered_les_cld_imgs.csv')\n",
    "\n",
    "img_data = img_data_original.copy()\n",
    "img_data.head()"
   ]
  },
  {
   "cell_type": "markdown",
   "id": "279499ff",
   "metadata": {},
   "source": [
    "**Convert `DateTime_UTC` to Datetime format**"
   ]
  },
  {
   "cell_type": "code",
   "execution_count": 23,
   "id": "dd5b9d4e",
   "metadata": {},
   "outputs": [],
   "source": [
    "img_data['DateTime_UTC'] = pd.to_datetime(img_data['DateTime_UTC'], format='%Y-%m-%d %H:%M:%S')"
   ]
  },
  {
   "cell_type": "code",
   "execution_count": 24,
   "id": "54c1d035",
   "metadata": {},
   "outputs": [
    {
     "data": {
      "text/html": [
       "<div>\n",
       "<style scoped>\n",
       "    .dataframe tbody tr th:only-of-type {\n",
       "        vertical-align: middle;\n",
       "    }\n",
       "\n",
       "    .dataframe tbody tr th {\n",
       "        vertical-align: top;\n",
       "    }\n",
       "\n",
       "    .dataframe thead th {\n",
       "        text-align: right;\n",
       "    }\n",
       "</style>\n",
       "<table border=\"1\" class=\"dataframe\">\n",
       "  <thead>\n",
       "    <tr style=\"text-align: right;\">\n",
       "      <th></th>\n",
       "      <th>DateTime_UTC</th>\n",
       "      <th>Lake_data_2D</th>\n",
       "      <th>Date</th>\n",
       "    </tr>\n",
       "  </thead>\n",
       "  <tbody>\n",
       "    <tr>\n",
       "      <th>0</th>\n",
       "      <td>2006-10-01 14:00:00</td>\n",
       "      <td>[array([       nan,        nan,        nan,   ...</td>\n",
       "      <td>2006-10-01</td>\n",
       "    </tr>\n",
       "    <tr>\n",
       "      <th>1</th>\n",
       "      <td>2006-10-01 15:00:00</td>\n",
       "      <td>[array([       nan,        nan,        nan,   ...</td>\n",
       "      <td>2006-10-01</td>\n",
       "    </tr>\n",
       "    <tr>\n",
       "      <th>2</th>\n",
       "      <td>2006-10-01 16:00:00</td>\n",
       "      <td>[array([   nan,    nan,    nan,    nan,    nan...</td>\n",
       "      <td>2006-10-01</td>\n",
       "    </tr>\n",
       "    <tr>\n",
       "      <th>3</th>\n",
       "      <td>2006-10-01 17:00:00</td>\n",
       "      <td>[array([ nan,  nan,  nan,  nan,  nan,  nan,  n...</td>\n",
       "      <td>2006-10-01</td>\n",
       "    </tr>\n",
       "    <tr>\n",
       "      <th>4</th>\n",
       "      <td>2006-10-01 18:00:00</td>\n",
       "      <td>[array([   nan,    nan,    nan,    nan,    nan...</td>\n",
       "      <td>2006-10-01</td>\n",
       "    </tr>\n",
       "  </tbody>\n",
       "</table>\n",
       "</div>"
      ],
      "text/plain": [
       "         DateTime_UTC                                       Lake_data_2D  \\\n",
       "0 2006-10-01 14:00:00  [array([       nan,        nan,        nan,   ...   \n",
       "1 2006-10-01 15:00:00  [array([       nan,        nan,        nan,   ...   \n",
       "2 2006-10-01 16:00:00  [array([   nan,    nan,    nan,    nan,    nan...   \n",
       "3 2006-10-01 17:00:00  [array([ nan,  nan,  nan,  nan,  nan,  nan,  n...   \n",
       "4 2006-10-01 18:00:00  [array([   nan,    nan,    nan,    nan,    nan...   \n",
       "\n",
       "         Date  \n",
       "0  2006-10-01  \n",
       "1  2006-10-01  \n",
       "2  2006-10-01  \n",
       "3  2006-10-01  \n",
       "4  2006-10-01  "
      ]
     },
     "execution_count": 24,
     "metadata": {},
     "output_type": "execute_result"
    }
   ],
   "source": [
    "img_data['Date'] = img_data['DateTime_UTC'].dt.date\n",
    "img_data.head()"
   ]
  },
  {
   "cell_type": "markdown",
   "id": "03985e04",
   "metadata": {},
   "source": [
    "----"
   ]
  },
  {
   "cell_type": "markdown",
   "id": "dfccf4a9",
   "metadata": {},
   "source": [
    "### Creating the Training Data Sequences of Cloud images and meteorological data"
   ]
  },
  {
   "cell_type": "code",
   "execution_count": 25,
   "id": "535e8a66",
   "metadata": {},
   "outputs": [],
   "source": [
    "sequence_length = 7\n",
    "year_list = [2006,2007,2008,2009,2012,2013,2014,2015]"
   ]
  },
  {
   "cell_type": "code",
   "execution_count": 26,
   "id": "8d960935",
   "metadata": {},
   "outputs": [],
   "source": [
    "img_data['Date'] = img_data['DateTime_UTC'].dt.date"
   ]
  },
  {
   "cell_type": "code",
   "execution_count": 27,
   "id": "bb4a1f15",
   "metadata": {},
   "outputs": [
    {
     "name": "stderr",
     "output_type": "stream",
     "text": [
      "100%|████████████████████████████████████████████████████████████████████████████████████| 8/8 [03:42<00:00, 27.84s/it]\n"
     ]
    }
   ],
   "source": [
    "all_meteo_seq_list = []\n",
    "all_label_list = []\n",
    "all_video_list = []\n",
    "\n",
    "for y in tqdm(year_list):\n",
    "    start_date = date(y, 10, 1)\n",
    "    end_date = date(y+1, 3, 31)\n",
    "\n",
    "    train_meteo_data = daily_data[(daily_data['Date']>=start_date)\n",
    "                                  &(daily_data['Date']<=end_date)].reset_index(drop=True) \n",
    "    \n",
    "    train_img_data = img_data[(img_data['Date']>=start_date)\n",
    "                             &(img_data['Date']<=end_date)]\n",
    "\n",
    "    meteo_seq_list = []\n",
    "    label_list = []\n",
    "    date_list = []\n",
    "    video_list = []\n",
    "\n",
    "    for i in range(sequence_length-1, len(train_meteo_data)):\n",
    "\n",
    "        meteo_seq = train_meteo_data[i - (sequence_length-1) : i+1][features].values\n",
    "        label = train_meteo_data[labels].values[i]\n",
    "        curr_date = train_meteo_data['Date'].values[i]\n",
    "\n",
    "        meteo_seq_list.append(meteo_seq)\n",
    "        label_list.append(label)\n",
    "        date_list.append(curr_date)\n",
    "\n",
    "        curr_img_data = train_img_data[train_img_data.Date == curr_date]\n",
    "        image_list=[]\n",
    "\n",
    "        for i in range(len(curr_img_data)):\n",
    "            data_sample_2d = curr_img_data['Lake_data_2D'].values[i]\n",
    "            data_sample_2d_array = np.array(eval(data_sample_2d.replace('array(', '').replace('nan', 'np.nan').replace('\\n', '').replace(')', '')))\n",
    "            data_sample_2d_array_resized = cv2.resize(data_sample_2d_array, (64, 64))\n",
    "            data_sample_2d_array_resized = np.expand_dims(data_sample_2d_array_resized, axis=-1)\n",
    "            image_list.append(data_sample_2d_array_resized)\n",
    "\n",
    "        array_3d = np.stack(image_list, axis=0)\n",
    "        array_3d_filled = np.nan_to_num(array_3d, nan=0.0)\n",
    "        video_list.append(array_3d_filled)\n",
    "            \n",
    "    meteo_seq_array = np.stack(meteo_seq_list, axis=0)    \n",
    "    label_array = np.stack(label_list, axis=0)\n",
    "    video_array = np.stack(video_list, axis=0)\n",
    "    \n",
    "    all_meteo_seq_list.append(meteo_seq_array)\n",
    "    all_label_list.append(label_array)\n",
    "    all_video_list.append(video_array)"
   ]
  },
  {
   "cell_type": "code",
   "execution_count": 28,
   "id": "8c4be6d5",
   "metadata": {},
   "outputs": [],
   "source": [
    "train_meteo = np.concatenate(all_meteo_seq_list, axis=0)\n",
    "train_video = np.concatenate(all_video_list, axis=0)\n",
    "train_label = np.concatenate(all_label_list, axis=0)"
   ]
  },
  {
   "cell_type": "code",
   "execution_count": 29,
   "id": "02f19a96",
   "metadata": {},
   "outputs": [
    {
     "data": {
      "text/plain": [
       "((1402, 7, 7), (1402, 9, 64, 64, 1), (1402, 4))"
      ]
     },
     "execution_count": 29,
     "metadata": {},
     "output_type": "execute_result"
    }
   ],
   "source": [
    "train_meteo.shape, train_video.shape, train_label.shape"
   ]
  },
  {
   "cell_type": "markdown",
   "id": "6e76bb54",
   "metadata": {},
   "source": [
    "### Creating the Testing Data Sequences of Cloud images and meteorological data"
   ]
  },
  {
   "cell_type": "code",
   "execution_count": 30,
   "id": "488b5c8b",
   "metadata": {},
   "outputs": [],
   "source": [
    "sequence_length = 7\n",
    "year_list = [2016]"
   ]
  },
  {
   "cell_type": "code",
   "execution_count": 31,
   "id": "7ccd5e7e",
   "metadata": {},
   "outputs": [
    {
     "name": "stderr",
     "output_type": "stream",
     "text": [
      "100%|████████████████████████████████████████████████████████████████████████████████████| 1/1 [00:28<00:00, 28.12s/it]\n"
     ]
    }
   ],
   "source": [
    "all_meteo_seq_list = []\n",
    "all_label_list = []\n",
    "all_video_list = []\n",
    "\n",
    "for y in tqdm(year_list):\n",
    "    start_date = date(y, 10, 1)\n",
    "    end_date = date(y+1, 3, 31)\n",
    "\n",
    "    train_meteo_data = daily_data[(daily_data['Date']>=start_date)\n",
    "                                  &(daily_data['Date']<=end_date)].reset_index(drop=True) \n",
    "    \n",
    "    train_img_data = img_data[(img_data['Date']>=start_date)\n",
    "                             &(img_data['Date']<=end_date)]\n",
    "\n",
    "    meteo_seq_list = []\n",
    "    label_list = []\n",
    "    date_list = []\n",
    "    video_list = []\n",
    "\n",
    "    for i in range(sequence_length-1, len(train_meteo_data)):\n",
    "\n",
    "        meteo_seq = train_meteo_data[i - (sequence_length-1) : i+1][features].values\n",
    "        label = train_meteo_data[labels].values[i]\n",
    "        curr_date = train_meteo_data['Date'].values[i]\n",
    "\n",
    "        meteo_seq_list.append(meteo_seq)\n",
    "        label_list.append(label)\n",
    "        date_list.append(curr_date)\n",
    "\n",
    "        curr_img_data = train_img_data[train_img_data.Date == curr_date]\n",
    "        image_list=[]\n",
    "\n",
    "        for i in range(len(curr_img_data)):\n",
    "            data_sample_2d = curr_img_data['Lake_data_2D'].values[i]\n",
    "            data_sample_2d_array = np.array(eval(data_sample_2d.replace('array(', '').replace('nan', 'np.nan').replace('\\n', '').replace(')', '')))\n",
    "            data_sample_2d_array_resized = cv2.resize(data_sample_2d_array, (64, 64))\n",
    "            data_sample_2d_array_resized = np.expand_dims(data_sample_2d_array_resized, axis=-1)\n",
    "            image_list.append(data_sample_2d_array_resized)\n",
    "\n",
    "        array_3d = np.stack(image_list, axis=0)\n",
    "        array_3d_filled = np.nan_to_num(array_3d, nan=0.0)\n",
    "        video_list.append(array_3d_filled)\n",
    "            \n",
    "    meteo_seq_array = np.stack(meteo_seq_list, axis=0)    \n",
    "    label_array = np.stack(label_list, axis=0)\n",
    "    video_array = np.stack(video_list, axis=0)\n",
    "    \n",
    "    all_meteo_seq_list.append(meteo_seq_array)\n",
    "    all_label_list.append(label_array)\n",
    "    all_video_list.append(video_array)"
   ]
  },
  {
   "cell_type": "code",
   "execution_count": 32,
   "id": "3381d3f2",
   "metadata": {},
   "outputs": [],
   "source": [
    "test_meteo = np.concatenate(all_meteo_seq_list, axis=0)\n",
    "test_video = np.concatenate(all_video_list, axis=0)\n",
    "test_label = np.concatenate(all_label_list, axis=0)"
   ]
  },
  {
   "cell_type": "code",
   "execution_count": 33,
   "id": "c316d007",
   "metadata": {},
   "outputs": [
    {
     "data": {
      "text/plain": [
       "((175, 7, 7), (175, 9, 64, 64, 1), (175, 4))"
      ]
     },
     "execution_count": 33,
     "metadata": {},
     "output_type": "execute_result"
    }
   ],
   "source": [
    "test_meteo.shape, test_video.shape, test_label.shape"
   ]
  },
  {
   "cell_type": "markdown",
   "id": "c58dcd82",
   "metadata": {},
   "source": [
    "---"
   ]
  },
  {
   "cell_type": "markdown",
   "id": "a056cd60",
   "metadata": {},
   "source": [
    "\n",
    "# Convolutional Neural Network + Recurrent Neural Network Architecture\n",
    "\n",
    "## Hybrid Model 1"
   ]
  },
  {
   "cell_type": "markdown",
   "id": "c5d0dbfd",
   "metadata": {},
   "source": [
    "**To balance the weights and pay more attention to underrepresented classes, we will calculate the class weights and pass this during training**"
   ]
  },
  {
   "cell_type": "code",
   "execution_count": 34,
   "id": "9f7ab0ad",
   "metadata": {},
   "outputs": [],
   "source": [
    "category_counts = one_hot_encoded.sum()\n",
    "\n",
    "total_samples = one_hot_encoded.sum().sum()\n",
    "\n",
    "class_weights = total_samples / (4 * category_counts)\n",
    "\n",
    "class_weight_dict = {i: class_weights[i] for i in range(len(class_weights))}"
   ]
  },
  {
   "cell_type": "code",
   "execution_count": 35,
   "id": "1749c9c3",
   "metadata": {},
   "outputs": [
    {
     "data": {
      "text/plain": [
       "{0: 0.4738593155893536,\n",
       " 1: 0.7838050314465409,\n",
       " 2: 2.5176767676767677,\n",
       " 3: 4.6157407407407405}"
      ]
     },
     "execution_count": 35,
     "metadata": {},
     "output_type": "execute_result"
    }
   ],
   "source": [
    "class_weight_dict"
   ]
  },
  {
   "cell_type": "markdown",
   "id": "e1f89133",
   "metadata": {},
   "source": [
    "Model Architecture\n",
    "- One CNN layer\n",
    "- Three RNN LSTM layers, with verying units throughout the layers and activations as desired\n",
    "- BatchNormalization for each layers"
   ]
  },
  {
   "cell_type": "code",
   "execution_count": 36,
   "id": "fe4ecbc7",
   "metadata": {},
   "outputs": [],
   "source": [
    "# CNN Model\n",
    "cnn_input = Input(shape=(9, 64, 64, 1))\n",
    "cnn = Conv3D(filters=32, kernel_size=(3, 3, 3), activation='relu', padding='same')(cnn_input)\n",
    "cnn = BatchNormalization()(cnn)\n",
    "cnn = MaxPooling3D(pool_size=(2, 2, 2))(cnn)\n",
    "\n",
    "cnn = Flatten()(cnn)\n",
    "cnn_output = Dense(32, activation='relu')(cnn)\n",
    "\n",
    "# RNN Model\n",
    "rnn_input = Input(shape=(7, 7))\n",
    "rnn = LSTM(128, return_sequences=True)(rnn_input)\n",
    "rnn = BatchNormalization()(rnn)\n",
    "rnn = LSTM(64, return_sequences=True)(rnn)\n",
    "rnn = BatchNormalization()(rnn)\n",
    "rnn = LSTM(32, return_sequences=False)(rnn)\n",
    "rnn = BatchNormalization()(rnn)\n",
    "rnn_output = Dense(24, activation='relu')(rnn)\n",
    "\n",
    "# Concatenation and final layers\n",
    "concatenated = Concatenate()([cnn_output, rnn_output])\n",
    "\n",
    "final_dense = Dense(32, activation='relu')(concatenated)\n",
    "final_output = Dense(4, activation='softmax')(final_dense)\n",
    "\n",
    "# Final model assembly\n",
    "model = Model(inputs=[cnn_input, rnn_input], outputs=final_output)\n",
    "\n",
    "# Compile the model\n",
    "model.compile(optimizer='adam', loss='categorical_crossentropy', metrics=['accuracy'])"
   ]
  },
  {
   "cell_type": "code",
   "execution_count": 37,
   "id": "01b66053",
   "metadata": {},
   "outputs": [
    {
     "data": {
      "text/html": [
       "<pre style=\"white-space:pre;overflow-x:auto;line-height:normal;font-family:Menlo,'DejaVu Sans Mono',consolas,'Courier New',monospace\"><span style=\"font-weight: bold\">Model: \"functional_1\"</span>\n",
       "</pre>\n"
      ],
      "text/plain": [
       "\u001b[1mModel: \"functional_1\"\u001b[0m\n"
      ]
     },
     "metadata": {},
     "output_type": "display_data"
    },
    {
     "data": {
      "text/html": [
       "<pre style=\"white-space:pre;overflow-x:auto;line-height:normal;font-family:Menlo,'DejaVu Sans Mono',consolas,'Courier New',monospace\">┏━━━━━━━━━━━━━━━━━━━━━━━━━━━━━━━┳━━━━━━━━━━━━━━━━━━━━━━━━━━━┳━━━━━━━━━━━━━━━━━┳━━━━━━━━━━━━━━━━━━━━━━━━━━━━┓\n",
       "┃<span style=\"font-weight: bold\"> Layer (type)                  </span>┃<span style=\"font-weight: bold\"> Output Shape              </span>┃<span style=\"font-weight: bold\">         Param # </span>┃<span style=\"font-weight: bold\"> Connected to               </span>┃\n",
       "┡━━━━━━━━━━━━━━━━━━━━━━━━━━━━━━━╇━━━━━━━━━━━━━━━━━━━━━━━━━━━╇━━━━━━━━━━━━━━━━━╇━━━━━━━━━━━━━━━━━━━━━━━━━━━━┩\n",
       "│ input_layer_1 (<span style=\"color: #0087ff; text-decoration-color: #0087ff\">InputLayer</span>)    │ (<span style=\"color: #00d7ff; text-decoration-color: #00d7ff\">None</span>, <span style=\"color: #00af00; text-decoration-color: #00af00\">7</span>, <span style=\"color: #00af00; text-decoration-color: #00af00\">7</span>)              │               <span style=\"color: #00af00; text-decoration-color: #00af00\">0</span> │ -                          │\n",
       "├───────────────────────────────┼───────────────────────────┼─────────────────┼────────────────────────────┤\n",
       "│ lstm (<span style=\"color: #0087ff; text-decoration-color: #0087ff\">LSTM</span>)                   │ (<span style=\"color: #00d7ff; text-decoration-color: #00d7ff\">None</span>, <span style=\"color: #00af00; text-decoration-color: #00af00\">7</span>, <span style=\"color: #00af00; text-decoration-color: #00af00\">128</span>)            │          <span style=\"color: #00af00; text-decoration-color: #00af00\">69,632</span> │ input_layer_1[<span style=\"color: #00af00; text-decoration-color: #00af00\">0</span>][<span style=\"color: #00af00; text-decoration-color: #00af00\">0</span>]        │\n",
       "├───────────────────────────────┼───────────────────────────┼─────────────────┼────────────────────────────┤\n",
       "│ input_layer (<span style=\"color: #0087ff; text-decoration-color: #0087ff\">InputLayer</span>)      │ (<span style=\"color: #00d7ff; text-decoration-color: #00d7ff\">None</span>, <span style=\"color: #00af00; text-decoration-color: #00af00\">9</span>, <span style=\"color: #00af00; text-decoration-color: #00af00\">64</span>, <span style=\"color: #00af00; text-decoration-color: #00af00\">64</span>, <span style=\"color: #00af00; text-decoration-color: #00af00\">1</span>)      │               <span style=\"color: #00af00; text-decoration-color: #00af00\">0</span> │ -                          │\n",
       "├───────────────────────────────┼───────────────────────────┼─────────────────┼────────────────────────────┤\n",
       "│ batch_normalization_1         │ (<span style=\"color: #00d7ff; text-decoration-color: #00d7ff\">None</span>, <span style=\"color: #00af00; text-decoration-color: #00af00\">7</span>, <span style=\"color: #00af00; text-decoration-color: #00af00\">128</span>)            │             <span style=\"color: #00af00; text-decoration-color: #00af00\">512</span> │ lstm[<span style=\"color: #00af00; text-decoration-color: #00af00\">0</span>][<span style=\"color: #00af00; text-decoration-color: #00af00\">0</span>]                 │\n",
       "│ (<span style=\"color: #0087ff; text-decoration-color: #0087ff\">BatchNormalization</span>)          │                           │                 │                            │\n",
       "├───────────────────────────────┼───────────────────────────┼─────────────────┼────────────────────────────┤\n",
       "│ conv3d (<span style=\"color: #0087ff; text-decoration-color: #0087ff\">Conv3D</span>)               │ (<span style=\"color: #00d7ff; text-decoration-color: #00d7ff\">None</span>, <span style=\"color: #00af00; text-decoration-color: #00af00\">9</span>, <span style=\"color: #00af00; text-decoration-color: #00af00\">64</span>, <span style=\"color: #00af00; text-decoration-color: #00af00\">64</span>, <span style=\"color: #00af00; text-decoration-color: #00af00\">32</span>)     │             <span style=\"color: #00af00; text-decoration-color: #00af00\">896</span> │ input_layer[<span style=\"color: #00af00; text-decoration-color: #00af00\">0</span>][<span style=\"color: #00af00; text-decoration-color: #00af00\">0</span>]          │\n",
       "├───────────────────────────────┼───────────────────────────┼─────────────────┼────────────────────────────┤\n",
       "│ lstm_1 (<span style=\"color: #0087ff; text-decoration-color: #0087ff\">LSTM</span>)                 │ (<span style=\"color: #00d7ff; text-decoration-color: #00d7ff\">None</span>, <span style=\"color: #00af00; text-decoration-color: #00af00\">7</span>, <span style=\"color: #00af00; text-decoration-color: #00af00\">64</span>)             │          <span style=\"color: #00af00; text-decoration-color: #00af00\">49,408</span> │ batch_normalization_1[<span style=\"color: #00af00; text-decoration-color: #00af00\">0</span>][<span style=\"color: #00af00; text-decoration-color: #00af00\">…</span> │\n",
       "├───────────────────────────────┼───────────────────────────┼─────────────────┼────────────────────────────┤\n",
       "│ batch_normalization           │ (<span style=\"color: #00d7ff; text-decoration-color: #00d7ff\">None</span>, <span style=\"color: #00af00; text-decoration-color: #00af00\">9</span>, <span style=\"color: #00af00; text-decoration-color: #00af00\">64</span>, <span style=\"color: #00af00; text-decoration-color: #00af00\">64</span>, <span style=\"color: #00af00; text-decoration-color: #00af00\">32</span>)     │             <span style=\"color: #00af00; text-decoration-color: #00af00\">128</span> │ conv3d[<span style=\"color: #00af00; text-decoration-color: #00af00\">0</span>][<span style=\"color: #00af00; text-decoration-color: #00af00\">0</span>]               │\n",
       "│ (<span style=\"color: #0087ff; text-decoration-color: #0087ff\">BatchNormalization</span>)          │                           │                 │                            │\n",
       "├───────────────────────────────┼───────────────────────────┼─────────────────┼────────────────────────────┤\n",
       "│ batch_normalization_2         │ (<span style=\"color: #00d7ff; text-decoration-color: #00d7ff\">None</span>, <span style=\"color: #00af00; text-decoration-color: #00af00\">7</span>, <span style=\"color: #00af00; text-decoration-color: #00af00\">64</span>)             │             <span style=\"color: #00af00; text-decoration-color: #00af00\">256</span> │ lstm_1[<span style=\"color: #00af00; text-decoration-color: #00af00\">0</span>][<span style=\"color: #00af00; text-decoration-color: #00af00\">0</span>]               │\n",
       "│ (<span style=\"color: #0087ff; text-decoration-color: #0087ff\">BatchNormalization</span>)          │                           │                 │                            │\n",
       "├───────────────────────────────┼───────────────────────────┼─────────────────┼────────────────────────────┤\n",
       "│ max_pooling3d (<span style=\"color: #0087ff; text-decoration-color: #0087ff\">MaxPooling3D</span>)  │ (<span style=\"color: #00d7ff; text-decoration-color: #00d7ff\">None</span>, <span style=\"color: #00af00; text-decoration-color: #00af00\">4</span>, <span style=\"color: #00af00; text-decoration-color: #00af00\">32</span>, <span style=\"color: #00af00; text-decoration-color: #00af00\">32</span>, <span style=\"color: #00af00; text-decoration-color: #00af00\">32</span>)     │               <span style=\"color: #00af00; text-decoration-color: #00af00\">0</span> │ batch_normalization[<span style=\"color: #00af00; text-decoration-color: #00af00\">0</span>][<span style=\"color: #00af00; text-decoration-color: #00af00\">0</span>]  │\n",
       "├───────────────────────────────┼───────────────────────────┼─────────────────┼────────────────────────────┤\n",
       "│ lstm_2 (<span style=\"color: #0087ff; text-decoration-color: #0087ff\">LSTM</span>)                 │ (<span style=\"color: #00d7ff; text-decoration-color: #00d7ff\">None</span>, <span style=\"color: #00af00; text-decoration-color: #00af00\">32</span>)                │          <span style=\"color: #00af00; text-decoration-color: #00af00\">12,416</span> │ batch_normalization_2[<span style=\"color: #00af00; text-decoration-color: #00af00\">0</span>][<span style=\"color: #00af00; text-decoration-color: #00af00\">…</span> │\n",
       "├───────────────────────────────┼───────────────────────────┼─────────────────┼────────────────────────────┤\n",
       "│ flatten (<span style=\"color: #0087ff; text-decoration-color: #0087ff\">Flatten</span>)             │ (<span style=\"color: #00d7ff; text-decoration-color: #00d7ff\">None</span>, <span style=\"color: #00af00; text-decoration-color: #00af00\">131072</span>)            │               <span style=\"color: #00af00; text-decoration-color: #00af00\">0</span> │ max_pooling3d[<span style=\"color: #00af00; text-decoration-color: #00af00\">0</span>][<span style=\"color: #00af00; text-decoration-color: #00af00\">0</span>]        │\n",
       "├───────────────────────────────┼───────────────────────────┼─────────────────┼────────────────────────────┤\n",
       "│ batch_normalization_3         │ (<span style=\"color: #00d7ff; text-decoration-color: #00d7ff\">None</span>, <span style=\"color: #00af00; text-decoration-color: #00af00\">32</span>)                │             <span style=\"color: #00af00; text-decoration-color: #00af00\">128</span> │ lstm_2[<span style=\"color: #00af00; text-decoration-color: #00af00\">0</span>][<span style=\"color: #00af00; text-decoration-color: #00af00\">0</span>]               │\n",
       "│ (<span style=\"color: #0087ff; text-decoration-color: #0087ff\">BatchNormalization</span>)          │                           │                 │                            │\n",
       "├───────────────────────────────┼───────────────────────────┼─────────────────┼────────────────────────────┤\n",
       "│ dense (<span style=\"color: #0087ff; text-decoration-color: #0087ff\">Dense</span>)                 │ (<span style=\"color: #00d7ff; text-decoration-color: #00d7ff\">None</span>, <span style=\"color: #00af00; text-decoration-color: #00af00\">32</span>)                │       <span style=\"color: #00af00; text-decoration-color: #00af00\">4,194,336</span> │ flatten[<span style=\"color: #00af00; text-decoration-color: #00af00\">0</span>][<span style=\"color: #00af00; text-decoration-color: #00af00\">0</span>]              │\n",
       "├───────────────────────────────┼───────────────────────────┼─────────────────┼────────────────────────────┤\n",
       "│ dense_1 (<span style=\"color: #0087ff; text-decoration-color: #0087ff\">Dense</span>)               │ (<span style=\"color: #00d7ff; text-decoration-color: #00d7ff\">None</span>, <span style=\"color: #00af00; text-decoration-color: #00af00\">24</span>)                │             <span style=\"color: #00af00; text-decoration-color: #00af00\">792</span> │ batch_normalization_3[<span style=\"color: #00af00; text-decoration-color: #00af00\">0</span>][<span style=\"color: #00af00; text-decoration-color: #00af00\">…</span> │\n",
       "├───────────────────────────────┼───────────────────────────┼─────────────────┼────────────────────────────┤\n",
       "│ concatenate (<span style=\"color: #0087ff; text-decoration-color: #0087ff\">Concatenate</span>)     │ (<span style=\"color: #00d7ff; text-decoration-color: #00d7ff\">None</span>, <span style=\"color: #00af00; text-decoration-color: #00af00\">56</span>)                │               <span style=\"color: #00af00; text-decoration-color: #00af00\">0</span> │ dense[<span style=\"color: #00af00; text-decoration-color: #00af00\">0</span>][<span style=\"color: #00af00; text-decoration-color: #00af00\">0</span>], dense_1[<span style=\"color: #00af00; text-decoration-color: #00af00\">0</span>][<span style=\"color: #00af00; text-decoration-color: #00af00\">0</span>] │\n",
       "├───────────────────────────────┼───────────────────────────┼─────────────────┼────────────────────────────┤\n",
       "│ dense_2 (<span style=\"color: #0087ff; text-decoration-color: #0087ff\">Dense</span>)               │ (<span style=\"color: #00d7ff; text-decoration-color: #00d7ff\">None</span>, <span style=\"color: #00af00; text-decoration-color: #00af00\">32</span>)                │           <span style=\"color: #00af00; text-decoration-color: #00af00\">1,824</span> │ concatenate[<span style=\"color: #00af00; text-decoration-color: #00af00\">0</span>][<span style=\"color: #00af00; text-decoration-color: #00af00\">0</span>]          │\n",
       "├───────────────────────────────┼───────────────────────────┼─────────────────┼────────────────────────────┤\n",
       "│ dense_3 (<span style=\"color: #0087ff; text-decoration-color: #0087ff\">Dense</span>)               │ (<span style=\"color: #00d7ff; text-decoration-color: #00d7ff\">None</span>, <span style=\"color: #00af00; text-decoration-color: #00af00\">4</span>)                 │             <span style=\"color: #00af00; text-decoration-color: #00af00\">132</span> │ dense_2[<span style=\"color: #00af00; text-decoration-color: #00af00\">0</span>][<span style=\"color: #00af00; text-decoration-color: #00af00\">0</span>]              │\n",
       "└───────────────────────────────┴───────────────────────────┴─────────────────┴────────────────────────────┘\n",
       "</pre>\n"
      ],
      "text/plain": [
       "┏━━━━━━━━━━━━━━━━━━━━━━━━━━━━━━━┳━━━━━━━━━━━━━━━━━━━━━━━━━━━┳━━━━━━━━━━━━━━━━━┳━━━━━━━━━━━━━━━━━━━━━━━━━━━━┓\n",
       "┃\u001b[1m \u001b[0m\u001b[1mLayer (type)                 \u001b[0m\u001b[1m \u001b[0m┃\u001b[1m \u001b[0m\u001b[1mOutput Shape             \u001b[0m\u001b[1m \u001b[0m┃\u001b[1m \u001b[0m\u001b[1m        Param #\u001b[0m\u001b[1m \u001b[0m┃\u001b[1m \u001b[0m\u001b[1mConnected to              \u001b[0m\u001b[1m \u001b[0m┃\n",
       "┡━━━━━━━━━━━━━━━━━━━━━━━━━━━━━━━╇━━━━━━━━━━━━━━━━━━━━━━━━━━━╇━━━━━━━━━━━━━━━━━╇━━━━━━━━━━━━━━━━━━━━━━━━━━━━┩\n",
       "│ input_layer_1 (\u001b[38;5;33mInputLayer\u001b[0m)    │ (\u001b[38;5;45mNone\u001b[0m, \u001b[38;5;34m7\u001b[0m, \u001b[38;5;34m7\u001b[0m)              │               \u001b[38;5;34m0\u001b[0m │ -                          │\n",
       "├───────────────────────────────┼───────────────────────────┼─────────────────┼────────────────────────────┤\n",
       "│ lstm (\u001b[38;5;33mLSTM\u001b[0m)                   │ (\u001b[38;5;45mNone\u001b[0m, \u001b[38;5;34m7\u001b[0m, \u001b[38;5;34m128\u001b[0m)            │          \u001b[38;5;34m69,632\u001b[0m │ input_layer_1[\u001b[38;5;34m0\u001b[0m][\u001b[38;5;34m0\u001b[0m]        │\n",
       "├───────────────────────────────┼───────────────────────────┼─────────────────┼────────────────────────────┤\n",
       "│ input_layer (\u001b[38;5;33mInputLayer\u001b[0m)      │ (\u001b[38;5;45mNone\u001b[0m, \u001b[38;5;34m9\u001b[0m, \u001b[38;5;34m64\u001b[0m, \u001b[38;5;34m64\u001b[0m, \u001b[38;5;34m1\u001b[0m)      │               \u001b[38;5;34m0\u001b[0m │ -                          │\n",
       "├───────────────────────────────┼───────────────────────────┼─────────────────┼────────────────────────────┤\n",
       "│ batch_normalization_1         │ (\u001b[38;5;45mNone\u001b[0m, \u001b[38;5;34m7\u001b[0m, \u001b[38;5;34m128\u001b[0m)            │             \u001b[38;5;34m512\u001b[0m │ lstm[\u001b[38;5;34m0\u001b[0m][\u001b[38;5;34m0\u001b[0m]                 │\n",
       "│ (\u001b[38;5;33mBatchNormalization\u001b[0m)          │                           │                 │                            │\n",
       "├───────────────────────────────┼───────────────────────────┼─────────────────┼────────────────────────────┤\n",
       "│ conv3d (\u001b[38;5;33mConv3D\u001b[0m)               │ (\u001b[38;5;45mNone\u001b[0m, \u001b[38;5;34m9\u001b[0m, \u001b[38;5;34m64\u001b[0m, \u001b[38;5;34m64\u001b[0m, \u001b[38;5;34m32\u001b[0m)     │             \u001b[38;5;34m896\u001b[0m │ input_layer[\u001b[38;5;34m0\u001b[0m][\u001b[38;5;34m0\u001b[0m]          │\n",
       "├───────────────────────────────┼───────────────────────────┼─────────────────┼────────────────────────────┤\n",
       "│ lstm_1 (\u001b[38;5;33mLSTM\u001b[0m)                 │ (\u001b[38;5;45mNone\u001b[0m, \u001b[38;5;34m7\u001b[0m, \u001b[38;5;34m64\u001b[0m)             │          \u001b[38;5;34m49,408\u001b[0m │ batch_normalization_1[\u001b[38;5;34m0\u001b[0m][\u001b[38;5;34m…\u001b[0m │\n",
       "├───────────────────────────────┼───────────────────────────┼─────────────────┼────────────────────────────┤\n",
       "│ batch_normalization           │ (\u001b[38;5;45mNone\u001b[0m, \u001b[38;5;34m9\u001b[0m, \u001b[38;5;34m64\u001b[0m, \u001b[38;5;34m64\u001b[0m, \u001b[38;5;34m32\u001b[0m)     │             \u001b[38;5;34m128\u001b[0m │ conv3d[\u001b[38;5;34m0\u001b[0m][\u001b[38;5;34m0\u001b[0m]               │\n",
       "│ (\u001b[38;5;33mBatchNormalization\u001b[0m)          │                           │                 │                            │\n",
       "├───────────────────────────────┼───────────────────────────┼─────────────────┼────────────────────────────┤\n",
       "│ batch_normalization_2         │ (\u001b[38;5;45mNone\u001b[0m, \u001b[38;5;34m7\u001b[0m, \u001b[38;5;34m64\u001b[0m)             │             \u001b[38;5;34m256\u001b[0m │ lstm_1[\u001b[38;5;34m0\u001b[0m][\u001b[38;5;34m0\u001b[0m]               │\n",
       "│ (\u001b[38;5;33mBatchNormalization\u001b[0m)          │                           │                 │                            │\n",
       "├───────────────────────────────┼───────────────────────────┼─────────────────┼────────────────────────────┤\n",
       "│ max_pooling3d (\u001b[38;5;33mMaxPooling3D\u001b[0m)  │ (\u001b[38;5;45mNone\u001b[0m, \u001b[38;5;34m4\u001b[0m, \u001b[38;5;34m32\u001b[0m, \u001b[38;5;34m32\u001b[0m, \u001b[38;5;34m32\u001b[0m)     │               \u001b[38;5;34m0\u001b[0m │ batch_normalization[\u001b[38;5;34m0\u001b[0m][\u001b[38;5;34m0\u001b[0m]  │\n",
       "├───────────────────────────────┼───────────────────────────┼─────────────────┼────────────────────────────┤\n",
       "│ lstm_2 (\u001b[38;5;33mLSTM\u001b[0m)                 │ (\u001b[38;5;45mNone\u001b[0m, \u001b[38;5;34m32\u001b[0m)                │          \u001b[38;5;34m12,416\u001b[0m │ batch_normalization_2[\u001b[38;5;34m0\u001b[0m][\u001b[38;5;34m…\u001b[0m │\n",
       "├───────────────────────────────┼───────────────────────────┼─────────────────┼────────────────────────────┤\n",
       "│ flatten (\u001b[38;5;33mFlatten\u001b[0m)             │ (\u001b[38;5;45mNone\u001b[0m, \u001b[38;5;34m131072\u001b[0m)            │               \u001b[38;5;34m0\u001b[0m │ max_pooling3d[\u001b[38;5;34m0\u001b[0m][\u001b[38;5;34m0\u001b[0m]        │\n",
       "├───────────────────────────────┼───────────────────────────┼─────────────────┼────────────────────────────┤\n",
       "│ batch_normalization_3         │ (\u001b[38;5;45mNone\u001b[0m, \u001b[38;5;34m32\u001b[0m)                │             \u001b[38;5;34m128\u001b[0m │ lstm_2[\u001b[38;5;34m0\u001b[0m][\u001b[38;5;34m0\u001b[0m]               │\n",
       "│ (\u001b[38;5;33mBatchNormalization\u001b[0m)          │                           │                 │                            │\n",
       "├───────────────────────────────┼───────────────────────────┼─────────────────┼────────────────────────────┤\n",
       "│ dense (\u001b[38;5;33mDense\u001b[0m)                 │ (\u001b[38;5;45mNone\u001b[0m, \u001b[38;5;34m32\u001b[0m)                │       \u001b[38;5;34m4,194,336\u001b[0m │ flatten[\u001b[38;5;34m0\u001b[0m][\u001b[38;5;34m0\u001b[0m]              │\n",
       "├───────────────────────────────┼───────────────────────────┼─────────────────┼────────────────────────────┤\n",
       "│ dense_1 (\u001b[38;5;33mDense\u001b[0m)               │ (\u001b[38;5;45mNone\u001b[0m, \u001b[38;5;34m24\u001b[0m)                │             \u001b[38;5;34m792\u001b[0m │ batch_normalization_3[\u001b[38;5;34m0\u001b[0m][\u001b[38;5;34m…\u001b[0m │\n",
       "├───────────────────────────────┼───────────────────────────┼─────────────────┼────────────────────────────┤\n",
       "│ concatenate (\u001b[38;5;33mConcatenate\u001b[0m)     │ (\u001b[38;5;45mNone\u001b[0m, \u001b[38;5;34m56\u001b[0m)                │               \u001b[38;5;34m0\u001b[0m │ dense[\u001b[38;5;34m0\u001b[0m][\u001b[38;5;34m0\u001b[0m], dense_1[\u001b[38;5;34m0\u001b[0m][\u001b[38;5;34m0\u001b[0m] │\n",
       "├───────────────────────────────┼───────────────────────────┼─────────────────┼────────────────────────────┤\n",
       "│ dense_2 (\u001b[38;5;33mDense\u001b[0m)               │ (\u001b[38;5;45mNone\u001b[0m, \u001b[38;5;34m32\u001b[0m)                │           \u001b[38;5;34m1,824\u001b[0m │ concatenate[\u001b[38;5;34m0\u001b[0m][\u001b[38;5;34m0\u001b[0m]          │\n",
       "├───────────────────────────────┼───────────────────────────┼─────────────────┼────────────────────────────┤\n",
       "│ dense_3 (\u001b[38;5;33mDense\u001b[0m)               │ (\u001b[38;5;45mNone\u001b[0m, \u001b[38;5;34m4\u001b[0m)                 │             \u001b[38;5;34m132\u001b[0m │ dense_2[\u001b[38;5;34m0\u001b[0m][\u001b[38;5;34m0\u001b[0m]              │\n",
       "└───────────────────────────────┴───────────────────────────┴─────────────────┴────────────────────────────┘\n"
      ]
     },
     "metadata": {},
     "output_type": "display_data"
    },
    {
     "data": {
      "text/html": [
       "<pre style=\"white-space:pre;overflow-x:auto;line-height:normal;font-family:Menlo,'DejaVu Sans Mono',consolas,'Courier New',monospace\"><span style=\"font-weight: bold\"> Total params: </span><span style=\"color: #00af00; text-decoration-color: #00af00\">4,330,460</span> (16.52 MB)\n",
       "</pre>\n"
      ],
      "text/plain": [
       "\u001b[1m Total params: \u001b[0m\u001b[38;5;34m4,330,460\u001b[0m (16.52 MB)\n"
      ]
     },
     "metadata": {},
     "output_type": "display_data"
    },
    {
     "data": {
      "text/html": [
       "<pre style=\"white-space:pre;overflow-x:auto;line-height:normal;font-family:Menlo,'DejaVu Sans Mono',consolas,'Courier New',monospace\"><span style=\"font-weight: bold\"> Trainable params: </span><span style=\"color: #00af00; text-decoration-color: #00af00\">4,329,948</span> (16.52 MB)\n",
       "</pre>\n"
      ],
      "text/plain": [
       "\u001b[1m Trainable params: \u001b[0m\u001b[38;5;34m4,329,948\u001b[0m (16.52 MB)\n"
      ]
     },
     "metadata": {},
     "output_type": "display_data"
    },
    {
     "data": {
      "text/html": [
       "<pre style=\"white-space:pre;overflow-x:auto;line-height:normal;font-family:Menlo,'DejaVu Sans Mono',consolas,'Courier New',monospace\"><span style=\"font-weight: bold\"> Non-trainable params: </span><span style=\"color: #00af00; text-decoration-color: #00af00\">512</span> (2.00 KB)\n",
       "</pre>\n"
      ],
      "text/plain": [
       "\u001b[1m Non-trainable params: \u001b[0m\u001b[38;5;34m512\u001b[0m (2.00 KB)\n"
      ]
     },
     "metadata": {},
     "output_type": "display_data"
    }
   ],
   "source": [
    "model.summary()"
   ]
  },
  {
   "cell_type": "markdown",
   "id": "5bdfdaa3",
   "metadata": {},
   "source": [
    "**Model Fitting**"
   ]
  },
  {
   "cell_type": "code",
   "execution_count": 38,
   "id": "ca2ce841",
   "metadata": {},
   "outputs": [
    {
     "name": "stdout",
     "output_type": "stream",
     "text": [
      "Epoch 1/30\n",
      "\u001b[1m36/36\u001b[0m \u001b[32m━━━━━━━━━━━━━━━━━━━━\u001b[0m\u001b[37m\u001b[0m \u001b[1m20s\u001b[0m 358ms/step - accuracy: 0.2775 - loss: 9.6940 - val_accuracy: 0.2669 - val_loss: 1.3769\n",
      "Epoch 2/30\n",
      "\u001b[1m36/36\u001b[0m \u001b[32m━━━━━━━━━━━━━━━━━━━━\u001b[0m\u001b[37m\u001b[0m \u001b[1m12s\u001b[0m 339ms/step - accuracy: 0.2591 - loss: 1.9065 - val_accuracy: 0.4164 - val_loss: 1.3665\n",
      "Epoch 3/30\n",
      "\u001b[1m36/36\u001b[0m \u001b[32m━━━━━━━━━━━━━━━━━━━━\u001b[0m\u001b[37m\u001b[0m \u001b[1m12s\u001b[0m 344ms/step - accuracy: 0.3475 - loss: 1.3507 - val_accuracy: 0.5730 - val_loss: 1.3179\n",
      "Epoch 4/30\n",
      "\u001b[1m36/36\u001b[0m \u001b[32m━━━━━━━━━━━━━━━━━━━━\u001b[0m\u001b[37m\u001b[0m \u001b[1m12s\u001b[0m 338ms/step - accuracy: 0.4177 - loss: 1.2963 - val_accuracy: 0.4733 - val_loss: 1.3569\n",
      "Epoch 5/30\n",
      "\u001b[1m36/36\u001b[0m \u001b[32m━━━━━━━━━━━━━━━━━━━━\u001b[0m\u001b[37m\u001b[0m \u001b[1m13s\u001b[0m 357ms/step - accuracy: 0.3190 - loss: 1.3002 - val_accuracy: 0.5801 - val_loss: 1.3240\n",
      "Epoch 6/30\n",
      "\u001b[1m36/36\u001b[0m \u001b[32m━━━━━━━━━━━━━━━━━━━━\u001b[0m\u001b[37m\u001b[0m \u001b[1m13s\u001b[0m 347ms/step - accuracy: 0.4304 - loss: 1.2065 - val_accuracy: 0.5445 - val_loss: 1.2720\n",
      "Epoch 7/30\n",
      "\u001b[1m36/36\u001b[0m \u001b[32m━━━━━━━━━━━━━━━━━━━━\u001b[0m\u001b[37m\u001b[0m \u001b[1m12s\u001b[0m 337ms/step - accuracy: 0.4414 - loss: 1.2021 - val_accuracy: 0.5694 - val_loss: 1.2754\n",
      "Epoch 8/30\n",
      "\u001b[1m36/36\u001b[0m \u001b[32m━━━━━━━━━━━━━━━━━━━━\u001b[0m\u001b[37m\u001b[0m \u001b[1m12s\u001b[0m 336ms/step - accuracy: 0.4536 - loss: 1.1072 - val_accuracy: 0.5125 - val_loss: 1.2177\n",
      "Epoch 9/30\n",
      "\u001b[1m36/36\u001b[0m \u001b[32m━━━━━━━━━━━━━━━━━━━━\u001b[0m\u001b[37m\u001b[0m \u001b[1m14s\u001b[0m 398ms/step - accuracy: 0.4992 - loss: 1.1391 - val_accuracy: 0.3950 - val_loss: 1.2519\n",
      "Epoch 10/30\n",
      "\u001b[1m36/36\u001b[0m \u001b[32m━━━━━━━━━━━━━━━━━━━━\u001b[0m\u001b[37m\u001b[0m \u001b[1m13s\u001b[0m 353ms/step - accuracy: 0.4683 - loss: 1.1314 - val_accuracy: 0.4947 - val_loss: 1.2085\n",
      "Epoch 11/30\n",
      "\u001b[1m36/36\u001b[0m \u001b[32m━━━━━━━━━━━━━━━━━━━━\u001b[0m\u001b[37m\u001b[0m \u001b[1m12s\u001b[0m 337ms/step - accuracy: 0.5312 - loss: 0.9701 - val_accuracy: 0.3274 - val_loss: 1.3793\n",
      "Epoch 12/30\n",
      "\u001b[1m36/36\u001b[0m \u001b[32m━━━━━━━━━━━━━━━━━━━━\u001b[0m\u001b[37m\u001b[0m \u001b[1m12s\u001b[0m 335ms/step - accuracy: 0.4215 - loss: 1.1131 - val_accuracy: 0.4733 - val_loss: 1.1885\n",
      "Epoch 13/30\n",
      "\u001b[1m36/36\u001b[0m \u001b[32m━━━━━━━━━━━━━━━━━━━━\u001b[0m\u001b[37m\u001b[0m \u001b[1m12s\u001b[0m 341ms/step - accuracy: 0.4908 - loss: 1.0578 - val_accuracy: 0.3630 - val_loss: 1.2941\n",
      "Epoch 14/30\n",
      "\u001b[1m36/36\u001b[0m \u001b[32m━━━━━━━━━━━━━━━━━━━━\u001b[0m\u001b[37m\u001b[0m \u001b[1m13s\u001b[0m 352ms/step - accuracy: 0.5540 - loss: 0.9279 - val_accuracy: 0.4199 - val_loss: 1.2160\n",
      "Epoch 15/30\n",
      "\u001b[1m36/36\u001b[0m \u001b[32m━━━━━━━━━━━━━━━━━━━━\u001b[0m\u001b[37m\u001b[0m \u001b[1m13s\u001b[0m 363ms/step - accuracy: 0.6143 - loss: 0.7682 - val_accuracy: 0.4591 - val_loss: 1.2956\n",
      "Epoch 16/30\n",
      "\u001b[1m36/36\u001b[0m \u001b[32m━━━━━━━━━━━━━━━━━━━━\u001b[0m\u001b[37m\u001b[0m \u001b[1m13s\u001b[0m 350ms/step - accuracy: 0.5961 - loss: 0.7968 - val_accuracy: 0.2954 - val_loss: 1.4198\n",
      "Epoch 17/30\n",
      "\u001b[1m36/36\u001b[0m \u001b[32m━━━━━━━━━━━━━━━━━━━━\u001b[0m\u001b[37m\u001b[0m \u001b[1m12s\u001b[0m 341ms/step - accuracy: 0.6026 - loss: 0.7160 - val_accuracy: 0.4199 - val_loss: 1.3313\n",
      "Epoch 18/30\n",
      "\u001b[1m36/36\u001b[0m \u001b[32m━━━━━━━━━━━━━━━━━━━━\u001b[0m\u001b[37m\u001b[0m \u001b[1m12s\u001b[0m 346ms/step - accuracy: 0.6702 - loss: 0.5767 - val_accuracy: 0.4733 - val_loss: 1.3124\n",
      "Epoch 19/30\n",
      "\u001b[1m36/36\u001b[0m \u001b[32m━━━━━━━━━━━━━━━━━━━━\u001b[0m\u001b[37m\u001b[0m \u001b[1m12s\u001b[0m 346ms/step - accuracy: 0.6714 - loss: 0.5592 - val_accuracy: 0.2633 - val_loss: 2.0692\n",
      "Epoch 20/30\n",
      "\u001b[1m36/36\u001b[0m \u001b[32m━━━━━━━━━━━━━━━━━━━━\u001b[0m\u001b[37m\u001b[0m \u001b[1m14s\u001b[0m 382ms/step - accuracy: 0.3753 - loss: 1.4379 - val_accuracy: 0.3345 - val_loss: 1.5221\n",
      "Epoch 21/30\n",
      "\u001b[1m36/36\u001b[0m \u001b[32m━━━━━━━━━━━━━━━━━━━━\u001b[0m\u001b[37m\u001b[0m \u001b[1m13s\u001b[0m 372ms/step - accuracy: 0.5326 - loss: 1.0448 - val_accuracy: 0.4448 - val_loss: 1.2541\n",
      "Epoch 22/30\n",
      "\u001b[1m36/36\u001b[0m \u001b[32m━━━━━━━━━━━━━━━━━━━━\u001b[0m\u001b[37m\u001b[0m \u001b[1m12s\u001b[0m 342ms/step - accuracy: 0.5505 - loss: 0.9562 - val_accuracy: 0.3950 - val_loss: 1.4935\n",
      "Epoch 23/30\n",
      "\u001b[1m36/36\u001b[0m \u001b[32m━━━━━━━━━━━━━━━━━━━━\u001b[0m\u001b[37m\u001b[0m \u001b[1m12s\u001b[0m 343ms/step - accuracy: 0.5503 - loss: 0.8614 - val_accuracy: 0.3701 - val_loss: 1.4358\n",
      "Epoch 24/30\n",
      "\u001b[1m36/36\u001b[0m \u001b[32m━━━━━━━━━━━━━━━━━━━━\u001b[0m\u001b[37m\u001b[0m \u001b[1m13s\u001b[0m 359ms/step - accuracy: 0.5756 - loss: 0.8100 - val_accuracy: 0.4484 - val_loss: 1.3044\n",
      "Epoch 25/30\n",
      "\u001b[1m36/36\u001b[0m \u001b[32m━━━━━━━━━━━━━━━━━━━━\u001b[0m\u001b[37m\u001b[0m \u001b[1m12s\u001b[0m 338ms/step - accuracy: 0.6237 - loss: 0.6649 - val_accuracy: 0.3345 - val_loss: 1.6444\n",
      "Epoch 26/30\n",
      "\u001b[1m36/36\u001b[0m \u001b[32m━━━━━━━━━━━━━━━━━━━━\u001b[0m\u001b[37m\u001b[0m \u001b[1m12s\u001b[0m 342ms/step - accuracy: 0.6096 - loss: 0.6842 - val_accuracy: 0.4306 - val_loss: 1.6184\n",
      "Epoch 27/30\n",
      "\u001b[1m36/36\u001b[0m \u001b[32m━━━━━━━━━━━━━━━━━━━━\u001b[0m\u001b[37m\u001b[0m \u001b[1m12s\u001b[0m 341ms/step - accuracy: 0.6666 - loss: 0.6943 - val_accuracy: 0.4520 - val_loss: 1.5398\n",
      "Epoch 28/30\n",
      "\u001b[1m36/36\u001b[0m \u001b[32m━━━━━━━━━━━━━━━━━━━━\u001b[0m\u001b[37m\u001b[0m \u001b[1m12s\u001b[0m 343ms/step - accuracy: 0.7434 - loss: 0.4672 - val_accuracy: 0.3203 - val_loss: 2.3222\n",
      "Epoch 29/30\n",
      "\u001b[1m36/36\u001b[0m \u001b[32m━━━━━━━━━━━━━━━━━━━━\u001b[0m\u001b[37m\u001b[0m \u001b[1m12s\u001b[0m 340ms/step - accuracy: 0.7513 - loss: 0.4285 - val_accuracy: 0.4448 - val_loss: 1.9617\n",
      "Epoch 30/30\n",
      "\u001b[1m36/36\u001b[0m \u001b[32m━━━━━━━━━━━━━━━━━━━━\u001b[0m\u001b[37m\u001b[0m \u001b[1m12s\u001b[0m 339ms/step - accuracy: 0.6962 - loss: 0.5501 - val_accuracy: 0.4270 - val_loss: 1.9443\n"
     ]
    }
   ],
   "source": [
    "history = model.fit(\n",
    "    [train_video, train_meteo],\n",
    "    train_label,                \n",
    "    epochs=30,                 \n",
    "    batch_size=32,               \n",
    "    class_weight=class_weight_dict,\n",
    "    validation_split=0.2\n",
    ")"
   ]
  },
  {
   "cell_type": "markdown",
   "id": "de2e2d4f",
   "metadata": {},
   "source": [
    "**Plots for training & validation accuracy & loss values**"
   ]
  },
  {
   "cell_type": "code",
   "execution_count": 39,
   "id": "44e69334",
   "metadata": {},
   "outputs": [
    {
     "data": {
      "image/png": "[encoded data removed]",
      "text/plain": [
       "<Figure size 640x480 with 1 Axes>"
      ]
     },
     "metadata": {},
     "output_type": "display_data"
    },
    {
     "data": {
      "image/png": "[encoded data removed]",
      "text/plain": [
       "<Figure size 640x480 with 1 Axes>"
      ]
     },
     "metadata": {},
     "output_type": "display_data"
    }
   ],
   "source": [
    "# Plot training & validation accuracy values\n",
    "plt.plot(history.history['accuracy'])\n",
    "plt.plot(history.history['val_accuracy'])\n",
    "plt.title('Model accuracy')\n",
    "plt.ylabel('Accuracy')\n",
    "plt.xlabel('Epoch')\n",
    "plt.legend(['Train', 'Validation'], loc='upper left')\n",
    "plt.show()\n",
    "\n",
    "# Plot training & validation loss values\n",
    "plt.plot(history.history['loss'])\n",
    "plt.plot(history.history['val_loss'])\n",
    "plt.title('Model loss')\n",
    "plt.ylabel('Loss')\n",
    "plt.xlabel('Epoch')\n",
    "plt.legend(['Train', 'Validation'], loc='upper left')\n",
    "plt.show()"
   ]
  },
  {
   "cell_type": "markdown",
   "id": "b2d10122",
   "metadata": {},
   "source": [
    "**Evaluate the model on the test data**"
   ]
  },
  {
   "cell_type": "code",
   "execution_count": 40,
   "id": "0384b3e1",
   "metadata": {},
   "outputs": [
    {
     "name": "stdout",
     "output_type": "stream",
     "text": [
      "\u001b[1m6/6\u001b[0m \u001b[32m━━━━━━━━━━━━━━━━━━━━\u001b[0m\u001b[37m\u001b[0m \u001b[1m0s\u001b[0m 49ms/step - accuracy: 0.3824 - loss: 2.0263\n",
      "Test Loss: 1.9669239521026611\n",
      "Test Accuracy: 0.4114285707473755\n"
     ]
    }
   ],
   "source": [
    "# Evaluate the model on the test data\n",
    "test_loss, test_accuracy = model.evaluate([test_video, test_meteo], test_label)\n",
    "\n",
    "print(f\"Test Loss: {test_loss}\")\n",
    "print(f\"Test Accuracy: {test_accuracy}\")"
   ]
  },
  {
   "cell_type": "markdown",
   "id": "7ea5967f",
   "metadata": {},
   "source": [
    "**Prediction on the test dataset**"
   ]
  },
  {
   "cell_type": "code",
   "execution_count": 41,
   "id": "06d80e43",
   "metadata": {},
   "outputs": [
    {
     "name": "stdout",
     "output_type": "stream",
     "text": [
      "\u001b[1m6/6\u001b[0m \u001b[32m━━━━━━━━━━━━━━━━━━━━\u001b[0m\u001b[37m\u001b[0m \u001b[1m1s\u001b[0m 143ms/step\n",
      "              precision    recall  f1-score   support\n",
      "\n",
      "           0       0.62      0.43      0.51        91\n",
      "           1       0.33      0.47      0.39        60\n",
      "           2       0.14      0.19      0.16        16\n",
      "           3       0.29      0.25      0.27         8\n",
      "\n",
      "    accuracy                           0.41       175\n",
      "   macro avg       0.35      0.33      0.33       175\n",
      "weighted avg       0.46      0.41      0.42       175\n",
      "\n"
     ]
    }
   ],
   "source": [
    "# Predict the test dataset\n",
    "pred_label = model.predict([test_video, test_meteo])\n",
    "\n",
    "# Convert predictions from one-hot to labels\n",
    "pred_label_cat = np.argmax(pred_label, axis=1)\n",
    "true_label_cat = np.argmax(test_label, axis=1)\n",
    "\n",
    "print(classification_report(true_label_cat.flatten(), pred_label_cat.flatten()))"
   ]
  },
  {
   "cell_type": "markdown",
   "id": "ea788045",
   "metadata": {},
   "source": [
    "**Confusion Matrix**"
   ]
  },
  {
   "cell_type": "code",
   "execution_count": 42,
   "id": "9c4fa6b9",
   "metadata": {},
   "outputs": [
    {
     "data": {
      "image/png": "[encoded data removed]",
      "text/plain": [
       "<Figure size 640x480 with 2 Axes>"
      ]
     },
     "metadata": {},
     "output_type": "display_data"
    }
   ],
   "source": [
    "conmat = confusion_matrix(true_label_cat.flatten(), pred_label_cat.flatten())\n",
    "sns.heatmap(conmat, annot=True, fmt='d', cmap='Blues', xticklabels=labels, yticklabels=labels)\n",
    "\n",
    "plt.title('Confusion Matrix')\n",
    "plt.xlabel('Predicted Label')\n",
    "plt.ylabel('True Label')\n",
    "plt.show()"
   ]
  },
  {
   "cell_type": "markdown",
   "id": "8f6421ca",
   "metadata": {},
   "source": [
    "-----"
   ]
  },
  {
   "cell_type": "markdown",
   "id": "e6dea018",
   "metadata": {},
   "source": [
    "## Hybrid Model 2"
   ]
  },
  {
   "cell_type": "markdown",
   "id": "47883d57",
   "metadata": {},
   "source": [
    "Model Architecture\n",
    "- One CNN layer\n",
    "- Three RNN LSTM layers, with verying units through out layers and activations as desired\n",
    "- Also, added dropouts and BatchNormalization"
   ]
  },
  {
   "cell_type": "code",
   "execution_count": 43,
   "id": "adc063a7",
   "metadata": {},
   "outputs": [],
   "source": [
    "# Define CNN input\n",
    "cnn_input = Input(shape=(9, 64, 64, 1))\n",
    "\n",
    "# CNN Model\n",
    "cnn = Conv3D(filters=32, kernel_size=(3, 3, 3), activation='relu', padding='same')(cnn_input)\n",
    "cnn = BatchNormalization()(cnn)\n",
    "cnn = MaxPooling3D(pool_size=(2, 2, 2))(cnn)\n",
    "cnn = Dropout(0.20)(cnn)\n",
    "cnn = Flatten()(cnn)\n",
    "cnn_output = Dense(32, activation='relu')(cnn)\n",
    "\n",
    "# Define RNN input\n",
    "rnn_input = Input(shape=(7, 7))\n",
    "\n",
    "# RNN Model\n",
    "rnn = LSTM(128, return_sequences=True, activation='relu')(rnn_input)\n",
    "rnn = BatchNormalization()(rnn)\n",
    "rnn = Dropout(0.30)(rnn)\n",
    "rnn = LSTM(64, return_sequences=True, activation='relu')(rnn)\n",
    "rnn = BatchNormalization()(rnn)\n",
    "rnn = Dropout(0.20)(rnn)\n",
    "rnn = LSTM(32, return_sequences=False, activation='relu')(rnn)\n",
    "rnn = BatchNormalization()(rnn)\n",
    "rnn = Dropout(0.10)(rnn)\n",
    "rnn_output = Dense(24, activation='relu')(rnn)\n",
    "\n",
    "# Concatenate CNN and RNN outputs\n",
    "concatenated = Concatenate()([cnn_output, rnn_output])\n",
    "\n",
    "# Final dense layers\n",
    "final_dense = Dense(32, activation='relu')(concatenated)\n",
    "final_output = Dense(4, activation='softmax')(final_dense)\n",
    "\n",
    "# Model assembly\n",
    "model = Model(inputs=[cnn_input, rnn_input], outputs=final_output)\n",
    "\n",
    "# Compile the model\n",
    "model.compile(optimizer='adam', loss='categorical_crossentropy', metrics=['accuracy'])"
   ]
  },
  {
   "cell_type": "code",
   "execution_count": 44,
   "id": "e1ebc605",
   "metadata": {},
   "outputs": [
    {
     "data": {
      "text/html": [
       "<pre style=\"white-space:pre;overflow-x:auto;line-height:normal;font-family:Menlo,'DejaVu Sans Mono',consolas,'Courier New',monospace\"><span style=\"font-weight: bold\">Model: \"functional_3\"</span>\n",
       "</pre>\n"
      ],
      "text/plain": [
       "\u001b[1mModel: \"functional_3\"\u001b[0m\n"
      ]
     },
     "metadata": {},
     "output_type": "display_data"
    },
    {
     "data": {
      "text/html": [
       "<pre style=\"white-space:pre;overflow-x:auto;line-height:normal;font-family:Menlo,'DejaVu Sans Mono',consolas,'Courier New',monospace\">┏━━━━━━━━━━━━━━━━━━━━━━━━━━━━━━━┳━━━━━━━━━━━━━━━━━━━━━━━━━━━┳━━━━━━━━━━━━━━━━━┳━━━━━━━━━━━━━━━━━━━━━━━━━━━━┓\n",
       "┃<span style=\"font-weight: bold\"> Layer (type)                  </span>┃<span style=\"font-weight: bold\"> Output Shape              </span>┃<span style=\"font-weight: bold\">         Param # </span>┃<span style=\"font-weight: bold\"> Connected to               </span>┃\n",
       "┡━━━━━━━━━━━━━━━━━━━━━━━━━━━━━━━╇━━━━━━━━━━━━━━━━━━━━━━━━━━━╇━━━━━━━━━━━━━━━━━╇━━━━━━━━━━━━━━━━━━━━━━━━━━━━┩\n",
       "│ input_layer_3 (<span style=\"color: #0087ff; text-decoration-color: #0087ff\">InputLayer</span>)    │ (<span style=\"color: #00d7ff; text-decoration-color: #00d7ff\">None</span>, <span style=\"color: #00af00; text-decoration-color: #00af00\">7</span>, <span style=\"color: #00af00; text-decoration-color: #00af00\">7</span>)              │               <span style=\"color: #00af00; text-decoration-color: #00af00\">0</span> │ -                          │\n",
       "├───────────────────────────────┼───────────────────────────┼─────────────────┼────────────────────────────┤\n",
       "│ lstm_3 (<span style=\"color: #0087ff; text-decoration-color: #0087ff\">LSTM</span>)                 │ (<span style=\"color: #00d7ff; text-decoration-color: #00d7ff\">None</span>, <span style=\"color: #00af00; text-decoration-color: #00af00\">7</span>, <span style=\"color: #00af00; text-decoration-color: #00af00\">128</span>)            │          <span style=\"color: #00af00; text-decoration-color: #00af00\">69,632</span> │ input_layer_3[<span style=\"color: #00af00; text-decoration-color: #00af00\">0</span>][<span style=\"color: #00af00; text-decoration-color: #00af00\">0</span>]        │\n",
       "├───────────────────────────────┼───────────────────────────┼─────────────────┼────────────────────────────┤\n",
       "│ batch_normalization_5         │ (<span style=\"color: #00d7ff; text-decoration-color: #00d7ff\">None</span>, <span style=\"color: #00af00; text-decoration-color: #00af00\">7</span>, <span style=\"color: #00af00; text-decoration-color: #00af00\">128</span>)            │             <span style=\"color: #00af00; text-decoration-color: #00af00\">512</span> │ lstm_3[<span style=\"color: #00af00; text-decoration-color: #00af00\">0</span>][<span style=\"color: #00af00; text-decoration-color: #00af00\">0</span>]               │\n",
       "│ (<span style=\"color: #0087ff; text-decoration-color: #0087ff\">BatchNormalization</span>)          │                           │                 │                            │\n",
       "├───────────────────────────────┼───────────────────────────┼─────────────────┼────────────────────────────┤\n",
       "│ dropout_1 (<span style=\"color: #0087ff; text-decoration-color: #0087ff\">Dropout</span>)           │ (<span style=\"color: #00d7ff; text-decoration-color: #00d7ff\">None</span>, <span style=\"color: #00af00; text-decoration-color: #00af00\">7</span>, <span style=\"color: #00af00; text-decoration-color: #00af00\">128</span>)            │               <span style=\"color: #00af00; text-decoration-color: #00af00\">0</span> │ batch_normalization_5[<span style=\"color: #00af00; text-decoration-color: #00af00\">0</span>][<span style=\"color: #00af00; text-decoration-color: #00af00\">…</span> │\n",
       "├───────────────────────────────┼───────────────────────────┼─────────────────┼────────────────────────────┤\n",
       "│ input_layer_2 (<span style=\"color: #0087ff; text-decoration-color: #0087ff\">InputLayer</span>)    │ (<span style=\"color: #00d7ff; text-decoration-color: #00d7ff\">None</span>, <span style=\"color: #00af00; text-decoration-color: #00af00\">9</span>, <span style=\"color: #00af00; text-decoration-color: #00af00\">64</span>, <span style=\"color: #00af00; text-decoration-color: #00af00\">64</span>, <span style=\"color: #00af00; text-decoration-color: #00af00\">1</span>)      │               <span style=\"color: #00af00; text-decoration-color: #00af00\">0</span> │ -                          │\n",
       "├───────────────────────────────┼───────────────────────────┼─────────────────┼────────────────────────────┤\n",
       "│ lstm_4 (<span style=\"color: #0087ff; text-decoration-color: #0087ff\">LSTM</span>)                 │ (<span style=\"color: #00d7ff; text-decoration-color: #00d7ff\">None</span>, <span style=\"color: #00af00; text-decoration-color: #00af00\">7</span>, <span style=\"color: #00af00; text-decoration-color: #00af00\">64</span>)             │          <span style=\"color: #00af00; text-decoration-color: #00af00\">49,408</span> │ dropout_1[<span style=\"color: #00af00; text-decoration-color: #00af00\">0</span>][<span style=\"color: #00af00; text-decoration-color: #00af00\">0</span>]            │\n",
       "├───────────────────────────────┼───────────────────────────┼─────────────────┼────────────────────────────┤\n",
       "│ conv3d_1 (<span style=\"color: #0087ff; text-decoration-color: #0087ff\">Conv3D</span>)             │ (<span style=\"color: #00d7ff; text-decoration-color: #00d7ff\">None</span>, <span style=\"color: #00af00; text-decoration-color: #00af00\">9</span>, <span style=\"color: #00af00; text-decoration-color: #00af00\">64</span>, <span style=\"color: #00af00; text-decoration-color: #00af00\">64</span>, <span style=\"color: #00af00; text-decoration-color: #00af00\">32</span>)     │             <span style=\"color: #00af00; text-decoration-color: #00af00\">896</span> │ input_layer_2[<span style=\"color: #00af00; text-decoration-color: #00af00\">0</span>][<span style=\"color: #00af00; text-decoration-color: #00af00\">0</span>]        │\n",
       "├───────────────────────────────┼───────────────────────────┼─────────────────┼────────────────────────────┤\n",
       "│ batch_normalization_6         │ (<span style=\"color: #00d7ff; text-decoration-color: #00d7ff\">None</span>, <span style=\"color: #00af00; text-decoration-color: #00af00\">7</span>, <span style=\"color: #00af00; text-decoration-color: #00af00\">64</span>)             │             <span style=\"color: #00af00; text-decoration-color: #00af00\">256</span> │ lstm_4[<span style=\"color: #00af00; text-decoration-color: #00af00\">0</span>][<span style=\"color: #00af00; text-decoration-color: #00af00\">0</span>]               │\n",
       "│ (<span style=\"color: #0087ff; text-decoration-color: #0087ff\">BatchNormalization</span>)          │                           │                 │                            │\n",
       "├───────────────────────────────┼───────────────────────────┼─────────────────┼────────────────────────────┤\n",
       "│ batch_normalization_4         │ (<span style=\"color: #00d7ff; text-decoration-color: #00d7ff\">None</span>, <span style=\"color: #00af00; text-decoration-color: #00af00\">9</span>, <span style=\"color: #00af00; text-decoration-color: #00af00\">64</span>, <span style=\"color: #00af00; text-decoration-color: #00af00\">64</span>, <span style=\"color: #00af00; text-decoration-color: #00af00\">32</span>)     │             <span style=\"color: #00af00; text-decoration-color: #00af00\">128</span> │ conv3d_1[<span style=\"color: #00af00; text-decoration-color: #00af00\">0</span>][<span style=\"color: #00af00; text-decoration-color: #00af00\">0</span>]             │\n",
       "│ (<span style=\"color: #0087ff; text-decoration-color: #0087ff\">BatchNormalization</span>)          │                           │                 │                            │\n",
       "├───────────────────────────────┼───────────────────────────┼─────────────────┼────────────────────────────┤\n",
       "│ dropout_2 (<span style=\"color: #0087ff; text-decoration-color: #0087ff\">Dropout</span>)           │ (<span style=\"color: #00d7ff; text-decoration-color: #00d7ff\">None</span>, <span style=\"color: #00af00; text-decoration-color: #00af00\">7</span>, <span style=\"color: #00af00; text-decoration-color: #00af00\">64</span>)             │               <span style=\"color: #00af00; text-decoration-color: #00af00\">0</span> │ batch_normalization_6[<span style=\"color: #00af00; text-decoration-color: #00af00\">0</span>][<span style=\"color: #00af00; text-decoration-color: #00af00\">…</span> │\n",
       "├───────────────────────────────┼───────────────────────────┼─────────────────┼────────────────────────────┤\n",
       "│ max_pooling3d_1               │ (<span style=\"color: #00d7ff; text-decoration-color: #00d7ff\">None</span>, <span style=\"color: #00af00; text-decoration-color: #00af00\">4</span>, <span style=\"color: #00af00; text-decoration-color: #00af00\">32</span>, <span style=\"color: #00af00; text-decoration-color: #00af00\">32</span>, <span style=\"color: #00af00; text-decoration-color: #00af00\">32</span>)     │               <span style=\"color: #00af00; text-decoration-color: #00af00\">0</span> │ batch_normalization_4[<span style=\"color: #00af00; text-decoration-color: #00af00\">0</span>][<span style=\"color: #00af00; text-decoration-color: #00af00\">…</span> │\n",
       "│ (<span style=\"color: #0087ff; text-decoration-color: #0087ff\">MaxPooling3D</span>)                │                           │                 │                            │\n",
       "├───────────────────────────────┼───────────────────────────┼─────────────────┼────────────────────────────┤\n",
       "│ lstm_5 (<span style=\"color: #0087ff; text-decoration-color: #0087ff\">LSTM</span>)                 │ (<span style=\"color: #00d7ff; text-decoration-color: #00d7ff\">None</span>, <span style=\"color: #00af00; text-decoration-color: #00af00\">32</span>)                │          <span style=\"color: #00af00; text-decoration-color: #00af00\">12,416</span> │ dropout_2[<span style=\"color: #00af00; text-decoration-color: #00af00\">0</span>][<span style=\"color: #00af00; text-decoration-color: #00af00\">0</span>]            │\n",
       "├───────────────────────────────┼───────────────────────────┼─────────────────┼────────────────────────────┤\n",
       "│ dropout (<span style=\"color: #0087ff; text-decoration-color: #0087ff\">Dropout</span>)             │ (<span style=\"color: #00d7ff; text-decoration-color: #00d7ff\">None</span>, <span style=\"color: #00af00; text-decoration-color: #00af00\">4</span>, <span style=\"color: #00af00; text-decoration-color: #00af00\">32</span>, <span style=\"color: #00af00; text-decoration-color: #00af00\">32</span>, <span style=\"color: #00af00; text-decoration-color: #00af00\">32</span>)     │               <span style=\"color: #00af00; text-decoration-color: #00af00\">0</span> │ max_pooling3d_1[<span style=\"color: #00af00; text-decoration-color: #00af00\">0</span>][<span style=\"color: #00af00; text-decoration-color: #00af00\">0</span>]      │\n",
       "├───────────────────────────────┼───────────────────────────┼─────────────────┼────────────────────────────┤\n",
       "│ batch_normalization_7         │ (<span style=\"color: #00d7ff; text-decoration-color: #00d7ff\">None</span>, <span style=\"color: #00af00; text-decoration-color: #00af00\">32</span>)                │             <span style=\"color: #00af00; text-decoration-color: #00af00\">128</span> │ lstm_5[<span style=\"color: #00af00; text-decoration-color: #00af00\">0</span>][<span style=\"color: #00af00; text-decoration-color: #00af00\">0</span>]               │\n",
       "│ (<span style=\"color: #0087ff; text-decoration-color: #0087ff\">BatchNormalization</span>)          │                           │                 │                            │\n",
       "├───────────────────────────────┼───────────────────────────┼─────────────────┼────────────────────────────┤\n",
       "│ flatten_1 (<span style=\"color: #0087ff; text-decoration-color: #0087ff\">Flatten</span>)           │ (<span style=\"color: #00d7ff; text-decoration-color: #00d7ff\">None</span>, <span style=\"color: #00af00; text-decoration-color: #00af00\">131072</span>)            │               <span style=\"color: #00af00; text-decoration-color: #00af00\">0</span> │ dropout[<span style=\"color: #00af00; text-decoration-color: #00af00\">0</span>][<span style=\"color: #00af00; text-decoration-color: #00af00\">0</span>]              │\n",
       "├───────────────────────────────┼───────────────────────────┼─────────────────┼────────────────────────────┤\n",
       "│ dropout_3 (<span style=\"color: #0087ff; text-decoration-color: #0087ff\">Dropout</span>)           │ (<span style=\"color: #00d7ff; text-decoration-color: #00d7ff\">None</span>, <span style=\"color: #00af00; text-decoration-color: #00af00\">32</span>)                │               <span style=\"color: #00af00; text-decoration-color: #00af00\">0</span> │ batch_normalization_7[<span style=\"color: #00af00; text-decoration-color: #00af00\">0</span>][<span style=\"color: #00af00; text-decoration-color: #00af00\">…</span> │\n",
       "├───────────────────────────────┼───────────────────────────┼─────────────────┼────────────────────────────┤\n",
       "│ dense_4 (<span style=\"color: #0087ff; text-decoration-color: #0087ff\">Dense</span>)               │ (<span style=\"color: #00d7ff; text-decoration-color: #00d7ff\">None</span>, <span style=\"color: #00af00; text-decoration-color: #00af00\">32</span>)                │       <span style=\"color: #00af00; text-decoration-color: #00af00\">4,194,336</span> │ flatten_1[<span style=\"color: #00af00; text-decoration-color: #00af00\">0</span>][<span style=\"color: #00af00; text-decoration-color: #00af00\">0</span>]            │\n",
       "├───────────────────────────────┼───────────────────────────┼─────────────────┼────────────────────────────┤\n",
       "│ dense_5 (<span style=\"color: #0087ff; text-decoration-color: #0087ff\">Dense</span>)               │ (<span style=\"color: #00d7ff; text-decoration-color: #00d7ff\">None</span>, <span style=\"color: #00af00; text-decoration-color: #00af00\">24</span>)                │             <span style=\"color: #00af00; text-decoration-color: #00af00\">792</span> │ dropout_3[<span style=\"color: #00af00; text-decoration-color: #00af00\">0</span>][<span style=\"color: #00af00; text-decoration-color: #00af00\">0</span>]            │\n",
       "├───────────────────────────────┼───────────────────────────┼─────────────────┼────────────────────────────┤\n",
       "│ concatenate_1 (<span style=\"color: #0087ff; text-decoration-color: #0087ff\">Concatenate</span>)   │ (<span style=\"color: #00d7ff; text-decoration-color: #00d7ff\">None</span>, <span style=\"color: #00af00; text-decoration-color: #00af00\">56</span>)                │               <span style=\"color: #00af00; text-decoration-color: #00af00\">0</span> │ dense_4[<span style=\"color: #00af00; text-decoration-color: #00af00\">0</span>][<span style=\"color: #00af00; text-decoration-color: #00af00\">0</span>],             │\n",
       "│                               │                           │                 │ dense_5[<span style=\"color: #00af00; text-decoration-color: #00af00\">0</span>][<span style=\"color: #00af00; text-decoration-color: #00af00\">0</span>]              │\n",
       "├───────────────────────────────┼───────────────────────────┼─────────────────┼────────────────────────────┤\n",
       "│ dense_6 (<span style=\"color: #0087ff; text-decoration-color: #0087ff\">Dense</span>)               │ (<span style=\"color: #00d7ff; text-decoration-color: #00d7ff\">None</span>, <span style=\"color: #00af00; text-decoration-color: #00af00\">32</span>)                │           <span style=\"color: #00af00; text-decoration-color: #00af00\">1,824</span> │ concatenate_1[<span style=\"color: #00af00; text-decoration-color: #00af00\">0</span>][<span style=\"color: #00af00; text-decoration-color: #00af00\">0</span>]        │\n",
       "├───────────────────────────────┼───────────────────────────┼─────────────────┼────────────────────────────┤\n",
       "│ dense_7 (<span style=\"color: #0087ff; text-decoration-color: #0087ff\">Dense</span>)               │ (<span style=\"color: #00d7ff; text-decoration-color: #00d7ff\">None</span>, <span style=\"color: #00af00; text-decoration-color: #00af00\">4</span>)                 │             <span style=\"color: #00af00; text-decoration-color: #00af00\">132</span> │ dense_6[<span style=\"color: #00af00; text-decoration-color: #00af00\">0</span>][<span style=\"color: #00af00; text-decoration-color: #00af00\">0</span>]              │\n",
       "└───────────────────────────────┴───────────────────────────┴─────────────────┴────────────────────────────┘\n",
       "</pre>\n"
      ],
      "text/plain": [
       "┏━━━━━━━━━━━━━━━━━━━━━━━━━━━━━━━┳━━━━━━━━━━━━━━━━━━━━━━━━━━━┳━━━━━━━━━━━━━━━━━┳━━━━━━━━━━━━━━━━━━━━━━━━━━━━┓\n",
       "┃\u001b[1m \u001b[0m\u001b[1mLayer (type)                 \u001b[0m\u001b[1m \u001b[0m┃\u001b[1m \u001b[0m\u001b[1mOutput Shape             \u001b[0m\u001b[1m \u001b[0m┃\u001b[1m \u001b[0m\u001b[1m        Param #\u001b[0m\u001b[1m \u001b[0m┃\u001b[1m \u001b[0m\u001b[1mConnected to              \u001b[0m\u001b[1m \u001b[0m┃\n",
       "┡━━━━━━━━━━━━━━━━━━━━━━━━━━━━━━━╇━━━━━━━━━━━━━━━━━━━━━━━━━━━╇━━━━━━━━━━━━━━━━━╇━━━━━━━━━━━━━━━━━━━━━━━━━━━━┩\n",
       "│ input_layer_3 (\u001b[38;5;33mInputLayer\u001b[0m)    │ (\u001b[38;5;45mNone\u001b[0m, \u001b[38;5;34m7\u001b[0m, \u001b[38;5;34m7\u001b[0m)              │               \u001b[38;5;34m0\u001b[0m │ -                          │\n",
       "├───────────────────────────────┼───────────────────────────┼─────────────────┼────────────────────────────┤\n",
       "│ lstm_3 (\u001b[38;5;33mLSTM\u001b[0m)                 │ (\u001b[38;5;45mNone\u001b[0m, \u001b[38;5;34m7\u001b[0m, \u001b[38;5;34m128\u001b[0m)            │          \u001b[38;5;34m69,632\u001b[0m │ input_layer_3[\u001b[38;5;34m0\u001b[0m][\u001b[38;5;34m0\u001b[0m]        │\n",
       "├───────────────────────────────┼───────────────────────────┼─────────────────┼────────────────────────────┤\n",
       "│ batch_normalization_5         │ (\u001b[38;5;45mNone\u001b[0m, \u001b[38;5;34m7\u001b[0m, \u001b[38;5;34m128\u001b[0m)            │             \u001b[38;5;34m512\u001b[0m │ lstm_3[\u001b[38;5;34m0\u001b[0m][\u001b[38;5;34m0\u001b[0m]               │\n",
       "│ (\u001b[38;5;33mBatchNormalization\u001b[0m)          │                           │                 │                            │\n",
       "├───────────────────────────────┼───────────────────────────┼─────────────────┼────────────────────────────┤\n",
       "│ dropout_1 (\u001b[38;5;33mDropout\u001b[0m)           │ (\u001b[38;5;45mNone\u001b[0m, \u001b[38;5;34m7\u001b[0m, \u001b[38;5;34m128\u001b[0m)            │               \u001b[38;5;34m0\u001b[0m │ batch_normalization_5[\u001b[38;5;34m0\u001b[0m][\u001b[38;5;34m…\u001b[0m │\n",
       "├───────────────────────────────┼───────────────────────────┼─────────────────┼────────────────────────────┤\n",
       "│ input_layer_2 (\u001b[38;5;33mInputLayer\u001b[0m)    │ (\u001b[38;5;45mNone\u001b[0m, \u001b[38;5;34m9\u001b[0m, \u001b[38;5;34m64\u001b[0m, \u001b[38;5;34m64\u001b[0m, \u001b[38;5;34m1\u001b[0m)      │               \u001b[38;5;34m0\u001b[0m │ -                          │\n",
       "├───────────────────────────────┼───────────────────────────┼─────────────────┼────────────────────────────┤\n",
       "│ lstm_4 (\u001b[38;5;33mLSTM\u001b[0m)                 │ (\u001b[38;5;45mNone\u001b[0m, \u001b[38;5;34m7\u001b[0m, \u001b[38;5;34m64\u001b[0m)             │          \u001b[38;5;34m49,408\u001b[0m │ dropout_1[\u001b[38;5;34m0\u001b[0m][\u001b[38;5;34m0\u001b[0m]            │\n",
       "├───────────────────────────────┼───────────────────────────┼─────────────────┼────────────────────────────┤\n",
       "│ conv3d_1 (\u001b[38;5;33mConv3D\u001b[0m)             │ (\u001b[38;5;45mNone\u001b[0m, \u001b[38;5;34m9\u001b[0m, \u001b[38;5;34m64\u001b[0m, \u001b[38;5;34m64\u001b[0m, \u001b[38;5;34m32\u001b[0m)     │             \u001b[38;5;34m896\u001b[0m │ input_layer_2[\u001b[38;5;34m0\u001b[0m][\u001b[38;5;34m0\u001b[0m]        │\n",
       "├───────────────────────────────┼───────────────────────────┼─────────────────┼────────────────────────────┤\n",
       "│ batch_normalization_6         │ (\u001b[38;5;45mNone\u001b[0m, \u001b[38;5;34m7\u001b[0m, \u001b[38;5;34m64\u001b[0m)             │             \u001b[38;5;34m256\u001b[0m │ lstm_4[\u001b[38;5;34m0\u001b[0m][\u001b[38;5;34m0\u001b[0m]               │\n",
       "│ (\u001b[38;5;33mBatchNormalization\u001b[0m)          │                           │                 │                            │\n",
       "├───────────────────────────────┼───────────────────────────┼─────────────────┼────────────────────────────┤\n",
       "│ batch_normalization_4         │ (\u001b[38;5;45mNone\u001b[0m, \u001b[38;5;34m9\u001b[0m, \u001b[38;5;34m64\u001b[0m, \u001b[38;5;34m64\u001b[0m, \u001b[38;5;34m32\u001b[0m)     │             \u001b[38;5;34m128\u001b[0m │ conv3d_1[\u001b[38;5;34m0\u001b[0m][\u001b[38;5;34m0\u001b[0m]             │\n",
       "│ (\u001b[38;5;33mBatchNormalization\u001b[0m)          │                           │                 │                            │\n",
       "├───────────────────────────────┼───────────────────────────┼─────────────────┼────────────────────────────┤\n",
       "│ dropout_2 (\u001b[38;5;33mDropout\u001b[0m)           │ (\u001b[38;5;45mNone\u001b[0m, \u001b[38;5;34m7\u001b[0m, \u001b[38;5;34m64\u001b[0m)             │               \u001b[38;5;34m0\u001b[0m │ batch_normalization_6[\u001b[38;5;34m0\u001b[0m][\u001b[38;5;34m…\u001b[0m │\n",
       "├───────────────────────────────┼───────────────────────────┼─────────────────┼────────────────────────────┤\n",
       "│ max_pooling3d_1               │ (\u001b[38;5;45mNone\u001b[0m, \u001b[38;5;34m4\u001b[0m, \u001b[38;5;34m32\u001b[0m, \u001b[38;5;34m32\u001b[0m, \u001b[38;5;34m32\u001b[0m)     │               \u001b[38;5;34m0\u001b[0m │ batch_normalization_4[\u001b[38;5;34m0\u001b[0m][\u001b[38;5;34m…\u001b[0m │\n",
       "│ (\u001b[38;5;33mMaxPooling3D\u001b[0m)                │                           │                 │                            │\n",
       "├───────────────────────────────┼───────────────────────────┼─────────────────┼────────────────────────────┤\n",
       "│ lstm_5 (\u001b[38;5;33mLSTM\u001b[0m)                 │ (\u001b[38;5;45mNone\u001b[0m, \u001b[38;5;34m32\u001b[0m)                │          \u001b[38;5;34m12,416\u001b[0m │ dropout_2[\u001b[38;5;34m0\u001b[0m][\u001b[38;5;34m0\u001b[0m]            │\n",
       "├───────────────────────────────┼───────────────────────────┼─────────────────┼────────────────────────────┤\n",
       "│ dropout (\u001b[38;5;33mDropout\u001b[0m)             │ (\u001b[38;5;45mNone\u001b[0m, \u001b[38;5;34m4\u001b[0m, \u001b[38;5;34m32\u001b[0m, \u001b[38;5;34m32\u001b[0m, \u001b[38;5;34m32\u001b[0m)     │               \u001b[38;5;34m0\u001b[0m │ max_pooling3d_1[\u001b[38;5;34m0\u001b[0m][\u001b[38;5;34m0\u001b[0m]      │\n",
       "├───────────────────────────────┼───────────────────────────┼─────────────────┼────────────────────────────┤\n",
       "│ batch_normalization_7         │ (\u001b[38;5;45mNone\u001b[0m, \u001b[38;5;34m32\u001b[0m)                │             \u001b[38;5;34m128\u001b[0m │ lstm_5[\u001b[38;5;34m0\u001b[0m][\u001b[38;5;34m0\u001b[0m]               │\n",
       "│ (\u001b[38;5;33mBatchNormalization\u001b[0m)          │                           │                 │                            │\n",
       "├───────────────────────────────┼───────────────────────────┼─────────────────┼────────────────────────────┤\n",
       "│ flatten_1 (\u001b[38;5;33mFlatten\u001b[0m)           │ (\u001b[38;5;45mNone\u001b[0m, \u001b[38;5;34m131072\u001b[0m)            │               \u001b[38;5;34m0\u001b[0m │ dropout[\u001b[38;5;34m0\u001b[0m][\u001b[38;5;34m0\u001b[0m]              │\n",
       "├───────────────────────────────┼───────────────────────────┼─────────────────┼────────────────────────────┤\n",
       "│ dropout_3 (\u001b[38;5;33mDropout\u001b[0m)           │ (\u001b[38;5;45mNone\u001b[0m, \u001b[38;5;34m32\u001b[0m)                │               \u001b[38;5;34m0\u001b[0m │ batch_normalization_7[\u001b[38;5;34m0\u001b[0m][\u001b[38;5;34m…\u001b[0m │\n",
       "├───────────────────────────────┼───────────────────────────┼─────────────────┼────────────────────────────┤\n",
       "│ dense_4 (\u001b[38;5;33mDense\u001b[0m)               │ (\u001b[38;5;45mNone\u001b[0m, \u001b[38;5;34m32\u001b[0m)                │       \u001b[38;5;34m4,194,336\u001b[0m │ flatten_1[\u001b[38;5;34m0\u001b[0m][\u001b[38;5;34m0\u001b[0m]            │\n",
       "├───────────────────────────────┼───────────────────────────┼─────────────────┼────────────────────────────┤\n",
       "│ dense_5 (\u001b[38;5;33mDense\u001b[0m)               │ (\u001b[38;5;45mNone\u001b[0m, \u001b[38;5;34m24\u001b[0m)                │             \u001b[38;5;34m792\u001b[0m │ dropout_3[\u001b[38;5;34m0\u001b[0m][\u001b[38;5;34m0\u001b[0m]            │\n",
       "├───────────────────────────────┼───────────────────────────┼─────────────────┼────────────────────────────┤\n",
       "│ concatenate_1 (\u001b[38;5;33mConcatenate\u001b[0m)   │ (\u001b[38;5;45mNone\u001b[0m, \u001b[38;5;34m56\u001b[0m)                │               \u001b[38;5;34m0\u001b[0m │ dense_4[\u001b[38;5;34m0\u001b[0m][\u001b[38;5;34m0\u001b[0m],             │\n",
       "│                               │                           │                 │ dense_5[\u001b[38;5;34m0\u001b[0m][\u001b[38;5;34m0\u001b[0m]              │\n",
       "├───────────────────────────────┼───────────────────────────┼─────────────────┼────────────────────────────┤\n",
       "│ dense_6 (\u001b[38;5;33mDense\u001b[0m)               │ (\u001b[38;5;45mNone\u001b[0m, \u001b[38;5;34m32\u001b[0m)                │           \u001b[38;5;34m1,824\u001b[0m │ concatenate_1[\u001b[38;5;34m0\u001b[0m][\u001b[38;5;34m0\u001b[0m]        │\n",
       "├───────────────────────────────┼───────────────────────────┼─────────────────┼────────────────────────────┤\n",
       "│ dense_7 (\u001b[38;5;33mDense\u001b[0m)               │ (\u001b[38;5;45mNone\u001b[0m, \u001b[38;5;34m4\u001b[0m)                 │             \u001b[38;5;34m132\u001b[0m │ dense_6[\u001b[38;5;34m0\u001b[0m][\u001b[38;5;34m0\u001b[0m]              │\n",
       "└───────────────────────────────┴───────────────────────────┴─────────────────┴────────────────────────────┘\n"
      ]
     },
     "metadata": {},
     "output_type": "display_data"
    },
    {
     "data": {
      "text/html": [
       "<pre style=\"white-space:pre;overflow-x:auto;line-height:normal;font-family:Menlo,'DejaVu Sans Mono',consolas,'Courier New',monospace\"><span style=\"font-weight: bold\"> Total params: </span><span style=\"color: #00af00; text-decoration-color: #00af00\">4,330,460</span> (16.52 MB)\n",
       "</pre>\n"
      ],
      "text/plain": [
       "\u001b[1m Total params: \u001b[0m\u001b[38;5;34m4,330,460\u001b[0m (16.52 MB)\n"
      ]
     },
     "metadata": {},
     "output_type": "display_data"
    },
    {
     "data": {
      "text/html": [
       "<pre style=\"white-space:pre;overflow-x:auto;line-height:normal;font-family:Menlo,'DejaVu Sans Mono',consolas,'Courier New',monospace\"><span style=\"font-weight: bold\"> Trainable params: </span><span style=\"color: #00af00; text-decoration-color: #00af00\">4,329,948</span> (16.52 MB)\n",
       "</pre>\n"
      ],
      "text/plain": [
       "\u001b[1m Trainable params: \u001b[0m\u001b[38;5;34m4,329,948\u001b[0m (16.52 MB)\n"
      ]
     },
     "metadata": {},
     "output_type": "display_data"
    },
    {
     "data": {
      "text/html": [
       "<pre style=\"white-space:pre;overflow-x:auto;line-height:normal;font-family:Menlo,'DejaVu Sans Mono',consolas,'Courier New',monospace\"><span style=\"font-weight: bold\"> Non-trainable params: </span><span style=\"color: #00af00; text-decoration-color: #00af00\">512</span> (2.00 KB)\n",
       "</pre>\n"
      ],
      "text/plain": [
       "\u001b[1m Non-trainable params: \u001b[0m\u001b[38;5;34m512\u001b[0m (2.00 KB)\n"
      ]
     },
     "metadata": {},
     "output_type": "display_data"
    }
   ],
   "source": [
    "model.summary()"
   ]
  },
  {
   "cell_type": "markdown",
   "id": "c11005c0",
   "metadata": {},
   "source": [
    "**Model Fitting**"
   ]
  },
  {
   "cell_type": "code",
   "execution_count": 45,
   "id": "b172c07a",
   "metadata": {},
   "outputs": [
    {
     "name": "stdout",
     "output_type": "stream",
     "text": [
      "Epoch 1/30\n",
      "\u001b[1m31/31\u001b[0m \u001b[32m━━━━━━━━━━━━━━━━━━━━\u001b[0m\u001b[37m\u001b[0m \u001b[1m19s\u001b[0m 387ms/step - accuracy: 0.1830 - loss: 9.0209 - val_accuracy: 0.3112 - val_loss: 1.3303\n",
      "Epoch 2/30\n",
      "\u001b[1m31/31\u001b[0m \u001b[32m━━━━━━━━━━━━━━━━━━━━\u001b[0m\u001b[37m\u001b[0m \u001b[1m11s\u001b[0m 362ms/step - accuracy: 0.3089 - loss: 1.8435 - val_accuracy: 0.1829 - val_loss: 1.4025\n",
      "Epoch 3/30\n",
      "\u001b[1m31/31\u001b[0m \u001b[32m━━━━━━━━━━━━━━━━━━━━\u001b[0m\u001b[37m\u001b[0m \u001b[1m11s\u001b[0m 365ms/step - accuracy: 0.3559 - loss: 1.4056 - val_accuracy: 0.0855 - val_loss: 1.4147\n",
      "Epoch 4/30\n",
      "\u001b[1m31/31\u001b[0m \u001b[32m━━━━━━━━━━━━━━━━━━━━\u001b[0m\u001b[37m\u001b[0m \u001b[1m11s\u001b[0m 360ms/step - accuracy: 0.3142 - loss: 1.4089 - val_accuracy: 0.0523 - val_loss: 1.4296\n",
      "Epoch 5/30\n",
      "\u001b[1m31/31\u001b[0m \u001b[32m━━━━━━━━━━━━━━━━━━━━\u001b[0m\u001b[37m\u001b[0m \u001b[1m11s\u001b[0m 361ms/step - accuracy: 0.2359 - loss: 1.5545 - val_accuracy: 0.3824 - val_loss: 1.3788\n",
      "Epoch 6/30\n",
      "\u001b[1m31/31\u001b[0m \u001b[32m━━━━━━━━━━━━━━━━━━━━\u001b[0m\u001b[37m\u001b[0m \u001b[1m12s\u001b[0m 399ms/step - accuracy: 0.3752 - loss: 1.3545 - val_accuracy: 0.2589 - val_loss: 1.3912\n",
      "Epoch 7/30\n",
      "\u001b[1m31/31\u001b[0m \u001b[32m━━━━━━━━━━━━━━━━━━━━\u001b[0m\u001b[37m\u001b[0m \u001b[1m16s\u001b[0m 506ms/step - accuracy: 0.3571 - loss: 1.4386 - val_accuracy: 0.4964 - val_loss: 1.3568\n",
      "Epoch 8/30\n",
      "\u001b[1m31/31\u001b[0m \u001b[32m━━━━━━━━━━━━━━━━━━━━\u001b[0m\u001b[37m\u001b[0m \u001b[1m14s\u001b[0m 459ms/step - accuracy: 0.4181 - loss: 1.2324 - val_accuracy: 0.1235 - val_loss: 1.4282\n",
      "Epoch 9/30\n",
      "\u001b[1m31/31\u001b[0m \u001b[32m━━━━━━━━━━━━━━━━━━━━\u001b[0m\u001b[37m\u001b[0m \u001b[1m12s\u001b[0m 400ms/step - accuracy: 0.3211 - loss: 1.2733 - val_accuracy: 0.1686 - val_loss: 1.3756\n",
      "Epoch 10/30\n",
      "\u001b[1m31/31\u001b[0m \u001b[32m━━━━━━━━━━━━━━━━━━━━\u001b[0m\u001b[37m\u001b[0m \u001b[1m11s\u001b[0m 365ms/step - accuracy: 0.3362 - loss: 1.2653 - val_accuracy: 0.4347 - val_loss: 1.3692\n",
      "Epoch 11/30\n",
      "\u001b[1m31/31\u001b[0m \u001b[32m━━━━━━━━━━━━━━━━━━━━\u001b[0m\u001b[37m\u001b[0m \u001b[1m12s\u001b[0m 374ms/step - accuracy: 0.3399 - loss: 1.3237 - val_accuracy: 0.3824 - val_loss: 1.3477\n",
      "Epoch 12/30\n",
      "\u001b[1m31/31\u001b[0m \u001b[32m━━━━━━━━━━━━━━━━━━━━\u001b[0m\u001b[37m\u001b[0m \u001b[1m12s\u001b[0m 370ms/step - accuracy: 0.3868 - loss: 1.2426 - val_accuracy: 0.2589 - val_loss: 1.3932\n",
      "Epoch 13/30\n",
      "\u001b[1m31/31\u001b[0m \u001b[32m━━━━━━━━━━━━━━━━━━━━\u001b[0m\u001b[37m\u001b[0m \u001b[1m11s\u001b[0m 367ms/step - accuracy: 0.4008 - loss: 1.1744 - val_accuracy: 0.2803 - val_loss: 1.3703\n",
      "Epoch 14/30\n",
      "\u001b[1m31/31\u001b[0m \u001b[32m━━━━━━━━━━━━━━━━━━━━\u001b[0m\u001b[37m\u001b[0m \u001b[1m13s\u001b[0m 415ms/step - accuracy: 0.4597 - loss: 1.0916 - val_accuracy: 0.3230 - val_loss: 1.3590\n",
      "Epoch 15/30\n",
      "\u001b[1m31/31\u001b[0m \u001b[32m━━━━━━━━━━━━━━━━━━━━\u001b[0m\u001b[37m\u001b[0m \u001b[1m13s\u001b[0m 424ms/step - accuracy: 0.5066 - loss: 1.0519 - val_accuracy: 0.3634 - val_loss: 1.3183\n",
      "Epoch 16/30\n",
      "\u001b[1m31/31\u001b[0m \u001b[32m━━━━━━━━━━━━━━━━━━━━\u001b[0m\u001b[37m\u001b[0m \u001b[1m13s\u001b[0m 405ms/step - accuracy: 0.4750 - loss: 1.0307 - val_accuracy: 0.3895 - val_loss: 1.2820\n",
      "Epoch 17/30\n",
      "\u001b[1m31/31\u001b[0m \u001b[32m━━━━━━━━━━━━━━━━━━━━\u001b[0m\u001b[37m\u001b[0m \u001b[1m12s\u001b[0m 394ms/step - accuracy: 0.5164 - loss: 1.0426 - val_accuracy: 0.4323 - val_loss: 1.2639\n",
      "Epoch 18/30\n",
      "\u001b[1m31/31\u001b[0m \u001b[32m━━━━━━━━━━━━━━━━━━━━\u001b[0m\u001b[37m\u001b[0m \u001b[1m12s\u001b[0m 395ms/step - accuracy: 0.4833 - loss: 1.0273 - val_accuracy: 0.3943 - val_loss: 1.2463\n",
      "Epoch 19/30\n",
      "\u001b[1m31/31\u001b[0m \u001b[32m━━━━━━━━━━━━━━━━━━━━\u001b[0m\u001b[37m\u001b[0m \u001b[1m14s\u001b[0m 442ms/step - accuracy: 0.6154 - loss: 0.7362 - val_accuracy: 0.3468 - val_loss: 1.3702\n",
      "Epoch 20/30\n",
      "\u001b[1m31/31\u001b[0m \u001b[32m━━━━━━━━━━━━━━━━━━━━\u001b[0m\u001b[37m\u001b[0m \u001b[1m12s\u001b[0m 387ms/step - accuracy: 0.5951 - loss: 0.7142 - val_accuracy: 0.4086 - val_loss: 1.3287\n",
      "Epoch 21/30\n",
      "\u001b[1m31/31\u001b[0m \u001b[32m━━━━━━━━━━━━━━━━━━━━\u001b[0m\u001b[37m\u001b[0m \u001b[1m12s\u001b[0m 371ms/step - accuracy: 0.6175 - loss: 0.6919 - val_accuracy: 0.4727 - val_loss: 1.2777\n",
      "Epoch 22/30\n",
      "\u001b[1m31/31\u001b[0m \u001b[32m━━━━━━━━━━━━━━━━━━━━\u001b[0m\u001b[37m\u001b[0m \u001b[1m12s\u001b[0m 375ms/step - accuracy: 0.6485 - loss: 0.6907 - val_accuracy: 0.3848 - val_loss: 1.2756\n",
      "Epoch 23/30\n",
      "\u001b[1m31/31\u001b[0m \u001b[32m━━━━━━━━━━━━━━━━━━━━\u001b[0m\u001b[37m\u001b[0m \u001b[1m11s\u001b[0m 368ms/step - accuracy: 0.6139 - loss: 0.6792 - val_accuracy: 0.4513 - val_loss: 1.4910\n",
      "Epoch 24/30\n",
      "\u001b[1m31/31\u001b[0m \u001b[32m━━━━━━━━━━━━━━━━━━━━\u001b[0m\u001b[37m\u001b[0m \u001b[1m12s\u001b[0m 395ms/step - accuracy: 0.6935 - loss: 0.5325 - val_accuracy: 0.4418 - val_loss: 1.4907\n",
      "Epoch 25/30\n",
      "\u001b[1m31/31\u001b[0m \u001b[32m━━━━━━━━━━━━━━━━━━━━\u001b[0m\u001b[37m\u001b[0m \u001b[1m11s\u001b[0m 369ms/step - accuracy: 0.7156 - loss: 0.5563 - val_accuracy: 0.4442 - val_loss: 1.5374\n",
      "Epoch 26/30\n",
      "\u001b[1m31/31\u001b[0m \u001b[32m━━━━━━━━━━━━━━━━━━━━\u001b[0m\u001b[37m\u001b[0m \u001b[1m11s\u001b[0m 369ms/step - accuracy: 0.7365 - loss: 0.4547 - val_accuracy: 0.4751 - val_loss: 1.6698\n",
      "Epoch 27/30\n",
      "\u001b[1m31/31\u001b[0m \u001b[32m━━━━━━━━━━━━━━━━━━━━\u001b[0m\u001b[37m\u001b[0m \u001b[1m11s\u001b[0m 370ms/step - accuracy: 0.7563 - loss: 0.3695 - val_accuracy: 0.3777 - val_loss: 1.7942\n",
      "Epoch 28/30\n",
      "\u001b[1m31/31\u001b[0m \u001b[32m━━━━━━━━━━━━━━━━━━━━\u001b[0m\u001b[37m\u001b[0m \u001b[1m11s\u001b[0m 367ms/step - accuracy: 0.8000 - loss: 0.3421 - val_accuracy: 0.3848 - val_loss: 1.9262\n",
      "Epoch 29/30\n",
      "\u001b[1m31/31\u001b[0m \u001b[32m━━━━━━━━━━━━━━━━━━━━\u001b[0m\u001b[37m\u001b[0m \u001b[1m11s\u001b[0m 368ms/step - accuracy: 0.7584 - loss: 0.4094 - val_accuracy: 0.4347 - val_loss: 1.8631\n",
      "Epoch 30/30\n",
      "\u001b[1m31/31\u001b[0m \u001b[32m━━━━━━━━━━━━━━━━━━━━\u001b[0m\u001b[37m\u001b[0m \u001b[1m12s\u001b[0m 378ms/step - accuracy: 0.8023 - loss: 0.3275 - val_accuracy: 0.4204 - val_loss: 1.9814\n"
     ]
    }
   ],
   "source": [
    "history = model.fit(\n",
    "    [train_video, train_meteo],\n",
    "    train_label,                \n",
    "    epochs=30,                 \n",
    "    batch_size=32,               \n",
    "    class_weight=class_weight_dict,\n",
    "    validation_split=0.3\n",
    ")"
   ]
  },
  {
   "cell_type": "markdown",
   "id": "4218315e",
   "metadata": {},
   "source": [
    "**Plots for training & validation accuracy & loss values**"
   ]
  },
  {
   "cell_type": "code",
   "execution_count": 46,
   "id": "d4df4790",
   "metadata": {},
   "outputs": [
    {
     "data": {
      "image/png": "[encoded data removed]",
      "text/plain": [
       "<Figure size 640x480 with 1 Axes>"
      ]
     },
     "metadata": {},
     "output_type": "display_data"
    },
    {
     "data": {
      "image/png": "[encoded data removed]",
      "text/plain": [
       "<Figure size 640x480 with 1 Axes>"
      ]
     },
     "metadata": {},
     "output_type": "display_data"
    }
   ],
   "source": [
    "# Plot training & validation accuracy values\n",
    "plt.plot(history.history['accuracy'])\n",
    "plt.plot(history.history['val_accuracy'])\n",
    "plt.title('Model accuracy')\n",
    "plt.ylabel('Accuracy')\n",
    "plt.xlabel('Epoch')\n",
    "plt.legend(['Train', 'Validation'], loc='upper left')\n",
    "plt.show()\n",
    "\n",
    "# Plot training & validation loss values\n",
    "plt.plot(history.history['loss'])\n",
    "plt.plot(history.history['val_loss'])\n",
    "plt.title('Model loss')\n",
    "plt.ylabel('Loss')\n",
    "plt.xlabel('Epoch')\n",
    "plt.legend(['Train', 'Validation'], loc='upper left')\n",
    "plt.show()"
   ]
  },
  {
   "cell_type": "markdown",
   "id": "beddc133",
   "metadata": {},
   "source": [
    "**Evaluate the model on the test data**"
   ]
  },
  {
   "cell_type": "code",
   "execution_count": 47,
   "id": "58731b17",
   "metadata": {},
   "outputs": [
    {
     "name": "stdout",
     "output_type": "stream",
     "text": [
      "\u001b[1m6/6\u001b[0m \u001b[32m━━━━━━━━━━━━━━━━━━━━\u001b[0m\u001b[37m\u001b[0m \u001b[1m0s\u001b[0m 54ms/step - accuracy: 0.4245 - loss: 2.2913\n",
      "Test Loss: 2.185062885284424\n",
      "Test Accuracy: 0.4114285707473755\n"
     ]
    }
   ],
   "source": [
    "# Evaluate the model on the test data\n",
    "test_loss, test_accuracy = model.evaluate([test_video, test_meteo], test_label)\n",
    "\n",
    "print(f\"Test Loss: {test_loss}\")\n",
    "print(f\"Test Accuracy: {test_accuracy}\")"
   ]
  },
  {
   "cell_type": "markdown",
   "id": "17fb8ed8",
   "metadata": {},
   "source": [
    "**Prediction on the test dataset**"
   ]
  },
  {
   "cell_type": "code",
   "execution_count": 48,
   "id": "95adc8ba",
   "metadata": {},
   "outputs": [
    {
     "name": "stdout",
     "output_type": "stream",
     "text": [
      "\u001b[1m6/6\u001b[0m \u001b[32m━━━━━━━━━━━━━━━━━━━━\u001b[0m\u001b[37m\u001b[0m \u001b[1m2s\u001b[0m 218ms/step\n",
      "              precision    recall  f1-score   support\n",
      "\n",
      "           0       0.59      0.41      0.48        91\n",
      "           1       0.41      0.50      0.45        60\n",
      "           2       0.15      0.25      0.19        16\n",
      "           3       0.08      0.12      0.10         8\n",
      "\n",
      "    accuracy                           0.41       175\n",
      "   macro avg       0.31      0.32      0.30       175\n",
      "weighted avg       0.46      0.41      0.43       175\n",
      "\n"
     ]
    }
   ],
   "source": [
    "# Predict the test dataset\n",
    "pred_label = model.predict([test_video, test_meteo])\n",
    "\n",
    "# Convert predictions from one-hot to labels\n",
    "pred_label_cat = np.argmax(pred_label, axis=1)\n",
    "true_label_cat = np.argmax(test_label, axis=1)\n",
    "\n",
    "print(classification_report(true_label_cat.flatten(), pred_label_cat.flatten()))"
   ]
  },
  {
   "cell_type": "markdown",
   "id": "88c63d8e",
   "metadata": {},
   "source": [
    "**Confusion Matrix**"
   ]
  },
  {
   "cell_type": "code",
   "execution_count": 49,
   "id": "eee48fdd",
   "metadata": {},
   "outputs": [
    {
     "data": {
      "image/png": "[encoded data removed]",
      "text/plain": [
       "<Figure size 640x480 with 2 Axes>"
      ]
     },
     "metadata": {},
     "output_type": "display_data"
    }
   ],
   "source": [
    "conmat = confusion_matrix(true_label_cat.flatten(), pred_label_cat.flatten())\n",
    "sns.heatmap(conmat, annot=True, fmt='d', cmap='Blues', xticklabels=labels, yticklabels=labels)\n",
    "\n",
    "plt.title('Confusion Matrix')\n",
    "plt.xlabel('Predicted Label')\n",
    "plt.ylabel('True Label')\n",
    "plt.show()"
   ]
  },
  {
   "cell_type": "markdown",
   "id": "70f0815e",
   "metadata": {},
   "source": [
    "-----"
   ]
  },
  {
   "cell_type": "markdown",
   "id": "ac62c214",
   "metadata": {},
   "source": [
    "# Hybrid Model 3"
   ]
  },
  {
   "cell_type": "markdown",
   "id": "9d14f510",
   "metadata": {},
   "source": [
    "Model Architecture\n",
    "- One CNN layer\n",
    "- Two RNN LSTM layers, with verying units through out layers and activations as desired\n",
    "- BatchNormalization and no dropouts this time"
   ]
  },
  {
   "cell_type": "code",
   "execution_count": 50,
   "id": "eed0eafe",
   "metadata": {},
   "outputs": [],
   "source": [
    "# CNN Model\n",
    "cnn_input = Input(shape=(9, 64, 64, 1))\n",
    "cnn = Conv3D(filters=32, kernel_size=(3, 3, 3), padding='same')(cnn_input)\n",
    "cnn = BatchNormalization()(cnn)\n",
    "cnn = MaxPooling3D(pool_size=(2, 2, 2))(cnn)\n",
    "\n",
    "cnn = Flatten()(cnn)\n",
    "cnn_output = Dense(16, activation='relu')(cnn)\n",
    "\n",
    "# RNN Model\n",
    "rnn_input = Input(shape=(7, 7))\n",
    "rnn = LSTM(64, return_sequences=True)(rnn_input)\n",
    "rnn = BatchNormalization()(rnn)\n",
    "rnn = LSTM(32, return_sequences=False)(rnn)\n",
    "rnn = BatchNormalization()(rnn)\n",
    "rnn_output = Dense(24, activation='relu')(rnn)\n",
    "\n",
    "# Concatenation and final layers\n",
    "concatenated = Concatenate()([cnn_output, rnn_output])\n",
    "\n",
    "final_dense = Dense(32, activation='relu')(concatenated)\n",
    "final_output = Dense(4, activation='softmax')(final_dense)\n",
    "\n",
    "# Final model assembly\n",
    "model = Model(inputs=[cnn_input, rnn_input], outputs=final_output)\n",
    "\n",
    "# Compile the model\n",
    "model.compile(optimizer='adam', loss='categorical_crossentropy', metrics=['accuracy'])"
   ]
  },
  {
   "cell_type": "code",
   "execution_count": 51,
   "id": "9226a1e6",
   "metadata": {},
   "outputs": [
    {
     "data": {
      "text/html": [
       "<pre style=\"white-space:pre;overflow-x:auto;line-height:normal;font-family:Menlo,'DejaVu Sans Mono',consolas,'Courier New',monospace\"><span style=\"font-weight: bold\">Model: \"functional_5\"</span>\n",
       "</pre>\n"
      ],
      "text/plain": [
       "\u001b[1mModel: \"functional_5\"\u001b[0m\n"
      ]
     },
     "metadata": {},
     "output_type": "display_data"
    },
    {
     "data": {
      "text/html": [
       "<pre style=\"white-space:pre;overflow-x:auto;line-height:normal;font-family:Menlo,'DejaVu Sans Mono',consolas,'Courier New',monospace\">┏━━━━━━━━━━━━━━━━━━━━━━━━━━━━━━━┳━━━━━━━━━━━━━━━━━━━━━━━━━━━┳━━━━━━━━━━━━━━━━━┳━━━━━━━━━━━━━━━━━━━━━━━━━━━━┓\n",
       "┃<span style=\"font-weight: bold\"> Layer (type)                  </span>┃<span style=\"font-weight: bold\"> Output Shape              </span>┃<span style=\"font-weight: bold\">         Param # </span>┃<span style=\"font-weight: bold\"> Connected to               </span>┃\n",
       "┡━━━━━━━━━━━━━━━━━━━━━━━━━━━━━━━╇━━━━━━━━━━━━━━━━━━━━━━━━━━━╇━━━━━━━━━━━━━━━━━╇━━━━━━━━━━━━━━━━━━━━━━━━━━━━┩\n",
       "│ input_layer_4 (<span style=\"color: #0087ff; text-decoration-color: #0087ff\">InputLayer</span>)    │ (<span style=\"color: #00d7ff; text-decoration-color: #00d7ff\">None</span>, <span style=\"color: #00af00; text-decoration-color: #00af00\">9</span>, <span style=\"color: #00af00; text-decoration-color: #00af00\">64</span>, <span style=\"color: #00af00; text-decoration-color: #00af00\">64</span>, <span style=\"color: #00af00; text-decoration-color: #00af00\">1</span>)      │               <span style=\"color: #00af00; text-decoration-color: #00af00\">0</span> │ -                          │\n",
       "├───────────────────────────────┼───────────────────────────┼─────────────────┼────────────────────────────┤\n",
       "│ input_layer_5 (<span style=\"color: #0087ff; text-decoration-color: #0087ff\">InputLayer</span>)    │ (<span style=\"color: #00d7ff; text-decoration-color: #00d7ff\">None</span>, <span style=\"color: #00af00; text-decoration-color: #00af00\">7</span>, <span style=\"color: #00af00; text-decoration-color: #00af00\">7</span>)              │               <span style=\"color: #00af00; text-decoration-color: #00af00\">0</span> │ -                          │\n",
       "├───────────────────────────────┼───────────────────────────┼─────────────────┼────────────────────────────┤\n",
       "│ conv3d_2 (<span style=\"color: #0087ff; text-decoration-color: #0087ff\">Conv3D</span>)             │ (<span style=\"color: #00d7ff; text-decoration-color: #00d7ff\">None</span>, <span style=\"color: #00af00; text-decoration-color: #00af00\">9</span>, <span style=\"color: #00af00; text-decoration-color: #00af00\">64</span>, <span style=\"color: #00af00; text-decoration-color: #00af00\">64</span>, <span style=\"color: #00af00; text-decoration-color: #00af00\">32</span>)     │             <span style=\"color: #00af00; text-decoration-color: #00af00\">896</span> │ input_layer_4[<span style=\"color: #00af00; text-decoration-color: #00af00\">0</span>][<span style=\"color: #00af00; text-decoration-color: #00af00\">0</span>]        │\n",
       "├───────────────────────────────┼───────────────────────────┼─────────────────┼────────────────────────────┤\n",
       "│ lstm_6 (<span style=\"color: #0087ff; text-decoration-color: #0087ff\">LSTM</span>)                 │ (<span style=\"color: #00d7ff; text-decoration-color: #00d7ff\">None</span>, <span style=\"color: #00af00; text-decoration-color: #00af00\">7</span>, <span style=\"color: #00af00; text-decoration-color: #00af00\">64</span>)             │          <span style=\"color: #00af00; text-decoration-color: #00af00\">18,432</span> │ input_layer_5[<span style=\"color: #00af00; text-decoration-color: #00af00\">0</span>][<span style=\"color: #00af00; text-decoration-color: #00af00\">0</span>]        │\n",
       "├───────────────────────────────┼───────────────────────────┼─────────────────┼────────────────────────────┤\n",
       "│ batch_normalization_8         │ (<span style=\"color: #00d7ff; text-decoration-color: #00d7ff\">None</span>, <span style=\"color: #00af00; text-decoration-color: #00af00\">9</span>, <span style=\"color: #00af00; text-decoration-color: #00af00\">64</span>, <span style=\"color: #00af00; text-decoration-color: #00af00\">64</span>, <span style=\"color: #00af00; text-decoration-color: #00af00\">32</span>)     │             <span style=\"color: #00af00; text-decoration-color: #00af00\">128</span> │ conv3d_2[<span style=\"color: #00af00; text-decoration-color: #00af00\">0</span>][<span style=\"color: #00af00; text-decoration-color: #00af00\">0</span>]             │\n",
       "│ (<span style=\"color: #0087ff; text-decoration-color: #0087ff\">BatchNormalization</span>)          │                           │                 │                            │\n",
       "├───────────────────────────────┼───────────────────────────┼─────────────────┼────────────────────────────┤\n",
       "│ batch_normalization_9         │ (<span style=\"color: #00d7ff; text-decoration-color: #00d7ff\">None</span>, <span style=\"color: #00af00; text-decoration-color: #00af00\">7</span>, <span style=\"color: #00af00; text-decoration-color: #00af00\">64</span>)             │             <span style=\"color: #00af00; text-decoration-color: #00af00\">256</span> │ lstm_6[<span style=\"color: #00af00; text-decoration-color: #00af00\">0</span>][<span style=\"color: #00af00; text-decoration-color: #00af00\">0</span>]               │\n",
       "│ (<span style=\"color: #0087ff; text-decoration-color: #0087ff\">BatchNormalization</span>)          │                           │                 │                            │\n",
       "├───────────────────────────────┼───────────────────────────┼─────────────────┼────────────────────────────┤\n",
       "│ max_pooling3d_2               │ (<span style=\"color: #00d7ff; text-decoration-color: #00d7ff\">None</span>, <span style=\"color: #00af00; text-decoration-color: #00af00\">4</span>, <span style=\"color: #00af00; text-decoration-color: #00af00\">32</span>, <span style=\"color: #00af00; text-decoration-color: #00af00\">32</span>, <span style=\"color: #00af00; text-decoration-color: #00af00\">32</span>)     │               <span style=\"color: #00af00; text-decoration-color: #00af00\">0</span> │ batch_normalization_8[<span style=\"color: #00af00; text-decoration-color: #00af00\">0</span>][<span style=\"color: #00af00; text-decoration-color: #00af00\">…</span> │\n",
       "│ (<span style=\"color: #0087ff; text-decoration-color: #0087ff\">MaxPooling3D</span>)                │                           │                 │                            │\n",
       "├───────────────────────────────┼───────────────────────────┼─────────────────┼────────────────────────────┤\n",
       "│ lstm_7 (<span style=\"color: #0087ff; text-decoration-color: #0087ff\">LSTM</span>)                 │ (<span style=\"color: #00d7ff; text-decoration-color: #00d7ff\">None</span>, <span style=\"color: #00af00; text-decoration-color: #00af00\">32</span>)                │          <span style=\"color: #00af00; text-decoration-color: #00af00\">12,416</span> │ batch_normalization_9[<span style=\"color: #00af00; text-decoration-color: #00af00\">0</span>][<span style=\"color: #00af00; text-decoration-color: #00af00\">…</span> │\n",
       "├───────────────────────────────┼───────────────────────────┼─────────────────┼────────────────────────────┤\n",
       "│ flatten_2 (<span style=\"color: #0087ff; text-decoration-color: #0087ff\">Flatten</span>)           │ (<span style=\"color: #00d7ff; text-decoration-color: #00d7ff\">None</span>, <span style=\"color: #00af00; text-decoration-color: #00af00\">131072</span>)            │               <span style=\"color: #00af00; text-decoration-color: #00af00\">0</span> │ max_pooling3d_2[<span style=\"color: #00af00; text-decoration-color: #00af00\">0</span>][<span style=\"color: #00af00; text-decoration-color: #00af00\">0</span>]      │\n",
       "├───────────────────────────────┼───────────────────────────┼─────────────────┼────────────────────────────┤\n",
       "│ batch_normalization_10        │ (<span style=\"color: #00d7ff; text-decoration-color: #00d7ff\">None</span>, <span style=\"color: #00af00; text-decoration-color: #00af00\">32</span>)                │             <span style=\"color: #00af00; text-decoration-color: #00af00\">128</span> │ lstm_7[<span style=\"color: #00af00; text-decoration-color: #00af00\">0</span>][<span style=\"color: #00af00; text-decoration-color: #00af00\">0</span>]               │\n",
       "│ (<span style=\"color: #0087ff; text-decoration-color: #0087ff\">BatchNormalization</span>)          │                           │                 │                            │\n",
       "├───────────────────────────────┼───────────────────────────┼─────────────────┼────────────────────────────┤\n",
       "│ dense_8 (<span style=\"color: #0087ff; text-decoration-color: #0087ff\">Dense</span>)               │ (<span style=\"color: #00d7ff; text-decoration-color: #00d7ff\">None</span>, <span style=\"color: #00af00; text-decoration-color: #00af00\">16</span>)                │       <span style=\"color: #00af00; text-decoration-color: #00af00\">2,097,168</span> │ flatten_2[<span style=\"color: #00af00; text-decoration-color: #00af00\">0</span>][<span style=\"color: #00af00; text-decoration-color: #00af00\">0</span>]            │\n",
       "├───────────────────────────────┼───────────────────────────┼─────────────────┼────────────────────────────┤\n",
       "│ dense_9 (<span style=\"color: #0087ff; text-decoration-color: #0087ff\">Dense</span>)               │ (<span style=\"color: #00d7ff; text-decoration-color: #00d7ff\">None</span>, <span style=\"color: #00af00; text-decoration-color: #00af00\">24</span>)                │             <span style=\"color: #00af00; text-decoration-color: #00af00\">792</span> │ batch_normalization_10[<span style=\"color: #00af00; text-decoration-color: #00af00\">0</span>]… │\n",
       "├───────────────────────────────┼───────────────────────────┼─────────────────┼────────────────────────────┤\n",
       "│ concatenate_2 (<span style=\"color: #0087ff; text-decoration-color: #0087ff\">Concatenate</span>)   │ (<span style=\"color: #00d7ff; text-decoration-color: #00d7ff\">None</span>, <span style=\"color: #00af00; text-decoration-color: #00af00\">40</span>)                │               <span style=\"color: #00af00; text-decoration-color: #00af00\">0</span> │ dense_8[<span style=\"color: #00af00; text-decoration-color: #00af00\">0</span>][<span style=\"color: #00af00; text-decoration-color: #00af00\">0</span>],             │\n",
       "│                               │                           │                 │ dense_9[<span style=\"color: #00af00; text-decoration-color: #00af00\">0</span>][<span style=\"color: #00af00; text-decoration-color: #00af00\">0</span>]              │\n",
       "├───────────────────────────────┼───────────────────────────┼─────────────────┼────────────────────────────┤\n",
       "│ dense_10 (<span style=\"color: #0087ff; text-decoration-color: #0087ff\">Dense</span>)              │ (<span style=\"color: #00d7ff; text-decoration-color: #00d7ff\">None</span>, <span style=\"color: #00af00; text-decoration-color: #00af00\">32</span>)                │           <span style=\"color: #00af00; text-decoration-color: #00af00\">1,312</span> │ concatenate_2[<span style=\"color: #00af00; text-decoration-color: #00af00\">0</span>][<span style=\"color: #00af00; text-decoration-color: #00af00\">0</span>]        │\n",
       "├───────────────────────────────┼───────────────────────────┼─────────────────┼────────────────────────────┤\n",
       "│ dense_11 (<span style=\"color: #0087ff; text-decoration-color: #0087ff\">Dense</span>)              │ (<span style=\"color: #00d7ff; text-decoration-color: #00d7ff\">None</span>, <span style=\"color: #00af00; text-decoration-color: #00af00\">4</span>)                 │             <span style=\"color: #00af00; text-decoration-color: #00af00\">132</span> │ dense_10[<span style=\"color: #00af00; text-decoration-color: #00af00\">0</span>][<span style=\"color: #00af00; text-decoration-color: #00af00\">0</span>]             │\n",
       "└───────────────────────────────┴───────────────────────────┴─────────────────┴────────────────────────────┘\n",
       "</pre>\n"
      ],
      "text/plain": [
       "┏━━━━━━━━━━━━━━━━━━━━━━━━━━━━━━━┳━━━━━━━━━━━━━━━━━━━━━━━━━━━┳━━━━━━━━━━━━━━━━━┳━━━━━━━━━━━━━━━━━━━━━━━━━━━━┓\n",
       "┃\u001b[1m \u001b[0m\u001b[1mLayer (type)                 \u001b[0m\u001b[1m \u001b[0m┃\u001b[1m \u001b[0m\u001b[1mOutput Shape             \u001b[0m\u001b[1m \u001b[0m┃\u001b[1m \u001b[0m\u001b[1m        Param #\u001b[0m\u001b[1m \u001b[0m┃\u001b[1m \u001b[0m\u001b[1mConnected to              \u001b[0m\u001b[1m \u001b[0m┃\n",
       "┡━━━━━━━━━━━━━━━━━━━━━━━━━━━━━━━╇━━━━━━━━━━━━━━━━━━━━━━━━━━━╇━━━━━━━━━━━━━━━━━╇━━━━━━━━━━━━━━━━━━━━━━━━━━━━┩\n",
       "│ input_layer_4 (\u001b[38;5;33mInputLayer\u001b[0m)    │ (\u001b[38;5;45mNone\u001b[0m, \u001b[38;5;34m9\u001b[0m, \u001b[38;5;34m64\u001b[0m, \u001b[38;5;34m64\u001b[0m, \u001b[38;5;34m1\u001b[0m)      │               \u001b[38;5;34m0\u001b[0m │ -                          │\n",
       "├───────────────────────────────┼───────────────────────────┼─────────────────┼────────────────────────────┤\n",
       "│ input_layer_5 (\u001b[38;5;33mInputLayer\u001b[0m)    │ (\u001b[38;5;45mNone\u001b[0m, \u001b[38;5;34m7\u001b[0m, \u001b[38;5;34m7\u001b[0m)              │               \u001b[38;5;34m0\u001b[0m │ -                          │\n",
       "├───────────────────────────────┼───────────────────────────┼─────────────────┼────────────────────────────┤\n",
       "│ conv3d_2 (\u001b[38;5;33mConv3D\u001b[0m)             │ (\u001b[38;5;45mNone\u001b[0m, \u001b[38;5;34m9\u001b[0m, \u001b[38;5;34m64\u001b[0m, \u001b[38;5;34m64\u001b[0m, \u001b[38;5;34m32\u001b[0m)     │             \u001b[38;5;34m896\u001b[0m │ input_layer_4[\u001b[38;5;34m0\u001b[0m][\u001b[38;5;34m0\u001b[0m]        │\n",
       "├───────────────────────────────┼───────────────────────────┼─────────────────┼────────────────────────────┤\n",
       "│ lstm_6 (\u001b[38;5;33mLSTM\u001b[0m)                 │ (\u001b[38;5;45mNone\u001b[0m, \u001b[38;5;34m7\u001b[0m, \u001b[38;5;34m64\u001b[0m)             │          \u001b[38;5;34m18,432\u001b[0m │ input_layer_5[\u001b[38;5;34m0\u001b[0m][\u001b[38;5;34m0\u001b[0m]        │\n",
       "├───────────────────────────────┼───────────────────────────┼─────────────────┼────────────────────────────┤\n",
       "│ batch_normalization_8         │ (\u001b[38;5;45mNone\u001b[0m, \u001b[38;5;34m9\u001b[0m, \u001b[38;5;34m64\u001b[0m, \u001b[38;5;34m64\u001b[0m, \u001b[38;5;34m32\u001b[0m)     │             \u001b[38;5;34m128\u001b[0m │ conv3d_2[\u001b[38;5;34m0\u001b[0m][\u001b[38;5;34m0\u001b[0m]             │\n",
       "│ (\u001b[38;5;33mBatchNormalization\u001b[0m)          │                           │                 │                            │\n",
       "├───────────────────────────────┼───────────────────────────┼─────────────────┼────────────────────────────┤\n",
       "│ batch_normalization_9         │ (\u001b[38;5;45mNone\u001b[0m, \u001b[38;5;34m7\u001b[0m, \u001b[38;5;34m64\u001b[0m)             │             \u001b[38;5;34m256\u001b[0m │ lstm_6[\u001b[38;5;34m0\u001b[0m][\u001b[38;5;34m0\u001b[0m]               │\n",
       "│ (\u001b[38;5;33mBatchNormalization\u001b[0m)          │                           │                 │                            │\n",
       "├───────────────────────────────┼───────────────────────────┼─────────────────┼────────────────────────────┤\n",
       "│ max_pooling3d_2               │ (\u001b[38;5;45mNone\u001b[0m, \u001b[38;5;34m4\u001b[0m, \u001b[38;5;34m32\u001b[0m, \u001b[38;5;34m32\u001b[0m, \u001b[38;5;34m32\u001b[0m)     │               \u001b[38;5;34m0\u001b[0m │ batch_normalization_8[\u001b[38;5;34m0\u001b[0m][\u001b[38;5;34m…\u001b[0m │\n",
       "│ (\u001b[38;5;33mMaxPooling3D\u001b[0m)                │                           │                 │                            │\n",
       "├───────────────────────────────┼───────────────────────────┼─────────────────┼────────────────────────────┤\n",
       "│ lstm_7 (\u001b[38;5;33mLSTM\u001b[0m)                 │ (\u001b[38;5;45mNone\u001b[0m, \u001b[38;5;34m32\u001b[0m)                │          \u001b[38;5;34m12,416\u001b[0m │ batch_normalization_9[\u001b[38;5;34m0\u001b[0m][\u001b[38;5;34m…\u001b[0m │\n",
       "├───────────────────────────────┼───────────────────────────┼─────────────────┼────────────────────────────┤\n",
       "│ flatten_2 (\u001b[38;5;33mFlatten\u001b[0m)           │ (\u001b[38;5;45mNone\u001b[0m, \u001b[38;5;34m131072\u001b[0m)            │               \u001b[38;5;34m0\u001b[0m │ max_pooling3d_2[\u001b[38;5;34m0\u001b[0m][\u001b[38;5;34m0\u001b[0m]      │\n",
       "├───────────────────────────────┼───────────────────────────┼─────────────────┼────────────────────────────┤\n",
       "│ batch_normalization_10        │ (\u001b[38;5;45mNone\u001b[0m, \u001b[38;5;34m32\u001b[0m)                │             \u001b[38;5;34m128\u001b[0m │ lstm_7[\u001b[38;5;34m0\u001b[0m][\u001b[38;5;34m0\u001b[0m]               │\n",
       "│ (\u001b[38;5;33mBatchNormalization\u001b[0m)          │                           │                 │                            │\n",
       "├───────────────────────────────┼───────────────────────────┼─────────────────┼────────────────────────────┤\n",
       "│ dense_8 (\u001b[38;5;33mDense\u001b[0m)               │ (\u001b[38;5;45mNone\u001b[0m, \u001b[38;5;34m16\u001b[0m)                │       \u001b[38;5;34m2,097,168\u001b[0m │ flatten_2[\u001b[38;5;34m0\u001b[0m][\u001b[38;5;34m0\u001b[0m]            │\n",
       "├───────────────────────────────┼───────────────────────────┼─────────────────┼────────────────────────────┤\n",
       "│ dense_9 (\u001b[38;5;33mDense\u001b[0m)               │ (\u001b[38;5;45mNone\u001b[0m, \u001b[38;5;34m24\u001b[0m)                │             \u001b[38;5;34m792\u001b[0m │ batch_normalization_10[\u001b[38;5;34m0\u001b[0m]… │\n",
       "├───────────────────────────────┼───────────────────────────┼─────────────────┼────────────────────────────┤\n",
       "│ concatenate_2 (\u001b[38;5;33mConcatenate\u001b[0m)   │ (\u001b[38;5;45mNone\u001b[0m, \u001b[38;5;34m40\u001b[0m)                │               \u001b[38;5;34m0\u001b[0m │ dense_8[\u001b[38;5;34m0\u001b[0m][\u001b[38;5;34m0\u001b[0m],             │\n",
       "│                               │                           │                 │ dense_9[\u001b[38;5;34m0\u001b[0m][\u001b[38;5;34m0\u001b[0m]              │\n",
       "├───────────────────────────────┼───────────────────────────┼─────────────────┼────────────────────────────┤\n",
       "│ dense_10 (\u001b[38;5;33mDense\u001b[0m)              │ (\u001b[38;5;45mNone\u001b[0m, \u001b[38;5;34m32\u001b[0m)                │           \u001b[38;5;34m1,312\u001b[0m │ concatenate_2[\u001b[38;5;34m0\u001b[0m][\u001b[38;5;34m0\u001b[0m]        │\n",
       "├───────────────────────────────┼───────────────────────────┼─────────────────┼────────────────────────────┤\n",
       "│ dense_11 (\u001b[38;5;33mDense\u001b[0m)              │ (\u001b[38;5;45mNone\u001b[0m, \u001b[38;5;34m4\u001b[0m)                 │             \u001b[38;5;34m132\u001b[0m │ dense_10[\u001b[38;5;34m0\u001b[0m][\u001b[38;5;34m0\u001b[0m]             │\n",
       "└───────────────────────────────┴───────────────────────────┴─────────────────┴────────────────────────────┘\n"
      ]
     },
     "metadata": {},
     "output_type": "display_data"
    },
    {
     "data": {
      "text/html": [
       "<pre style=\"white-space:pre;overflow-x:auto;line-height:normal;font-family:Menlo,'DejaVu Sans Mono',consolas,'Courier New',monospace\"><span style=\"font-weight: bold\"> Total params: </span><span style=\"color: #00af00; text-decoration-color: #00af00\">2,131,660</span> (8.13 MB)\n",
       "</pre>\n"
      ],
      "text/plain": [
       "\u001b[1m Total params: \u001b[0m\u001b[38;5;34m2,131,660\u001b[0m (8.13 MB)\n"
      ]
     },
     "metadata": {},
     "output_type": "display_data"
    },
    {
     "data": {
      "text/html": [
       "<pre style=\"white-space:pre;overflow-x:auto;line-height:normal;font-family:Menlo,'DejaVu Sans Mono',consolas,'Courier New',monospace\"><span style=\"font-weight: bold\"> Trainable params: </span><span style=\"color: #00af00; text-decoration-color: #00af00\">2,131,404</span> (8.13 MB)\n",
       "</pre>\n"
      ],
      "text/plain": [
       "\u001b[1m Trainable params: \u001b[0m\u001b[38;5;34m2,131,404\u001b[0m (8.13 MB)\n"
      ]
     },
     "metadata": {},
     "output_type": "display_data"
    },
    {
     "data": {
      "text/html": [
       "<pre style=\"white-space:pre;overflow-x:auto;line-height:normal;font-family:Menlo,'DejaVu Sans Mono',consolas,'Courier New',monospace\"><span style=\"font-weight: bold\"> Non-trainable params: </span><span style=\"color: #00af00; text-decoration-color: #00af00\">256</span> (1.00 KB)\n",
       "</pre>\n"
      ],
      "text/plain": [
       "\u001b[1m Non-trainable params: \u001b[0m\u001b[38;5;34m256\u001b[0m (1.00 KB)\n"
      ]
     },
     "metadata": {},
     "output_type": "display_data"
    }
   ],
   "source": [
    "model.summary()"
   ]
  },
  {
   "cell_type": "markdown",
   "id": "fa6f1074",
   "metadata": {},
   "source": [
    "**Model Fitting**"
   ]
  },
  {
   "cell_type": "code",
   "execution_count": 52,
   "id": "b49330cf",
   "metadata": {
    "scrolled": false
   },
   "outputs": [
    {
     "name": "stdout",
     "output_type": "stream",
     "text": [
      "Epoch 1/50\n",
      "\u001b[1m36/36\u001b[0m \u001b[32m━━━━━━━━━━━━━━━━━━━━\u001b[0m\u001b[37m\u001b[0m \u001b[1m19s\u001b[0m 350ms/step - accuracy: 0.3017 - loss: 8.9038 - val_accuracy: 0.5409 - val_loss: 1.3756\n",
      "Epoch 2/50\n",
      "\u001b[1m36/36\u001b[0m \u001b[32m━━━━━━━━━━━━━━━━━━━━\u001b[0m\u001b[37m\u001b[0m \u001b[1m11s\u001b[0m 309ms/step - accuracy: 0.3296 - loss: 1.3188 - val_accuracy: 0.2633 - val_loss: 1.3722\n",
      "Epoch 3/50\n",
      "\u001b[1m36/36\u001b[0m \u001b[32m━━━━━━━━━━━━━━━━━━━━\u001b[0m\u001b[37m\u001b[0m \u001b[1m11s\u001b[0m 308ms/step - accuracy: 0.3688 - loss: 1.3198 - val_accuracy: 0.2491 - val_loss: 1.3739\n",
      "Epoch 4/50\n",
      "\u001b[1m36/36\u001b[0m \u001b[32m━━━━━━━━━━━━━━━━━━━━\u001b[0m\u001b[37m\u001b[0m \u001b[1m11s\u001b[0m 313ms/step - accuracy: 0.3936 - loss: 1.2369 - val_accuracy: 0.2491 - val_loss: 1.3788\n",
      "Epoch 5/50\n",
      "\u001b[1m36/36\u001b[0m \u001b[32m━━━━━━━━━━━━━━━━━━━━\u001b[0m\u001b[37m\u001b[0m \u001b[1m11s\u001b[0m 309ms/step - accuracy: 0.3622 - loss: 1.2489 - val_accuracy: 0.2491 - val_loss: 1.3559\n",
      "Epoch 6/50\n",
      "\u001b[1m36/36\u001b[0m \u001b[32m━━━━━━━━━━━━━━━━━━━━\u001b[0m\u001b[37m\u001b[0m \u001b[1m11s\u001b[0m 311ms/step - accuracy: 0.3869 - loss: 1.2105 - val_accuracy: 0.2705 - val_loss: 1.3223\n",
      "Epoch 7/50\n",
      "\u001b[1m36/36\u001b[0m \u001b[32m━━━━━━━━━━━━━━━━━━━━\u001b[0m\u001b[37m\u001b[0m \u001b[1m11s\u001b[0m 308ms/step - accuracy: 0.4234 - loss: 1.2019 - val_accuracy: 0.2420 - val_loss: 1.3301\n",
      "Epoch 8/50\n",
      "\u001b[1m36/36\u001b[0m \u001b[32m━━━━━━━━━━━━━━━━━━━━\u001b[0m\u001b[37m\u001b[0m \u001b[1m11s\u001b[0m 306ms/step - accuracy: 0.4291 - loss: 1.1614 - val_accuracy: 0.2420 - val_loss: 1.3538\n",
      "Epoch 9/50\n",
      "\u001b[1m36/36\u001b[0m \u001b[32m━━━━━━━━━━━━━━━━━━━━\u001b[0m\u001b[37m\u001b[0m \u001b[1m11s\u001b[0m 308ms/step - accuracy: 0.4260 - loss: 1.2307 - val_accuracy: 0.2242 - val_loss: 1.3728\n",
      "Epoch 10/50\n",
      "\u001b[1m36/36\u001b[0m \u001b[32m━━━━━━━━━━━━━━━━━━━━\u001b[0m\u001b[37m\u001b[0m \u001b[1m11s\u001b[0m 305ms/step - accuracy: 0.4381 - loss: 1.1995 - val_accuracy: 0.2491 - val_loss: 1.3238\n",
      "Epoch 11/50\n",
      "\u001b[1m36/36\u001b[0m \u001b[32m━━━━━━━━━━━━━━━━━━━━\u001b[0m\u001b[37m\u001b[0m \u001b[1m11s\u001b[0m 309ms/step - accuracy: 0.4410 - loss: 1.2007 - val_accuracy: 0.3879 - val_loss: 1.2617\n",
      "Epoch 12/50\n",
      "\u001b[1m36/36\u001b[0m \u001b[32m━━━━━━━━━━━━━━━━━━━━\u001b[0m\u001b[37m\u001b[0m \u001b[1m11s\u001b[0m 311ms/step - accuracy: 0.4779 - loss: 1.1787 - val_accuracy: 0.2811 - val_loss: 1.2875\n",
      "Epoch 13/50\n",
      "\u001b[1m36/36\u001b[0m \u001b[32m━━━━━━━━━━━━━━━━━━━━\u001b[0m\u001b[37m\u001b[0m \u001b[1m11s\u001b[0m 309ms/step - accuracy: 0.4495 - loss: 1.1728 - val_accuracy: 0.3665 - val_loss: 1.2461\n",
      "Epoch 14/50\n",
      "\u001b[1m36/36\u001b[0m \u001b[32m━━━━━━━━━━━━━━━━━━━━\u001b[0m\u001b[37m\u001b[0m \u001b[1m11s\u001b[0m 308ms/step - accuracy: 0.5043 - loss: 1.0575 - val_accuracy: 0.2384 - val_loss: 1.3972\n",
      "Epoch 15/50\n",
      "\u001b[1m36/36\u001b[0m \u001b[32m━━━━━━━━━━━━━━━━━━━━\u001b[0m\u001b[37m\u001b[0m \u001b[1m12s\u001b[0m 326ms/step - accuracy: 0.4969 - loss: 1.0244 - val_accuracy: 0.2420 - val_loss: 1.4326\n",
      "Epoch 16/50\n",
      "\u001b[1m36/36\u001b[0m \u001b[32m━━━━━━━━━━━━━━━━━━━━\u001b[0m\u001b[37m\u001b[0m \u001b[1m12s\u001b[0m 324ms/step - accuracy: 0.4734 - loss: 1.0691 - val_accuracy: 0.3167 - val_loss: 1.4275\n",
      "Epoch 17/50\n",
      "\u001b[1m36/36\u001b[0m \u001b[32m━━━━━━━━━━━━━━━━━━━━\u001b[0m\u001b[37m\u001b[0m \u001b[1m13s\u001b[0m 358ms/step - accuracy: 0.4814 - loss: 1.0829 - val_accuracy: 0.3132 - val_loss: 1.2871\n",
      "Epoch 18/50\n",
      "\u001b[1m36/36\u001b[0m \u001b[32m━━━━━━━━━━━━━━━━━━━━\u001b[0m\u001b[37m\u001b[0m \u001b[1m11s\u001b[0m 312ms/step - accuracy: 0.5063 - loss: 1.0744 - val_accuracy: 0.2562 - val_loss: 1.4321\n",
      "Epoch 19/50\n",
      "\u001b[1m36/36\u001b[0m \u001b[32m━━━━━━━━━━━━━━━━━━━━\u001b[0m\u001b[37m\u001b[0m \u001b[1m11s\u001b[0m 310ms/step - accuracy: 0.5107 - loss: 0.9781 - val_accuracy: 0.3879 - val_loss: 1.3647\n",
      "Epoch 20/50\n",
      "\u001b[1m36/36\u001b[0m \u001b[32m━━━━━━━━━━━━━━━━━━━━\u001b[0m\u001b[37m\u001b[0m \u001b[1m11s\u001b[0m 310ms/step - accuracy: 0.4956 - loss: 1.0266 - val_accuracy: 0.3310 - val_loss: 1.3490\n",
      "Epoch 21/50\n",
      "\u001b[1m36/36\u001b[0m \u001b[32m━━━━━━━━━━━━━━━━━━━━\u001b[0m\u001b[37m\u001b[0m \u001b[1m11s\u001b[0m 310ms/step - accuracy: 0.5083 - loss: 0.9899 - val_accuracy: 0.3843 - val_loss: 1.3425\n",
      "Epoch 22/50\n",
      "\u001b[1m36/36\u001b[0m \u001b[32m━━━━━━━━━━━━━━━━━━━━\u001b[0m\u001b[37m\u001b[0m \u001b[1m14s\u001b[0m 391ms/step - accuracy: 0.5240 - loss: 0.9541 - val_accuracy: 0.3060 - val_loss: 1.5213\n",
      "Epoch 23/50\n",
      "\u001b[1m36/36\u001b[0m \u001b[32m━━━━━━━━━━━━━━━━━━━━\u001b[0m\u001b[37m\u001b[0m \u001b[1m13s\u001b[0m 355ms/step - accuracy: 0.5060 - loss: 0.9808 - val_accuracy: 0.3737 - val_loss: 1.4027\n",
      "Epoch 24/50\n",
      "\u001b[1m36/36\u001b[0m \u001b[32m━━━━━━━━━━━━━━━━━━━━\u001b[0m\u001b[37m\u001b[0m \u001b[1m11s\u001b[0m 308ms/step - accuracy: 0.5179 - loss: 0.9376 - val_accuracy: 0.2598 - val_loss: 1.7874\n",
      "Epoch 25/50\n",
      "\u001b[1m36/36\u001b[0m \u001b[32m━━━━━━━━━━━━━━━━━━━━\u001b[0m\u001b[37m\u001b[0m \u001b[1m11s\u001b[0m 306ms/step - accuracy: 0.5272 - loss: 0.9518 - val_accuracy: 0.4128 - val_loss: 1.4067\n",
      "Epoch 26/50\n",
      "\u001b[1m36/36\u001b[0m \u001b[32m━━━━━━━━━━━━━━━━━━━━\u001b[0m\u001b[37m\u001b[0m \u001b[1m11s\u001b[0m 309ms/step - accuracy: 0.5041 - loss: 0.9700 - val_accuracy: 0.3132 - val_loss: 1.6284\n",
      "Epoch 27/50\n",
      "\u001b[1m36/36\u001b[0m \u001b[32m━━━━━━━━━━━━━━━━━━━━\u001b[0m\u001b[37m\u001b[0m \u001b[1m12s\u001b[0m 331ms/step - accuracy: 0.5102 - loss: 0.8939 - val_accuracy: 0.4306 - val_loss: 1.4091\n",
      "Epoch 28/50\n",
      "\u001b[1m36/36\u001b[0m \u001b[32m━━━━━━━━━━━━━━━━━━━━\u001b[0m\u001b[37m\u001b[0m \u001b[1m12s\u001b[0m 338ms/step - accuracy: 0.5263 - loss: 0.9187 - val_accuracy: 0.3416 - val_loss: 1.4132\n",
      "Epoch 29/50\n",
      "\u001b[1m36/36\u001b[0m \u001b[32m━━━━━━━━━━━━━━━━━━━━\u001b[0m\u001b[37m\u001b[0m \u001b[1m13s\u001b[0m 365ms/step - accuracy: 0.5206 - loss: 0.9082 - val_accuracy: 0.5053 - val_loss: 1.2164\n",
      "Epoch 30/50\n",
      "\u001b[1m36/36\u001b[0m \u001b[32m━━━━━━━━━━━━━━━━━━━━\u001b[0m\u001b[37m\u001b[0m \u001b[1m13s\u001b[0m 373ms/step - accuracy: 0.5108 - loss: 0.9105 - val_accuracy: 0.4342 - val_loss: 1.3123\n",
      "Epoch 31/50\n",
      "\u001b[1m36/36\u001b[0m \u001b[32m━━━━━━━━━━━━━━━━━━━━\u001b[0m\u001b[37m\u001b[0m \u001b[1m12s\u001b[0m 328ms/step - accuracy: 0.5606 - loss: 0.8828 - val_accuracy: 0.4021 - val_loss: 1.3228\n",
      "Epoch 32/50\n",
      "\u001b[1m36/36\u001b[0m \u001b[32m━━━━━━━━━━━━━━━━━━━━\u001b[0m\u001b[37m\u001b[0m \u001b[1m13s\u001b[0m 373ms/step - accuracy: 0.5666 - loss: 0.8099 - val_accuracy: 0.4306 - val_loss: 1.2992\n",
      "Epoch 33/50\n",
      "\u001b[1m36/36\u001b[0m \u001b[32m━━━━━━━━━━━━━━━━━━━━\u001b[0m\u001b[37m\u001b[0m \u001b[1m12s\u001b[0m 326ms/step - accuracy: 0.5419 - loss: 0.8164 - val_accuracy: 0.3345 - val_loss: 1.7134\n",
      "Epoch 34/50\n",
      "\u001b[1m36/36\u001b[0m \u001b[32m━━━━━━━━━━━━━━━━━━━━\u001b[0m\u001b[37m\u001b[0m \u001b[1m12s\u001b[0m 326ms/step - accuracy: 0.5524 - loss: 0.8310 - val_accuracy: 0.4057 - val_loss: 1.3744\n",
      "Epoch 35/50\n",
      "\u001b[1m36/36\u001b[0m \u001b[32m━━━━━━━━━━━━━━━━━━━━\u001b[0m\u001b[37m\u001b[0m \u001b[1m13s\u001b[0m 349ms/step - accuracy: 0.5359 - loss: 0.8593 - val_accuracy: 0.4520 - val_loss: 1.2326\n",
      "Epoch 36/50\n",
      "\u001b[1m36/36\u001b[0m \u001b[32m━━━━━━━━━━━━━━━━━━━━\u001b[0m\u001b[37m\u001b[0m \u001b[1m13s\u001b[0m 375ms/step - accuracy: 0.5779 - loss: 0.7810 - val_accuracy: 0.4199 - val_loss: 1.4456\n",
      "Epoch 37/50\n",
      "\u001b[1m36/36\u001b[0m \u001b[32m━━━━━━━━━━━━━━━━━━━━\u001b[0m\u001b[37m\u001b[0m \u001b[1m12s\u001b[0m 344ms/step - accuracy: 0.5390 - loss: 0.8767 - val_accuracy: 0.3808 - val_loss: 1.4227\n",
      "Epoch 38/50\n",
      "\u001b[1m36/36\u001b[0m \u001b[32m━━━━━━━━━━━━━━━━━━━━\u001b[0m\u001b[37m\u001b[0m \u001b[1m12s\u001b[0m 337ms/step - accuracy: 0.5792 - loss: 0.7806 - val_accuracy: 0.4626 - val_loss: 1.3885\n",
      "Epoch 39/50\n",
      "\u001b[1m36/36\u001b[0m \u001b[32m━━━━━━━━━━━━━━━━━━━━\u001b[0m\u001b[37m\u001b[0m \u001b[1m12s\u001b[0m 321ms/step - accuracy: 0.5971 - loss: 0.6729 - val_accuracy: 0.4698 - val_loss: 1.2927\n",
      "Epoch 40/50\n",
      "\u001b[1m36/36\u001b[0m \u001b[32m━━━━━━━━━━━━━━━━━━━━\u001b[0m\u001b[37m\u001b[0m \u001b[1m12s\u001b[0m 324ms/step - accuracy: 0.5863 - loss: 0.7912 - val_accuracy: 0.3986 - val_loss: 1.6188\n",
      "Epoch 41/50\n",
      "\u001b[1m36/36\u001b[0m \u001b[32m━━━━━━━━━━━━━━━━━━━━\u001b[0m\u001b[37m\u001b[0m \u001b[1m12s\u001b[0m 340ms/step - accuracy: 0.5904 - loss: 0.7471 - val_accuracy: 0.4911 - val_loss: 1.2088\n",
      "Epoch 42/50\n",
      "\u001b[1m36/36\u001b[0m \u001b[32m━━━━━━━━━━━━━━━━━━━━\u001b[0m\u001b[37m\u001b[0m \u001b[1m12s\u001b[0m 319ms/step - accuracy: 0.5912 - loss: 0.7391 - val_accuracy: 0.4413 - val_loss: 1.2925\n",
      "Epoch 43/50\n",
      "\u001b[1m36/36\u001b[0m \u001b[32m━━━━━━━━━━━━━━━━━━━━\u001b[0m\u001b[37m\u001b[0m \u001b[1m12s\u001b[0m 322ms/step - accuracy: 0.5970 - loss: 0.7786 - val_accuracy: 0.4128 - val_loss: 1.4782\n",
      "Epoch 44/50\n",
      "\u001b[1m36/36\u001b[0m \u001b[32m━━━━━━━━━━━━━━━━━━━━\u001b[0m\u001b[37m\u001b[0m \u001b[1m11s\u001b[0m 310ms/step - accuracy: 0.6153 - loss: 0.6501 - val_accuracy: 0.3737 - val_loss: 1.5244\n",
      "Epoch 45/50\n",
      "\u001b[1m36/36\u001b[0m \u001b[32m━━━━━━━━━━━━━━━━━━━━\u001b[0m\u001b[37m\u001b[0m \u001b[1m11s\u001b[0m 308ms/step - accuracy: 0.6234 - loss: 0.6712 - val_accuracy: 0.3630 - val_loss: 1.4689\n",
      "Epoch 46/50\n",
      "\u001b[1m36/36\u001b[0m \u001b[32m━━━━━━━━━━━━━━━━━━━━\u001b[0m\u001b[37m\u001b[0m \u001b[1m11s\u001b[0m 309ms/step - accuracy: 0.6235 - loss: 0.7007 - val_accuracy: 0.4021 - val_loss: 1.7058\n",
      "Epoch 47/50\n",
      "\u001b[1m36/36\u001b[0m \u001b[32m━━━━━━━━━━━━━━━━━━━━\u001b[0m\u001b[37m\u001b[0m \u001b[1m11s\u001b[0m 313ms/step - accuracy: 0.6319 - loss: 0.6598 - val_accuracy: 0.4591 - val_loss: 1.4209\n",
      "Epoch 48/50\n",
      "\u001b[1m36/36\u001b[0m \u001b[32m━━━━━━━━━━━━━━━━━━━━\u001b[0m\u001b[37m\u001b[0m \u001b[1m11s\u001b[0m 308ms/step - accuracy: 0.6388 - loss: 0.6503 - val_accuracy: 0.3772 - val_loss: 1.5802\n",
      "Epoch 49/50\n",
      "\u001b[1m36/36\u001b[0m \u001b[32m━━━━━━━━━━━━━━━━━━━━\u001b[0m\u001b[37m\u001b[0m \u001b[1m11s\u001b[0m 308ms/step - accuracy: 0.6329 - loss: 0.6304 - val_accuracy: 0.4270 - val_loss: 1.5181\n",
      "Epoch 50/50\n",
      "\u001b[1m36/36\u001b[0m \u001b[32m━━━━━━━━━━━━━━━━━━━━\u001b[0m\u001b[37m\u001b[0m \u001b[1m11s\u001b[0m 312ms/step - accuracy: 0.6438 - loss: 0.5957 - val_accuracy: 0.4840 - val_loss: 1.3339\n"
     ]
    }
   ],
   "source": [
    "history = model.fit(\n",
    "    [train_video, train_meteo],\n",
    "    train_label,                \n",
    "    epochs=50,                 \n",
    "    batch_size=32,               \n",
    "    class_weight=class_weight_dict,\n",
    "    validation_split=0.2\n",
    ")"
   ]
  },
  {
   "cell_type": "markdown",
   "id": "8cfbee44",
   "metadata": {},
   "source": [
    "**Plots for training & validation accuracy & loss values**"
   ]
  },
  {
   "cell_type": "code",
   "execution_count": 53,
   "id": "918df92e",
   "metadata": {},
   "outputs": [
    {
     "data": {
      "image/png": "[encoded data removed]",
      "text/plain": [
       "<Figure size 640x480 with 1 Axes>"
      ]
     },
     "metadata": {},
     "output_type": "display_data"
    },
    {
     "data": {
      "image/png": "[encoded data removed]",
      "text/plain": [
       "<Figure size 640x480 with 1 Axes>"
      ]
     },
     "metadata": {},
     "output_type": "display_data"
    }
   ],
   "source": [
    "# Plot training & validation accuracy values\n",
    "plt.plot(history.history['accuracy'])\n",
    "plt.plot(history.history['val_accuracy'])\n",
    "plt.title('Model accuracy')\n",
    "plt.ylabel('Accuracy')\n",
    "plt.xlabel('Epoch')\n",
    "plt.legend(['Train', 'Validation'], loc='upper left')\n",
    "plt.show()\n",
    "\n",
    "# Plot training & validation loss values\n",
    "plt.plot(history.history['loss'])\n",
    "plt.plot(history.history['val_loss'])\n",
    "plt.title('Model loss')\n",
    "plt.ylabel('Loss')\n",
    "plt.xlabel('Epoch')\n",
    "plt.legend(['Train', 'Validation'], loc='upper left')\n",
    "plt.show()"
   ]
  },
  {
   "cell_type": "markdown",
   "id": "c47f213c",
   "metadata": {},
   "source": [
    "**Evaluate the model on the test data**"
   ]
  },
  {
   "cell_type": "code",
   "execution_count": 54,
   "id": "600d8b11",
   "metadata": {},
   "outputs": [
    {
     "name": "stdout",
     "output_type": "stream",
     "text": [
      "\u001b[1m6/6\u001b[0m \u001b[32m━━━━━━━━━━━━━━━━━━━━\u001b[0m\u001b[37m\u001b[0m \u001b[1m0s\u001b[0m 49ms/step - accuracy: 0.3456 - loss: 1.7903\n",
      "Test Loss: 1.8831700086593628\n",
      "Test Accuracy: 0.35428571701049805\n"
     ]
    }
   ],
   "source": [
    "# Evaluate the model on the test data\n",
    "test_loss, test_accuracy = model.evaluate([test_video, test_meteo], test_label)\n",
    "\n",
    "print(f\"Test Loss: {test_loss}\")\n",
    "print(f\"Test Accuracy: {test_accuracy}\")"
   ]
  },
  {
   "cell_type": "markdown",
   "id": "3723a21b",
   "metadata": {},
   "source": [
    "**Prediction on the test dataset**"
   ]
  },
  {
   "cell_type": "code",
   "execution_count": 55,
   "id": "390199f1",
   "metadata": {},
   "outputs": [
    {
     "name": "stdout",
     "output_type": "stream",
     "text": [
      "WARNING:tensorflow:5 out of the last 13 calls to <function TensorFlowTrainer.make_predict_function.<locals>.one_step_on_data_distributed at 0x00000143B0ACA8E0> triggered tf.function retracing. Tracing is expensive and the excessive number of tracings could be due to (1) creating @tf.function repeatedly in a loop, (2) passing tensors with different shapes, (3) passing Python objects instead of tensors. For (1), please define your @tf.function outside of the loop. For (2), @tf.function has reduce_retracing=True option that can avoid unnecessary retracing. For (3), please refer to https://www.tensorflow.org/guide/function#controlling_retracing and https://www.tensorflow.org/api_docs/python/tf/function for  more details.\n",
      "\u001b[1m6/6\u001b[0m \u001b[32m━━━━━━━━━━━━━━━━━━━━\u001b[0m\u001b[37m\u001b[0m \u001b[1m1s\u001b[0m 121ms/step\n",
      "              precision    recall  f1-score   support\n",
      "\n",
      "           0       0.53      0.48      0.51        91\n",
      "           1       0.32      0.27      0.29        60\n",
      "           2       0.06      0.12      0.08        16\n",
      "           3       0.00      0.00      0.00         8\n",
      "\n",
      "    accuracy                           0.35       175\n",
      "   macro avg       0.23      0.22      0.22       175\n",
      "weighted avg       0.39      0.35      0.37       175\n",
      "\n"
     ]
    }
   ],
   "source": [
    "# Predict the test dataset\n",
    "pred_label = model.predict([test_video, test_meteo])\n",
    "\n",
    "# Convert predictions from one-hot to labels\n",
    "pred_label_cat = np.argmax(pred_label, axis=1)\n",
    "true_label_cat = np.argmax(test_label, axis=1)\n",
    "\n",
    "print(classification_report(true_label_cat.flatten(), pred_label_cat.flatten()))"
   ]
  },
  {
   "cell_type": "markdown",
   "id": "892d4d92",
   "metadata": {},
   "source": [
    "**Confusion Matrix**"
   ]
  },
  {
   "cell_type": "code",
   "execution_count": 56,
   "id": "e9f65102",
   "metadata": {},
   "outputs": [
    {
     "data": {
      "image/png": "[encoded data removed]",
      "text/plain": [
       "<Figure size 640x480 with 2 Axes>"
      ]
     },
     "metadata": {},
     "output_type": "display_data"
    }
   ],
   "source": [
    "conmat = confusion_matrix(true_label_cat.flatten(), pred_label_cat.flatten())\n",
    "sns.heatmap(conmat, annot=True, fmt='d', cmap='Blues', xticklabels=labels, yticklabels=labels)\n",
    "\n",
    "plt.title('Confusion Matrix')\n",
    "plt.xlabel('Predicted Label')\n",
    "plt.ylabel('True Label')\n",
    "plt.show()"
   ]
  },
  {
   "cell_type": "markdown",
   "id": "dc39cc60",
   "metadata": {},
   "source": [
    "-----"
   ]
  },
  {
   "cell_type": "markdown",
   "id": "2844dc1f",
   "metadata": {},
   "source": [
    "## Conclusion:\n",
    "**The hybrid model 2 with One CNN layer and 3 RNN LSTM worked well to predict one day in advance covering all four classes, although the accuracies are not that great because of less data after doing aggregations in daily level**"
   ]
  }
 ],
 "metadata": {
  "kernelspec": {
   "display_name": "Python 3 (ipykernel)",
   "language": "python",
   "name": "python3"
  },
  "language_info": {
   "codemirror_mode": {
    "name": "ipython",
    "version": 3
   },
   "file_extension": ".py",
   "mimetype": "text/x-python",
   "name": "python",
   "nbconvert_exporter": "python",
   "pygments_lexer": "ipython3",
   "version": "3.11.5"
  }
 },
 "nbformat": 4,
 "nbformat_minor": 5
}
